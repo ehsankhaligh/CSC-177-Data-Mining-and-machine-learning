{
 "cells": [
  {
   "cell_type": "markdown",
   "metadata": {},
   "source": [
    "Display the data Column "
   ]
  },
  {
   "cell_type": "code",
   "execution_count": 1,
   "metadata": {
    "collapsed": true
   },
   "outputs": [],
   "source": [
    "import pandas as pd\n",
    "\n",
    "pd.set_option('display.max_colwidth', -1)\n",
    "column_names = ['Name', 'ScreenName', 'UserID', 'FollowersCount', 'FriendsCount', 'Location', 'Description', 'CreatedAt', 'StatusID', 'Language', 'Place', 'RetweetCount', 'FavoriteCount', 'Text']"
   ]
  },
  {
   "cell_type": "code",
   "execution_count": null,
   "metadata": {},
   "outputs": [],
   "source": [
    "data_xaa = pd.read_table(\"data/clinton_trump_tweets.txt\", header=None, names=column_names, encoding='ISO-8859-1', dtype='str')\n",
    "data_xaa.head(20)"
   ]
  },
  {
   "cell_type": "code",
   "execution_count": 84,
   "metadata": {
    "collapsed": true
   },
   "outputs": [],
   "source": [
    "#number of rows and columns\n",
    "print(data_xaa.shape)"
   ]
  },
  {
   "cell_type": "code",
   "execution_count": 85,
   "metadata": {
    "collapsed": true
   },
   "outputs": [],
   "source": [
    "#Display Data Types\n",
    "data_xaa.dtypes"
   ]
  },
  {
   "cell_type": "code",
   "execution_count": 27,
   "metadata": {
    "collapsed": true
   },
   "outputs": [],
   "source": [
    "#Cleaned data does not contain RT and contains # or @\n",
    "data_xaa[\"RT\"] = data_xaa[\"Text\"].str.startswith(\"RT\", na=False)\n",
    "data_xaa[\"Hash Bool\"] = data_xaa[\"Text\"].str.contains(\"#\") | data_xaa[\"Text\"].str.contains(\"@\")\n",
    "dataCleaned = data_xaa[(~data_xaa[\"RT\"]) & (data_xaa[\"Hash Bool\"])]\n",
    "\n",
    "#dataCleaned.dtypes\n",
    "#dataCleaned.head(5)"
   ]
  },
  {
   "cell_type": "code",
   "execution_count": 23,
   "metadata": {
    "collapsed": true
   },
   "outputs": [],
   "source": [
    "\"\"\"def filterHashtagsHandles(string):\n",
    "    newStr = ''\n",
    "    for i in string.split():\n",
    "        if i.startswith(\"#\") or i.startswith(\"@\"):\n",
    "            newStr += '' + i\n",
    "    return newStr\"\"\"\n",
    "\n",
    "\n",
    "\"\"\"def filterHashtagsHandles(string):\n",
    "\n",
    "    rowCount = 0\n",
    "    strList = []\n",
    "    \n",
    "    strList.append([])\n",
    "    strList.append([])\n",
    "\n",
    "    \n",
    "    \n",
    "    for i in string.split():\n",
    "        print(i)\n",
    "\n",
    "        if i.startswith(\"#\") or i.startswith(\"@\"):\n",
    "            strList[rowCount].append(i)\n",
    "            \n",
    "    rowCount = rowCount + 1\n",
    "    print(rowCount)\n",
    "    print(\"----------------------------------------\")        \n",
    "  \n",
    "    \n",
    "     \n",
    "    return strList\n",
    "    \n",
    "    if  len(strList) >= 20:\n",
    "        return strList\n",
    "    else:\n",
    "        return \"listSize<20\"  \"\"\"\n",
    "\n",
    "\n",
    "def filterHashtagsHandles(string):\n",
    "    strList = []\n",
    "    for i in string.split():\n",
    "        if i.startswith(\"#\") or i.startswith(\"@\"):\n",
    "            strList.append(i)\n",
    "               \n",
    "    if  len(strList) >= 20:\n",
    "        return strList\n",
    "    else:\n",
    "        return \"listSize<20\"\n"
   ]
  },
  {
   "cell_type": "code",
   "execution_count": 29,
   "metadata": {},
   "outputs": [
    {
     "name": "stderr",
     "output_type": "stream",
     "text": [
      "/Users/Ehsan/anaconda3/lib/python3.6/site-packages/ipykernel_launcher.py:1: SettingWithCopyWarning: \n",
      "A value is trying to be set on a copy of a slice from a DataFrame.\n",
      "Try using .loc[row_indexer,col_indexer] = value instead\n",
      "\n",
      "See the caveats in the documentation: http://pandas.pydata.org/pandas-docs/stable/indexing.html#indexing-view-versus-copy\n",
      "  \"\"\"Entry point for launching an IPython kernel.\n"
     ]
    }
   ],
   "source": [
    "dataCleaned[\"HashHandles\"] = dataCleaned[\"Text\"].apply(filterHashtagsHandles)\n",
    "dataCleanedHashMoreThan20 = dataCleaned[dataCleaned.HashHandles != \"listSize<20\"]\n",
    "#dataCleanedHashMoreThan20.head(10)\n",
    "#dataCleanedHashMoreThan20.dtypes"
   ]
  },
  {
   "cell_type": "code",
   "execution_count": 33,
   "metadata": {
    "collapsed": true
   },
   "outputs": [],
   "source": [
    "#print(dataCleanedHashMoreThan20[\"HashHandles\"])\n",
    "#matrix = dataCleanedHashMoreThan20.as_matrix(columns= dataCleanedHashMoreThan20[\"HashHandles\"])\n",
    "#basket = pd.DataFrame({'Hashtags/Handles': [dataCleaned[\"Hash/Handles\"]]})\n",
    "#basket.head(10)"
   ]
  },
  {
   "cell_type": "code",
   "execution_count": null,
   "metadata": {
    "collapsed": true
   },
   "outputs": [],
   "source": []
  },
  {
   "cell_type": "code",
   "execution_count": 8,
   "metadata": {},
   "outputs": [
    {
     "name": "stdout",
     "output_type": "stream",
     "text": [
      "Number of Records does not include RT \"xab\":766541\n"
     ]
    }
   ],
   "source": [
    "#filtered data Count without RT\n",
    "countRTs = 0\n",
    "for comments in data_xaa.Text:\n",
    "    if not(str(comments).startswith(\"RT\")):\n",
    "        countRTs += 1\n",
    "print(\"Number of Records does not include RT \\\"xab\\\":\" + str(countRTs))"
   ]
  },
  {
   "cell_type": "code",
   "execution_count": 130,
   "metadata": {},
   "outputs": [
    {
     "name": "stdout",
     "output_type": "stream",
     "text": [
      "Number of Records does not include RT \"xab\":779075\n"
     ]
    }
   ],
   "source": [
    "#filtered data Count without RT\n",
    "countRTs1 = 0\n",
    "for comments1 in data_xab.Text:\n",
    "    if not(str(comments1).startswith(\"RT\")):\n",
    "        countRTs1 += 1\n",
    "print(\"Number of Records does not include RT \\\"xab\\\":\" + str(countRTs1))"
   ]
  },
  {
   "cell_type": "code",
   "execution_count": 131,
   "metadata": {},
   "outputs": [
    {
     "name": "stdout",
     "output_type": "stream",
     "text": [
      "Number of Records does not include RT \"xac\":772387\n"
     ]
    }
   ],
   "source": [
    "#filtered data Count without RT\n",
    "countRTs2 = 0\n",
    "for comments2 in data_xac.Text:\n",
    "    if not(str(comments2).startswith(\"RT\")):\n",
    "        countRTs2 += 1\n",
    "print(\"Number of Records does not include RT \\\"xac\\\":\" + str(countRTs2))"
   ]
  },
  {
   "cell_type": "code",
   "execution_count": 132,
   "metadata": {},
   "outputs": [
    {
     "name": "stdout",
     "output_type": "stream",
     "text": [
      "Number of Records does not include RT \"xad\":772387\n"
     ]
    }
   ],
   "source": [
    "#filtered data Count without RT\n",
    "countRTs3 = 0\n",
    "for comments3 in data_xac.Text:\n",
    "    if not(str(comments3).startswith(\"RT\")):\n",
    "        countRTs3 += 1\n",
    "print(\"Number of Records does not include RT \\\"xad\\\":\" + str(countRTs3))"
   ]
  },
  {
   "cell_type": "raw",
   "metadata": {},
   "source": [
    "Extract Data and Write in a new text file:"
   ]
  },
  {
   "cell_type": "code",
   "execution_count": 133,
   "metadata": {
    "collapsed": true
   },
   "outputs": [],
   "source": [
    "cleanfiles =  [\"new_xaa.txt\", \"new_xab.txt\", \"new_xac.txt\", \"new_xad.txt\"]\n",
    "\n",
    "for i in cleanfiles:\n",
    "    ioOperation = open(i, \"w+\")\n",
    "    ioOperation.write(\"Hi\") #Replace with data_xac.head(i) \n",
    "    ioOperation.close()"
   ]
  }
 ],
 "metadata": {
  "kernelspec": {
   "display_name": "Python 3",
   "language": "python",
   "name": "python3"
  },
  "language_info": {
   "codemirror_mode": {
    "name": "ipython",
    "version": 3
   },
   "file_extension": ".py",
   "mimetype": "text/x-python",
   "name": "python",
   "nbconvert_exporter": "python",
   "pygments_lexer": "ipython3",
   "version": "3.6.3"
  }
 },
 "nbformat": 4,
 "nbformat_minor": 2
}
