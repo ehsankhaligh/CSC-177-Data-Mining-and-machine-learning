{
 "cells": [
  {
   "cell_type": "markdown",
   "metadata": {},
   "source": [
    "# CSC 177  Twitter (USA 2016 Presidential Election Data Extraction)\n",
    "# Dr. Haiquan Chen\n",
    "### Team members: Ehsan Hosseinzadeh  Khaligh, Shah Newaz\n"
   ]
  },
  {
   "cell_type": "markdown",
   "metadata": {},
   "source": [
    "#### Remove all retweets first. Remove all users that have less than 20 tweets. For the remaining users, use all available information in the tweets file that you consider useful to extract features for classification. You are also encouraged to use any conclusions you draw in project 1 (clustering) to create any features to improve the classification result.\n",
    "- Load data file"
   ]
  },
  {
   "cell_type": "code",
   "execution_count": 1,
   "metadata": {
    "collapsed": true
   },
   "outputs": [],
   "source": [
    "import pandas as pd\n",
    "import numpy as np\n",
    "import sklearn.cluster as sk_cluster\n",
    "\n",
    "pd.set_option('display.max_colwidth', -1)\n",
    "column_names = ['Name', 'ScreenName', 'UserID', 'FollowersCount', 'FriendsCount', 'Location', 'Description', 'CreatedAt', 'StatusID', 'Language', 'Place', 'RetweetCount', 'FavoriteCount', 'Text']"
   ]
  },
  {
   "cell_type": "code",
   "execution_count": 2,
   "metadata": {
    "collapsed": true
   },
   "outputs": [
    {
     "data": {
      "text/html": [
       "<div>\n",
       "<style>\n",
       "    .dataframe thead tr:only-child th {\n",
       "        text-align: right;\n",
       "    }\n",
       "\n",
       "    .dataframe thead th {\n",
       "        text-align: left;\n",
       "    }\n",
       "\n",
       "    .dataframe tbody tr th {\n",
       "        vertical-align: top;\n",
       "    }\n",
       "</style>\n",
       "<table border=\"1\" class=\"dataframe\">\n",
       "  <thead>\n",
       "    <tr style=\"text-align: right;\">\n",
       "      <th></th>\n",
       "      <th>Name</th>\n",
       "      <th>ScreenName</th>\n",
       "      <th>UserID</th>\n",
       "      <th>FollowersCount</th>\n",
       "      <th>FriendsCount</th>\n",
       "      <th>Location</th>\n",
       "      <th>Description</th>\n",
       "      <th>CreatedAt</th>\n",
       "      <th>StatusID</th>\n",
       "      <th>Language</th>\n",
       "      <th>Place</th>\n",
       "      <th>RetweetCount</th>\n",
       "      <th>FavoriteCount</th>\n",
       "      <th>Text</th>\n",
       "    </tr>\n",
       "  </thead>\n",
       "  <tbody>\n",
       "    <tr>\n",
       "      <th>0</th>\n",
       "      <td>Cebel</td>\n",
       "      <td>Cebel6</td>\n",
       "      <td>1519696717</td>\n",
       "      <td>132</td>\n",
       "      <td>263</td>\n",
       "      <td>Little Rock, Arkansas</td>\n",
       "      <td>Arkansas Razorback Fan Just trying to be #Uncommon one 1-0 day at a time.</td>\n",
       "      <td>Sat Oct 29 08:10:06 EEST 2016</td>\n",
       "      <td>792232017094119425</td>\n",
       "      <td>en</td>\n",
       "      <td>null</td>\n",
       "      <td>0</td>\n",
       "      <td>1</td>\n",
       "      <td>@NWAJimmy I've read it now though brother. Was pretty spot on Lots of bright spots but a lot to work on. Exactly as an exhibition should be!</td>\n",
       "    </tr>\n",
       "    <tr>\n",
       "      <th>1</th>\n",
       "      <td>Cookie</td>\n",
       "      <td>Cookiemuffen</td>\n",
       "      <td>109945090</td>\n",
       "      <td>2154</td>\n",
       "      <td>2034</td>\n",
       "      <td>The American South</td>\n",
       "      <td>Got married after college. I don't regret starting a family instead of grad school. Proud Deplorable</td>\n",
       "      <td>Wed Oct 26 18:44:08 EEST 2016</td>\n",
       "      <td>791304413923213312</td>\n",
       "      <td>en</td>\n",
       "      <td>null</td>\n",
       "      <td>1937</td>\n",
       "      <td>0</td>\n",
       "      <td>RT @wikileaks: New poll puts Pirate Party on course to win Iceland's national elections on Saturday. https://t.co/edTqjeJaQ6</td>\n",
       "    </tr>\n",
       "    <tr>\n",
       "      <th>2</th>\n",
       "      <td>nolaguy</td>\n",
       "      <td>nolaguy_phd</td>\n",
       "      <td>1450086582</td>\n",
       "      <td>797</td>\n",
       "      <td>1188</td>\n",
       "      <td>NaN</td>\n",
       "      <td>An LSU Ph.D student living in New Orleans, trying to find a second act.</td>\n",
       "      <td>Sat Oct 29 21:53:29 EEST 2016</td>\n",
       "      <td>792439227090767872</td>\n",
       "      <td>en</td>\n",
       "      <td>null</td>\n",
       "      <td>0</td>\n",
       "      <td>0</td>\n",
       "      <td>@gaystoner821 I think New Orleans spoiled me with food. I need to try and branch out in BR.</td>\n",
       "    </tr>\n",
       "    <tr>\n",
       "      <th>3</th>\n",
       "      <td>Mark Hager</td>\n",
       "      <td>marksnark</td>\n",
       "      <td>167177185</td>\n",
       "      <td>204</td>\n",
       "      <td>448</td>\n",
       "      <td>Pittsburgh</td>\n",
       "      <td>Hip, trendy, smart, funny, fit, lobbyist. U? Boilerplate: these thoughts are my own, not anyone else's. Hmmmkay?</td>\n",
       "      <td>Wed Oct 26 00:33:20 EEST 2016</td>\n",
       "      <td>791029904733331457</td>\n",
       "      <td>en</td>\n",
       "      <td>null</td>\n",
       "      <td>891</td>\n",
       "      <td>0</td>\n",
       "      <td>RT @LOLGOP: ACA needs fixes but know da facts:  *70% can get covered in marketplaces for under $75/month  *Hikes affect 3% *GOP will uninsu</td>\n",
       "    </tr>\n",
       "    <tr>\n",
       "      <th>4</th>\n",
       "      <td>Capitalist Creations</td>\n",
       "      <td>aaronjhoddinott</td>\n",
       "      <td>1191022351</td>\n",
       "      <td>775</td>\n",
       "      <td>154</td>\n",
       "      <td>Canada</td>\n",
       "      <td>Entrepreneur, startup investor, political junkie, free market supporter, beer connoisseur, dad and dog lover. Also a golf enthusiast despite my lack of skill.</td>\n",
       "      <td>Fri Oct 28 05:05:10 EEST 2016</td>\n",
       "      <td>791823089700962304</td>\n",
       "      <td>en</td>\n",
       "      <td>null</td>\n",
       "      <td>7</td>\n",
       "      <td>0</td>\n",
       "      <td>RT @FastCompany: Alphabet shares soar on better-than-expected earnings as mobile video strategy pays off https://t.co/bokbXngMJt https://t.</td>\n",
       "    </tr>\n",
       "  </tbody>\n",
       "</table>\n",
       "</div>"
      ],
      "text/plain": [
       "                   Name       ScreenName      UserID FollowersCount  \\\n",
       "0  Cebel                 Cebel6           1519696717  132             \n",
       "1  Cookie                Cookiemuffen     109945090   2154            \n",
       "2  nolaguy               nolaguy_phd      1450086582  797             \n",
       "3  Mark Hager            marksnark        167177185   204             \n",
       "4  Capitalist Creations  aaronjhoddinott  1191022351  775             \n",
       "\n",
       "  FriendsCount               Location  \\\n",
       "0  263          Little Rock, Arkansas   \n",
       "1  2034         The American South      \n",
       "2  1188         NaN                     \n",
       "3  448          Pittsburgh              \n",
       "4  154          Canada                  \n",
       "\n",
       "                                                                                                                                                      Description  \\\n",
       "0  Arkansas Razorback Fan Just trying to be #Uncommon one 1-0 day at a time.                                                                                        \n",
       "1  Got married after college. I don't regret starting a family instead of grad school. Proud Deplorable                                                             \n",
       "2  An LSU Ph.D student living in New Orleans, trying to find a second act.                                                                                          \n",
       "3  Hip, trendy, smart, funny, fit, lobbyist. U? Boilerplate: these thoughts are my own, not anyone else's. Hmmmkay?                                                 \n",
       "4  Entrepreneur, startup investor, political junkie, free market supporter, beer connoisseur, dad and dog lover. Also a golf enthusiast despite my lack of skill.   \n",
       "\n",
       "                       CreatedAt            StatusID Language Place  \\\n",
       "0  Sat Oct 29 08:10:06 EEST 2016  792232017094119425  en       null   \n",
       "1  Wed Oct 26 18:44:08 EEST 2016  791304413923213312  en       null   \n",
       "2  Sat Oct 29 21:53:29 EEST 2016  792439227090767872  en       null   \n",
       "3  Wed Oct 26 00:33:20 EEST 2016  791029904733331457  en       null   \n",
       "4  Fri Oct 28 05:05:10 EEST 2016  791823089700962304  en       null   \n",
       "\n",
       "  RetweetCount FavoriteCount  \\\n",
       "0  0            1              \n",
       "1  1937         0              \n",
       "2  0            0              \n",
       "3  891          0              \n",
       "4  7            0              \n",
       "\n",
       "                                                                                                                                           Text  \n",
       "0  @NWAJimmy I've read it now though brother. Was pretty spot on Lots of bright spots but a lot to work on. Exactly as an exhibition should be!  \n",
       "1  RT @wikileaks: New poll puts Pirate Party on course to win Iceland's national elections on Saturday. https://t.co/edTqjeJaQ6                  \n",
       "2  @gaystoner821 I think New Orleans spoiled me with food. I need to try and branch out in BR.                                                   \n",
       "3  RT @LOLGOP: ACA needs fixes but know da facts:  *70% can get covered in marketplaces for under $75/month  *Hikes affect 3% *GOP will uninsu   \n",
       "4  RT @FastCompany: Alphabet shares soar on better-than-expected earnings as mobile video strategy pays off https://t.co/bokbXngMJt https://t.   "
      ]
     },
     "execution_count": 2,
     "metadata": {},
     "output_type": "execute_result"
    }
   ],
   "source": [
    "data_xaa = pd.read_table(\"data/clinton_trump_tweets.txt\", header=None, names=column_names, encoding='ISO-8859-1', dtype='str')\n",
    "data_xaa.head()"
   ]
  },
  {
   "cell_type": "code",
   "execution_count": 699,
   "metadata": {
    "collapsed": true
   },
   "outputs": [
    {
     "data": {
      "text/html": [
       "<div>\n",
       "<style>\n",
       "    .dataframe thead tr:only-child th {\n",
       "        text-align: right;\n",
       "    }\n",
       "\n",
       "    .dataframe thead th {\n",
       "        text-align: left;\n",
       "    }\n",
       "\n",
       "    .dataframe tbody tr th {\n",
       "        vertical-align: top;\n",
       "    }\n",
       "</style>\n",
       "<table border=\"1\" class=\"dataframe\">\n",
       "  <thead>\n",
       "    <tr style=\"text-align: right;\">\n",
       "      <th></th>\n",
       "      <th>Name</th>\n",
       "      <th>ScreenName</th>\n",
       "      <th>UserID</th>\n",
       "      <th>FollowersCount</th>\n",
       "      <th>FriendsCount</th>\n",
       "      <th>Location</th>\n",
       "      <th>Description</th>\n",
       "      <th>CreatedAt</th>\n",
       "      <th>StatusID</th>\n",
       "      <th>Language</th>\n",
       "      <th>Place</th>\n",
       "      <th>RetweetCount</th>\n",
       "      <th>FavoriteCount</th>\n",
       "      <th>Text</th>\n",
       "      <th>RT</th>\n",
       "      <th>Hash Bool</th>\n",
       "    </tr>\n",
       "  </thead>\n",
       "  <tbody>\n",
       "    <tr>\n",
       "      <th>0</th>\n",
       "      <td>Cebel</td>\n",
       "      <td>Cebel6</td>\n",
       "      <td>1519696717</td>\n",
       "      <td>132</td>\n",
       "      <td>263</td>\n",
       "      <td>Little Rock, Arkansas</td>\n",
       "      <td>Arkansas Razorback Fan Just trying to be #Uncommon one 1-0 day at a time.</td>\n",
       "      <td>Sat Oct 29 08:10:06 EEST 2016</td>\n",
       "      <td>792232017094119425</td>\n",
       "      <td>en</td>\n",
       "      <td>null</td>\n",
       "      <td>0</td>\n",
       "      <td>1</td>\n",
       "      <td>@NWAJimmy I've read it now though brother. Was pretty spot on Lots of bright spots but a lot to work on. Exactly as an exhibition should be!</td>\n",
       "      <td>False</td>\n",
       "      <td>True</td>\n",
       "    </tr>\n",
       "    <tr>\n",
       "      <th>2</th>\n",
       "      <td>nolaguy</td>\n",
       "      <td>nolaguy_phd</td>\n",
       "      <td>1450086582</td>\n",
       "      <td>797</td>\n",
       "      <td>1188</td>\n",
       "      <td>NaN</td>\n",
       "      <td>An LSU Ph.D student living in New Orleans, trying to find a second act.</td>\n",
       "      <td>Sat Oct 29 21:53:29 EEST 2016</td>\n",
       "      <td>792439227090767872</td>\n",
       "      <td>en</td>\n",
       "      <td>null</td>\n",
       "      <td>0</td>\n",
       "      <td>0</td>\n",
       "      <td>@gaystoner821 I think New Orleans spoiled me with food. I need to try and branch out in BR.</td>\n",
       "      <td>False</td>\n",
       "      <td>True</td>\n",
       "    </tr>\n",
       "    <tr>\n",
       "      <th>6</th>\n",
       "      <td>David Walling</td>\n",
       "      <td>davidjwalling</td>\n",
       "      <td>106568768</td>\n",
       "      <td>975</td>\n",
       "      <td>2781</td>\n",
       "      <td>Dallas, TX</td>\n",
       "      <td>Bloodletting secure algorithms close to the bone. #HealthIT security matters. Opinions my own. https://t.co/Dcpe6FteOq</td>\n",
       "      <td>Sat Oct 29 00:16:48 EEST 2016</td>\n",
       "      <td>792112907488079872</td>\n",
       "      <td>en</td>\n",
       "      <td>null</td>\n",
       "      <td>0</td>\n",
       "      <td>0</td>\n",
       "      <td>#infosec #Intel #ACM #IEEE  Impacts Haswell microarch. Paper proposes mitigations that could prevent BTB-based side https://t.co/DW6vgRAPrv</td>\n",
       "      <td>False</td>\n",
       "      <td>True</td>\n",
       "    </tr>\n",
       "    <tr>\n",
       "      <th>12</th>\n",
       "      <td>Alexandria Taylor</td>\n",
       "      <td>twentythreeofme</td>\n",
       "      <td>163712593</td>\n",
       "      <td>1342</td>\n",
       "      <td>1346</td>\n",
       "      <td>Portland, Oregon</td>\n",
       "      <td>Activist | Creator | Educator | #FemTube Host | Passion Project: #DisabilitiesOnYT Panels | Want to participate? https://t.co/IYy6JVqmo5</td>\n",
       "      <td>Tue Oct 25 19:41:52 EEST 2016</td>\n",
       "      <td>790956555030061056</td>\n",
       "      <td>en</td>\n",
       "      <td>PlaceJSONImpl{name='Washington', streetAddress='null', countryCode='US', id='bc3a38d3d5999b4b', country='United States', placeType='admin', url='https://api.twitter.com/1.1/geo/id/bc3a38d3d5999b4b.json', fullName='Washington, USA', boundingBoxType='Polygon', boundingBoxCoordinates=[[Ltwitter4j.GeoLocation;@5ad5215f], geometryType='null', geometryCoordinates=null, containedWithIn=[]}</td>\n",
       "      <td>0</td>\n",
       "      <td>7</td>\n",
       "      <td>Well, I'm glad you got a good haircut, America's in the toilet. Is this not a conversation @Haylie_Bre and I woul https://t.co/6dVIIKZcgv</td>\n",
       "      <td>False</td>\n",
       "      <td>True</td>\n",
       "    </tr>\n",
       "    <tr>\n",
       "      <th>13</th>\n",
       "      <td>Harry Binford</td>\n",
       "      <td>CaptainNormal</td>\n",
       "      <td>2447279666</td>\n",
       "      <td>895</td>\n",
       "      <td>1224</td>\n",
       "      <td>USA</td>\n",
       "      <td>Proud Christian husband, frequent shooting range attendee, and former law enforcement. Lifetime member of the NRA. Pro-life, Jesus is Lord. America first.</td>\n",
       "      <td>Thu Oct 27 21:44:44 EEST 2016</td>\n",
       "      <td>791712249685676032</td>\n",
       "      <td>en</td>\n",
       "      <td>null</td>\n",
       "      <td>0</td>\n",
       "      <td>0</td>\n",
       "      <td>@WayneDupreeShow #climatechange is the democrats' attempt to play God</td>\n",
       "      <td>False</td>\n",
       "      <td>True</td>\n",
       "    </tr>\n",
       "  </tbody>\n",
       "</table>\n",
       "</div>"
      ],
      "text/plain": [
       "                 Name       ScreenName      UserID FollowersCount  \\\n",
       "0   Cebel              Cebel6           1519696717  132             \n",
       "2   nolaguy            nolaguy_phd      1450086582  797             \n",
       "6   David Walling      davidjwalling    106568768   975             \n",
       "12  Alexandria Taylor  twentythreeofme  163712593   1342            \n",
       "13  Harry Binford      CaptainNormal    2447279666  895             \n",
       "\n",
       "   FriendsCount               Location  \\\n",
       "0   263          Little Rock, Arkansas   \n",
       "2   1188         NaN                     \n",
       "6   2781         Dallas, TX              \n",
       "12  1346         Portland, Oregon        \n",
       "13  1224         USA                     \n",
       "\n",
       "                                                                                                                                                   Description  \\\n",
       "0   Arkansas Razorback Fan Just trying to be #Uncommon one 1-0 day at a time.                                                                                    \n",
       "2   An LSU Ph.D student living in New Orleans, trying to find a second act.                                                                                      \n",
       "6   Bloodletting secure algorithms close to the bone. #HealthIT security matters. Opinions my own. https://t.co/Dcpe6FteOq                                       \n",
       "12  Activist | Creator | Educator | #FemTube Host | Passion Project: #DisabilitiesOnYT Panels | Want to participate? https://t.co/IYy6JVqmo5                     \n",
       "13  Proud Christian husband, frequent shooting range attendee, and former law enforcement. Lifetime member of the NRA. Pro-life, Jesus is Lord. America first.   \n",
       "\n",
       "                        CreatedAt            StatusID Language  \\\n",
       "0   Sat Oct 29 08:10:06 EEST 2016  792232017094119425  en        \n",
       "2   Sat Oct 29 21:53:29 EEST 2016  792439227090767872  en        \n",
       "6   Sat Oct 29 00:16:48 EEST 2016  792112907488079872  en        \n",
       "12  Tue Oct 25 19:41:52 EEST 2016  790956555030061056  en        \n",
       "13  Thu Oct 27 21:44:44 EEST 2016  791712249685676032  en        \n",
       "\n",
       "                                                                                                                                                                                                                                                                                                                                                                                                Place  \\\n",
       "0   null                                                                                                                                                                                                                                                                                                                                                                                                \n",
       "2   null                                                                                                                                                                                                                                                                                                                                                                                                \n",
       "6   null                                                                                                                                                                                                                                                                                                                                                                                                \n",
       "12  PlaceJSONImpl{name='Washington', streetAddress='null', countryCode='US', id='bc3a38d3d5999b4b', country='United States', placeType='admin', url='https://api.twitter.com/1.1/geo/id/bc3a38d3d5999b4b.json', fullName='Washington, USA', boundingBoxType='Polygon', boundingBoxCoordinates=[[Ltwitter4j.GeoLocation;@5ad5215f], geometryType='null', geometryCoordinates=null, containedWithIn=[]}   \n",
       "13  null                                                                                                                                                                                                                                                                                                                                                                                                \n",
       "\n",
       "   RetweetCount FavoriteCount  \\\n",
       "0   0            1              \n",
       "2   0            0              \n",
       "6   0            0              \n",
       "12  0            7              \n",
       "13  0            0              \n",
       "\n",
       "                                                                                                                                            Text  \\\n",
       "0   @NWAJimmy I've read it now though brother. Was pretty spot on Lots of bright spots but a lot to work on. Exactly as an exhibition should be!   \n",
       "2   @gaystoner821 I think New Orleans spoiled me with food. I need to try and branch out in BR.                                                    \n",
       "6   #infosec #Intel #ACM #IEEE  Impacts Haswell microarch. Paper proposes mitigations that could prevent BTB-based side https://t.co/DW6vgRAPrv    \n",
       "12  Well, I'm glad you got a good haircut, America's in the toilet. Is this not a conversation @Haylie_Bre and I woul https://t.co/6dVIIKZcgv      \n",
       "13  @WayneDupreeShow #climatechange is the democrats' attempt to play God                                                                          \n",
       "\n",
       "       RT  Hash Bool  \n",
       "0   False  True       \n",
       "2   False  True       \n",
       "6   False  True       \n",
       "12  False  True       \n",
       "13  False  True       "
      ]
     },
     "execution_count": 699,
     "metadata": {},
     "output_type": "execute_result"
    }
   ],
   "source": [
    "data_xaa[\"RT\"] = data_xaa[\"Text\"].str.startswith(\"RT\", na=False)\n",
    "data_xaa[\"Hash Bool\"] = data_xaa[\"Text\"].str.contains(\"#\") | data_xaa[\"Text\"].str.contains(\"@\")\n",
    "\n",
    "dataCleaned = data_xaa[(~data_xaa[\"RT\"]) & (data_xaa[\"Hash Bool\"])]\n",
    "\n",
    "dataCleaned.head()"
   ]
  },
  {
   "cell_type": "code",
   "execution_count": 700,
   "metadata": {},
   "outputs": [
    {
     "data": {
      "text/plain": [
       "(1531780, 16)"
      ]
     },
     "execution_count": 700,
     "metadata": {},
     "output_type": "execute_result"
    }
   ],
   "source": [
    "dataCleaned.shape"
   ]
  },
  {
   "cell_type": "markdown",
   "metadata": {},
   "source": [
    "- keep users that have at least 20 tweets (either a hashtag or handle). "
   ]
  },
  {
   "cell_type": "markdown",
   "metadata": {},
   "source": [
    "- filter text column to keep only #. We have decided to do not keep handles in the data set. Because we don’t have enough information about the users to find out their political interest.  Without knowing their political interests we just have names which may make our model more complex and to overfit data. "
   ]
  },
  {
   "cell_type": "code",
   "execution_count": 652,
   "metadata": {
    "collapsed": true
   },
   "outputs": [],
   "source": [
    "def filterHashtags(string):\n",
    "    strList = []\n",
    "    for i in string.split():\n",
    "        if i.startswith(\"#\"): \n",
    "            strList.append(i)\n",
    "               \n",
    "    if  len(strList) >= 20:\n",
    "        return strList\n",
    "    else:\n",
    "        return \"listSize<20\""
   ]
  },
  {
   "cell_type": "code",
   "execution_count": 653,
   "metadata": {
    "collapsed": true
   },
   "outputs": [
    {
     "name": "stderr",
     "output_type": "stream",
     "text": [
      "/Users/Ehsan/anaconda3/lib/python3.6/site-packages/ipykernel_launcher.py:1: SettingWithCopyWarning: \n",
      "A value is trying to be set on a copy of a slice from a DataFrame.\n",
      "Try using .loc[row_indexer,col_indexer] = value instead\n",
      "\n",
      "See the caveats in the documentation: http://pandas.pydata.org/pandas-docs/stable/indexing.html#indexing-view-versus-copy\n",
      "  \"\"\"Entry point for launching an IPython kernel.\n"
     ]
    },
    {
     "data": {
      "text/html": [
       "<div>\n",
       "<style>\n",
       "    .dataframe thead tr:only-child th {\n",
       "        text-align: right;\n",
       "    }\n",
       "\n",
       "    .dataframe thead th {\n",
       "        text-align: left;\n",
       "    }\n",
       "\n",
       "    .dataframe tbody tr th {\n",
       "        vertical-align: top;\n",
       "    }\n",
       "</style>\n",
       "<table border=\"1\" class=\"dataframe\">\n",
       "  <thead>\n",
       "    <tr style=\"text-align: right;\">\n",
       "      <th></th>\n",
       "      <th>Name</th>\n",
       "      <th>ScreenName</th>\n",
       "      <th>UserID</th>\n",
       "      <th>FollowersCount</th>\n",
       "      <th>FriendsCount</th>\n",
       "      <th>Location</th>\n",
       "      <th>Description</th>\n",
       "      <th>CreatedAt</th>\n",
       "      <th>StatusID</th>\n",
       "      <th>Language</th>\n",
       "      <th>Place</th>\n",
       "      <th>RetweetCount</th>\n",
       "      <th>FavoriteCount</th>\n",
       "      <th>Text</th>\n",
       "      <th>RT</th>\n",
       "      <th>Hash Bool</th>\n",
       "      <th>tweets</th>\n",
       "    </tr>\n",
       "  </thead>\n",
       "  <tbody>\n",
       "    <tr>\n",
       "      <th>2232</th>\n",
       "      <td>Colleen Allen</td>\n",
       "      <td>Colleen_Allen14</td>\n",
       "      <td>1561696464</td>\n",
       "      <td>292</td>\n",
       "      <td>1180</td>\n",
       "      <td>Seattle, Washington</td>\n",
       "      <td>School Psychologist  Social Justice  Feminism  Education  Books  Leadership  Soccer  Vegetarian/Vegan Cooking  Nature  German Shepherds</td>\n",
       "      <td>Sun Oct 30 23:53:14 EET 2016</td>\n",
       "      <td>792846850185236480</td>\n",
       "      <td>en</td>\n",
       "      <td>null</td>\n",
       "      <td>0</td>\n",
       "      <td>1</td>\n",
       "      <td>I didnt quit Second City because of Donald Trump. I quit because I am excellent, &amp; I demand excellence from those https://t.co/dJxR8DciyY\\r\\nGreg Mayfield\\tgreg_gmayfield\\t2262202274\\t149\\t169\\t\\t\\tWed Oct 26 05:03:57 EEST 2016\\t791098006061785088\\ten\\tnull\\t648\\t0\\tRT @WDFx2EU7: Rejoice! NBC Nightly News just reported on Obama's involvement with Hillary and her email scandal\\r\\nCherie_Cook\\tcdcook\\t21884573\\t81\\t64\\tMichigan\\t\\tThu Oct 27 17:48:17 EEST 2016\\t791652744805351424\\ten\\tnull\\t1\\t0\\tRT @IsraelHayomEng: Ancient scroll dating from 7th century BCE mentions Jerusalem https://t.co/Epvyj86cbA @UNESCO\\r\\nSeedyNastyVOTER\\tseedywumps\\t17346357\\t3032\\t2790\\tlib utopia, with unicorns\\tCompassionate humanist. Left leaning. NO to RW nonsense. #gunsense, #humanrights #LGBTQStraightally #vegan #addict #UniteBlue\\tFri Oct 28 08:28:15 EEST 2016\\t791874195240079360\\ten\\tnull\\t315\\t0\\tRT @DavidCornDC: He'll file Chapter 11, stiff his vendors, get a raise, and all will be fine. https://t.co/ySxwP7DFX4\\r\\nChris11962\\tChris11962\\t190878483\\t7116\\t6341\\tNYC\\tRightie, political junkie, insomniac &amp; deplorable. GO @realDonaldTrump! #MAGA! Trump supporters, follow me &amp; I'll follow back. Lists = blocked.\\tMon Oct 31 01:16:00 EET 2016\\t792867679854010368\\ten\\tnull\\t2\\t0\\tRT @Drbillsawyer: Life is not fair, but God is always faithful!\\r\\nOwen Barcala\\tobarcala\\t1358247302\\t236\\t735\\t\\tMA attorney. Trials, appeals, plaintiff, defense, you name it. Opinions are my own, not my employer's.\\tFri Oct 28 22:26:18 EEST 2016\\t792085101144223744\\ten\\tnull\\t202\\t0\\tRT @BenjySarlin: The Anthony Weiner sexting story broke five years ago. Its aftershocks are now threatening to upend a presidential electio\\r\\nJanette Barrios\\tjbarpr\\t17912541\\t89\\t339\\tSilicon Valley\\tPR pro, wife, mom, former music educator, views are my own. Seeker of creative, uplifting and beautiful things\\tFri Oct 28 06:54:02 EEST 2016\\t791850487439949824\\ten\\tnull\\t1128\\t0\\tRT @SteveKopack: .@FLOTUS dancing behind HRC right now https://t.co/RJ8pp7VCcI\\r\\nWise_Diva\\twise_diva\\t14346779\\t5008\\t3520\\tIn the sky\\tRetired AJC Dating Blogger/Biotech Fan\\tMon Oct 31 04:13:30 EET 2016\\t792912349036294144\\ten\\tnull\\t535\\t0\\tRT @peterdaou: Richard Branson: @realDonaldTrump told me he wanted to spend his life destroying people https://t.co/gJAfTGG4RJ\\r\\n#SaveAgentCarter\\tlibbyshoe\\t15928609\\t211\\t457\\tLos Angeles\\tAssistant Editor/ Editor. Writer. Insomniac. #I'mWithHer\\tFri Oct 28 20:36:50 EEST 2016\\t792057550598352896\\ten\\tnull\\t1364\\t0\\tRT @mmurraypolitics: Agreed. FBI should answer all questions about this.   Otherwise, truly looks like they're putting their finger on the\\r\\n55degreeNorth\\tREV_20_10\\t14974705\\t516\\t543\\teverywhere\\twhite, British vehemently oppose Islam, therefore I am racist.\\tThu Oct 27 00:31:10 EEST 2016\\t791391746638901248\\ten\\tnull\\t1027\\t0\\tRT @col_nj: The Clinton's R So Screwed Up Bill Thinks Hillary's Close Work w/ A TERRORIST Org Is Boast Worthy  Think About That  #wednesday\\r\\nJanice G Washington\\tJaniceGW\\t15726120\\t3322\\t4999\\tInstagram: janicegwashington\\tLet me be clear as I can be: In politics and in life, ignorance is not a virtue. It's not cool to not know what you're talking about. President Obama-5/15/16\\tSat Oct 29 17:31:29 EEST 2016\\t792373293302939649\\ten\\tnull\\t1100\\t0\\tRT @paulkrugman: Jane Mayer on why this was unprecedented and disgraceful https://t.co/TTjLtVXwAM\\r\\nbrian b\\talohabrianb\\t2161362299\\t671\\t592\\tJax Beach, FL USA\\tLove the USA, Freedom, my Wife, the Beach, Motorcycles, Jeeps, Hotrods, Veterans and Cold Beers.\\tWed Oct 26 05:09:38 EEST 2016\\t791099438597083137\\ten\\tnull\\t1190\\t0\\tRT @BringerOfRain88: Well this has to be Awkward. #DNCleak #BernieMustDisavow https://t.co/vFHx62VyAI\\r\\nKyle Huff\\tHuff_Kyle_5\\t1027542096\\t527\\t720\\tPub\\tFuck Fsu\\tWed Oct 26 16:12:21 EEST 2016\\t791266216325308416\\ten\\tPlaceJSONImpl{name='Florida', streetAddress='null', countryCode='US', id='4ec01c9dbc693497', country='United States', placeType='admin', url='https://api.twitter.com/1.1/geo/id/4ec01c9dbc693497.json', fullName='Florida, USA', boundingBoxType='Polygon', boundingBoxCoordinates=[[Ltwitter4j.GeoLocation;@28bf82d9], geometryType='null', geometryCoordinates=null, containedWithIn=[]}\\t0\\t1\\tHappy birthday pauly, hope it's a good one @p_cattt\\r\\nSherri Brown\\tSherriB13865518\\t1473923509\\t88\\t130\\t\\t\\tSat Oct 29 05:06:49 EEST 2016\\t792185892756557824\\ten\\tnull\\t2478\\t0\\tRT @AndyWHumphreys: NYT: Clintons Failed to Disclose $2.35M Donation from Russian-Owned Uranium Corp - Breitbart https://t.co/6dTR2SBf79 @D\\r\\nStephen Liss\\tstephen_liss\\t16958260\\t1858\\t4074\\tKenmore, WA, USA\\tI'm OK. You? Disturbing shit. Putting one foot in front of the other. Generally glad to have a pulse. Between jobs and looking to upgrade.\\tSun Oct 30 02:22:56 EEST 2016\\t792507037477244928\\ten\\tnull\\t0\\t0\\tThat is a cruel way to kill an animal. No living creature should be treated that way. This is an obscenity, of the https://t.co/NIo1QS65Cn\\r\\nNadine Catalano\\tNadineCatalano\\t1431351878\\t345\\t289\\tUnited States\\tMaster Gardener, Recipient of Blue Ribbons for Floral Design and Horticulture,numerous other colors too!\\tThu Oct 27 21:58:54 EEST 2016\\t791715816207155200\\ten\\tnull\\t19861\\t0\\tRT @realDonaldTrump: A lot of call-ins about vote flipping at the voting booths in Texas. People are not happy. BIG lines. What is going on?\\r\\nTammy Kennedy\\tJaJasplace\\t150674523\\t277\\t614\\t\\t\\tFri Oct 28 18:14:06 EEST 2016\\t792021629333282816\\ten\\tnull\\t0\\t0\\tI'm Driving  - Sent from My Car\\r\\nNEWS/SPORTS GIST\\tgistpunch\\t230258562\\t570\\t289\\tLagos\\tLatest News on Entertainment, Sport, Music and Politics around the Globe. Contact us on 08095381635 and gistpunch@gmail.com for Advertisement\\tTue Oct 25 20:25:23 EEST 2016\\t790967504717815808\\ten\\tnull\\t0\\t0\\tMom Holds Separated Twin For First Time, Says Its The Best Moment Of Her Life https://t.co/oU3wmegMe6 https://t.co/mtCTTpVQ8k\\r\\nNasty Science Pussy\\tMadSciKat\\t15176566\\t2735\\t2826\\tState of Chaos\\t#VoteBLUE #p2 =^..^=\\tThu Oct 27 07:52:30 EEST 2016\\t791502813218177024\\ten\\tnull\\t0\\t0\\tWhatever. I almost hope he takes #Utah outright, just to rub #Trumps nose in it. =^..^= #McMullin #NeverTrump https://t.co/hp8FAPjyfJ\\r\\nJakob Hassan\\thassanjakob\\t1041221028\\t449\\t850\\tSteeler Nation\\tIf I weren't crazy, I'd be insane!\\tThu Oct 27 14:56:12 EEST 2016\\t791609441288392706\\ten\\tnull\\t2\\t0\\tRT @hammertime1009: Lol how did Houston lose?\\r\\nBHM - Disposition\\tDave_BHM\\t1408921885\\t2459\\t260\\tIreland\\t\\tSat Oct 29 21:41:12 EEST 2016\\t792436137298014208\\ten\\tnull\\t0\\t0\\t@Aderpt_ im buying a strix 1070 in about 2 weeks\\r\\nNattyNoles13\\tNattyNoles13\\t231282120\\t283\\t1573\\tOrlando, FL\\tBorn again!! Bible-believing follower of Jesus Christ!! Pentecostal. FSU Seminoles, Washington Redskins, Jay Royals, UWF Argonauts, UAB Blazers\\tWed Oct 26 04:03:45 EEST 2016\\t791082855845793792\\ten\\tnull\\t29\\t0\\tRT @Jerusalem_Post: Gambia announces withdrawal from International Criminal Court https://t.co/mOjz6Rdf3h #BreakingNews\\r\\nTheresa snow\\tlantetrain\\t144284113\\t2163\\t2174\\tCanada\\tObSess with #ROOKIEBLUE #MCSWAREK #BenBass #ChicagoFire #Dawsey Fans of #ChicagoPD #Linstead #GH #Lante #TML Fan soul sista @gaellicious &amp; @Justicerocks11\\tFri Oct 28 23:58:46 EEST 2016\\t792108370081775621\\ten\\tnull\\t0\\t1\\t@BlackhawkDesign Getting right on that and I really hope Nike does indeed release these for real. Cause I would so https://t.co/5Zm3xfw7il\\r\\nCarmen Carratini\\tmeralda\\t21972530\\t411\\t805\\tFlorida,USA\\tINDEPENDENT CONSERVATIVE, CATHOLIC, AMERICAN AND PROUD OF IT! MOM, WIFE, DAUGHTER, NEW YORKER AND PATRIOT!\\tThu Oct 27 05:41:54 EEST 2016\\t791469946794446848\\ten\\tnull\\t9981\\t0\\tRT @realDonaldTrump: Beautiful evening in Kinston, North Carolina - thank you! Get out and VOTE!! You can watch tonight's rally here: https\\r\\nBertAnderson\\tBertAnderson\\t12365662\\t756\\t1315\\tAndover, MA\\tHusband, father, grandfather of twin boys, engineer, gourmet cook,  pit master, gardener, maven, tweeter, skeptic, lover of life, patriot. Born of the Sun.\\tFri Oct 28 01:44:33 EEST 2016\\t791772603128115200\\ten\\tnull\\t1110\\t0\\tRT @TEN_GOP: Herman Cain: Barack Obama thinks he's the president of the world, when instead...he's a failed president of the USA.\"  #Thurs</td>\n",
       "      <td>False</td>\n",
       "      <td>True</td>\n",
       "      <td>[#gunsense,, #humanrights, #LGBTQStraightally, #vegan, #addict, #UniteBlue, #MAGA!, #SaveAgentCarter, #I'mWithHer, #wednesday, #DNCleak, #BernieMustDisavow, #VoteBLUE, #p2, #Utah, #Trumps, #McMullin, #NeverTrump, #BreakingNews, #ROOKIEBLUE, #MCSWAREK, #BenBass, #ChicagoFire, #Dawsey, #ChicagoPD, #Linstead, #GH, #Lante, #TML, #Thurs]</td>\n",
       "    </tr>\n",
       "    <tr>\n",
       "      <th>6790</th>\n",
       "      <td>Tina Spargo</td>\n",
       "      <td>MaxwellsMom</td>\n",
       "      <td>16485488</td>\n",
       "      <td>102</td>\n",
       "      <td>122</td>\n",
       "      <td>Boston-ish</td>\n",
       "      <td>NaN</td>\n",
       "      <td>Sat Oct 29 21:12:57 EEST 2016</td>\n",
       "      <td>792429027512422400</td>\n",
       "      <td>en</td>\n",
       "      <td>null</td>\n",
       "      <td>0</td>\n",
       "      <td>0</td>\n",
       "      <td>All the big things turned out to not exist. No, there is no evidence to suggest these new emails were covered... https://t.co/ai5LTbwD0j\\r\\nSarah Coggins\\tspcoggins\\t14824820\\t2698\\t2545\\tRaleigh, NC\\tMom to 2. #NCSU alum. Sharing my crafts &amp; #DIY projects. #foreclosuretohome Mombassador for @NellosSauce. Also at https://t.co/uAKmCZeAO3 | #WeAreNotThis\\tWed Oct 26 19:31:06 EEST 2016\\t791316234637803521\\ten\\tnull\\t0\\t0\\tTreat your guests to one of these fun #Halloween beverages https://t.co/KRxo3KAPFy #DreamCreateInspire #recipe https://t.co/3chJYxT1ZO\\r\\nUNIVERSEGAGA\\tmonster_bri\\t181805248\\t1745\\t1641\\tLos Angeles, CA\\t#ImWithHer #NeverHitlerTrump #ProSaneDemocrats it's okay not to be okay and I'm okay with that.\\tSat Oct 29 21:07:52 EEST 2016\\t792427748555763712\\ten\\tnull\\t23\\t0\\tRT @hill55willie: Hillary will win the election but if we don't change the House and Senate we will continue to have nothing but Obstructio\\r\\nNaomi Parkhurst\\tnaogannet\\t15770872\\t418\\t370\\t\\tHand craft lover (particularly the fiber arts) and librarian. Knitting  designer. she/her. https://t.co/kdGxpvbKWK\\tSun Oct 30 03:55:19 EEST 2016\\t792530285544046592\\ten\\tnull\\t0\\t1\\tHm. Need to figure out what to read for bed. Perhaps I'll reread Greenglass House.\\r\\nclorin1049\\tclorin1049\\t166641050\\t99\\t472\\tNorthern Kentucky\\tfollow me on Facebook also to interact\\tMon Oct 31 02:15:51 EET 2016\\t792882742044360708\\ten\\tnull\\t0\\t0\\tMirko Sata: The Rise of Another Genius White Ink Tattooer https://t.co/vqqXf8myOr\\r\\nQuint Studer\\tquint_studer\\t1399733450\\t5100\\t1686\\t\\t\\tTue Oct 25 18:56:58 EEST 2016\\t790945254170058752\\ten\\tnull\\t9\\t0\\tRT @Reds: That's easy... @ZVincej... Gold Glove winning shortstop, leader of our team in Pensacola. The guy did it all. https://t.co/X6QD7h\\r\\nJames Wrate\\tWrateJames\\t2495637565\\t2738\\t2837\\tKuala Lumpur Federal Territory\\tPlease remember TRUMP supporters are stupid #imwithher Hillary Clinton For President #estoyconella  Mexican American and United States Air Force Veteran\\tSun Oct 30 12:58:54 EET 2016\\t792682184683446273\\ten\\tnull\\t40\\t0\\tRT @2016Opinion: It's vital to turn Senate blue and turn as many house seats as we can. Repubs vow more witch-hunts &amp; set to block everythi\\r\\nTodd Spoth\\ttoddspoth\\t15509908\\t1874\\t1721\\tHouston, Texas\\tCommercial &amp; editorial photographer, music producer based in Houston, Texas, USA. 832-265-3486 | info@toddspoth.com | http://t.co/LeZ6FqHcbq\\tTue Oct 25 20:40:59 EEST 2016\\t790971431785857024\\ten\\tnull\\t0\\t1\\tOk World, I woke up, answered my emails, turned down like 4 terrible photo requests and now its time to get a few good ones to make it up!\\r\\nKimberly\\tKimeeAnnR\\t1024508293\\t601\\t458\\tTexas, USA\\tLife is precious!!\\tTue Oct 25 18:55:39 EEST 2016\\t790944922329153536\\ten\\tnull\\t415\\t0\\tRT @pnehlen: Cover up exposed! Outrageous liars and BOOM! POTUS knew all along and LIED. WikiLeaks - The Podesta Emails https://t.co/re6yEz\\r\\njo\\tnattuurlijk\\t1434060954\\t331\\t517\\tCanada\\t\\tWed Oct 26 15:19:33 EEST 2016\\t791252928799600640\\ten\\tnull\\t125\\t0\\tRT @GartrellLinda: Read this email. Can U still doubt Clinton plans 2 pass TTP?  Private position differs from what she told #BernieSanders\\r\\nDasher\\tthat_dash\\t2262341445\\t247\\t616\\tHoboken, GA\\tGod, My Wife, My Family, Guns! how I keep my life square! Romans 8:31\\tThu Oct 27 19:38:51 EEST 2016\\t791680570703175680\\ten\\tnull\\t0\\t1\\tVine... the app I never actually had but the tweets that entertained me because of it... #RIPVine\\r\\nHome\\tEggrolls_34\\t1461192817\\t136\\t2309\\t\\t\\tSat Oct 29 05:49:43 EEST 2016\\t792196689759178752\\ten\\tnull\\t460\\t0\\tRT @JIKOOKDAILY: 161029 MuCore Pre-rec  Jimin was talking about what he's going to be for halloween &amp; bc JK's a bunny he went for cabbage\\r\\nFiverr Girl\\tfiverrgirl\\t207176344\\t1693\\t1806\\t\\tQueen of getting shit done on fiverr\\tSun Oct 30 01:58:45 EEST 2016\\t792500952171503620\\ten\\tnull\\t0\\t0\\tThe latest The Fiverr Girl Daily! https://t.co/rZxscoiZtk Thanks to @Undented #ewpopfest #ghostbusters\\r\\nErinSefcik\\tAllwaysbelieve\\t1355228820\\t26\\t97\\t\\t\\tMon Oct 31 02:39:18 EET 2016\\t792888643308302336\\ten\\tnull\\t28\\t0\\tRT @fragilechildTX: .@MattRinaldiTX Do the right thing. Take action to #protectTXfragilekids like Keegan. Lives depend on you.https://t.co/\\r\\nSteve Clark\\tsteveclarkuk\\t239503657\\t36850\\t32828\\tHampshire, UK\\tDad, Journalist and Sunday Times bestselling author. Books include Only Fools &amp; Horses: The Official Inside Story and @TVlocationguide\\tTue Oct 25 20:04:30 EEST 2016\\t790962249800253440\\ten\\tnull\\t0\\t0\\t@kimsmothers5 the school\\r\\nWrenita\\tmscod1960\\t2499936273\\t199\\t128\\t\\tRetired P&amp;C Underwriter, mother, grandmother#hopingtolivetoseeabetterAmerica. #I'mWithHer If you trolling keep it moving. I will school you and block you.\\tTue Oct 25 21:24:58 EEST 2016\\t790982499715383298\\ten\\tnull\\t0\\t4\\t@mic What! OMG..\\r\\nDean Gilkerson\\tDeanGilkerson\\t2265392563\\t4089\\t5000\\t Ohio-VIA PIKEVILL KENTUCKY \\tCARPENTER Husband father grandfather a happy man.love to fish and camp with family. CAR GUY NASCAR GUY BIKER GUY CONSERVATIVE L@VE of COUNTRY GOD &amp; OUR VETERANS\\tThu Oct 27 21:42:45 EEST 2016\\t791711751033221120\\ten\\tnull\\t166\\t0\\tRT @NolteNC: #NeverTrump is working 24/7 to ensure this happens.   Never forget that. https://t.co/RS2iUlci5q\\r\\nSheila Farley\\tfarley551\\t2423379066\\t2047\\t2851\\tAlbany, OR\\t#Hearties fan of #WCTH &amp; #ChesapeakeShores. Mother of 1 son, graduate of Oregon State University. #Hearties #Chessies &amp; #HallmarkSuperfans!\\tFri Oct 28 23:36:51 EEST 2016\\t792102851484844032\\ten\\tnull\\t979\\t0\\tRT @KimDotcom: Dear @jasoninthehouse, pls have a look: https://t.co/3X6XEAK9pi  Give me an hour of your time and you'll get Obama/Biden/Cli\\r\\nNoizylady\\tnoizylady\\t21418209\\t1149\\t2007\\tCharleston S.C.\\thttp://t.co/pQO45Q7FYs offers a huge selection of high-quality home furniture, office furniture, baby furniture, vacuum cleaners, water fountains and toys.\\tSat Oct 29 08:08:13 EEST 2016\\t792231541686439936\\ten\\tnull\\t0\\t0\\tMy fitbit #Fitstats_en_US for 10/28/2016: 10,069 steps and 4.1 miles traveled. https://t.co/r34IdiwCWp\\r\\nSTICKYBACKSIGNS.COM\\tstickybacksigns\\t2185523918\\t972\\t2247\\tUSA\\tExpress yourself with http://t.co/6vpgVZVVYW  Custom Bumper Stickers\\tFri Oct 28 09:45:06 EEST 2016\\t791893536572530688\\ten\\tnull\\t11249\\t0\\tRT @mike_pence: So thankful everyone on our plane is safe. Grateful for our first responders &amp; the concern &amp; prayers of so many. Back on th\\r\\nKate, Ph.D.\\tKateli8\\t1913711058\\t178\\t92\\t\\tAsian American Immigrant\\tThu Oct 27 19:23:02 EEST 2016\\t791676591017496577\\ten\\tnull\\t1562\\t0\\tRT @PrisonPlanet: Christmas is being curtailed across Europe, while children are being taught to praise Allah. https://t.co/5egmaMVAK8\\r\\nalexander\\tTheaateigen\\t2390903036\\t531\\t1187\\tOslo, Norge\\tPublic Figure\\tSat Oct 29 16:13:45 EEST 2016\\t792353730347864064\\ten\\tnull\\t0\\t0\\tSo the GRANNY Gonna get 30 years in JAIL https://t.co/uT8LOyQQ4G\\r\\nToyin Abdulrazaq\\ttoyinabdulrazaq\\t147685063\\t845\\t819\\tEverywhere\\t\\tSat Oct 29 18:55:06 EEST 2016\\t792394336105291776\\ten\\tnull\\t0\\t0\\t0-0????? Lol.. United should hire Rafael Benitez I think. #MUFC\\r\\nCarole - #NoHillary\\tScarlett210\\t21424216\\t20409\\t19575\\tUNFOLLOW &amp; I UNFOLLOW-NO LISTS\\tFreelance writerSuppALL #Military #Vets #ProIsrael #Benghazi #TCOT #CCOT #MolonLabe, photog,FFd by JGilliam,D'Souza,KParonto,KenWahl,J Rosen,JBroaddrick\\tWed Oct 26 06:04:03 EEST 2016\\t791113131783249920\\ten\\tnull\\t1302\\t0\\tRT @DanScavino: St. Johns County Sheriff's Department ~ Florida. #LESM #MAGA #AmericaFirst https://t.co/1rZ2Gp945x\\r\\nkat\\tRomaazM\\t2286053444\\t120\\t90\\t\\tdog lover\\tSun Oct 30 23:57:56 EET 2016\\t792848034648301568\\ten\\tnull\\t9213\\t0\\tRT @BernieSanders: I say to Donald Trump: instead of giving speeches about trade why don't you lead by example and make your goods in Ameri\\r\\nalbert b chu\\tchubert\\t15446917\\t1617\\t835\\tSilicon Valley, California\\tearly adopter, angel investor, startup advisor, mentor &amp; connector  #mobile #wearables #iot #fintech #startups  dog-obsessed\\tMon Oct 31 07:52:37 EET 2016\\t792967493316784128\\ten\\tnull\\t5\\t0\\tRT @Fin__Tech: Serving up a better burger: How IoT and blockchain will reinvent the global supply chain https://t.co/7EiwbJUNt1  #blockchai\\r\\nMary\\tcatpancake\\t241046700\\t1197\\t891\\tJirque du Soleil\\tWe will find a way through this. - Khadgar\\tSat Oct 29 00:14:00 EEST 2016\\t792112203809771520\\ten\\tnull\\t0\\t1\\t@Kinsale42 That friend looks past helping. xDDD Damn, he is handsome as can be.\\r\\nJerklord Cromwell\\tiamjerklord\\t2459142709\\t592\\t1043\\t\\tHighly acclaimed #SFGiants fan in San Diego. I also tweet about movies via #TCMParty. I like #RiffTrax. Is bamboo corn?\\tSun Oct 30 18:21:33 EET 2016\\t792763382080299008\\ten\\tnull\\t0\\t0\\tHer boyfriend is full of nonsense. #SheShouldCutHisHeadOffAndBoilHimInOil #TCMParty\\r\\nERlC\\tDanceTheory\\t2267102203\\t2159\\t4690\\tCalifornia\\tNinja. Cereal Thriller. Music. Movies. Video games. TV. Technology. Cycling. Fitness. Food. Pop Culture.  #VaderGold #MelloGang #TKPuppytrooper\\tFri Oct 28 10:54:10 EEST 2016\\t791910918561017857\\ten\\tnull\\t1401\\t0\\tRT @papermagazine: Miss Iceland quits pageant after being told she has big shoulders\" and \"too much fat.\" The world is insane. https://t.c</td>\n",
       "      <td>False</td>\n",
       "      <td>True</td>\n",
       "      <td>[#NCSU, #DIY, #foreclosuretohome, #WeAreNotThis, #Halloween, #DreamCreateInspire, #recipe, #ImWithHer, #NeverHitlerTrump, #ProSaneDemocrats, #imwithher, #estoyconella, #BernieSanders, #RIPVine, #ewpopfest, #ghostbusters, #protectTXfragilekids, #I'mWithHer, #NeverTrump, #Hearties, #WCTH, #ChesapeakeShores., #Hearties, #Chessies, #HallmarkSuperfans!, #Fitstats_en_US, #MUFC, #NoHillary, #Military, #Vets, #ProIsrael, #Benghazi, #TCOT, #CCOT, #MolonLabe,, #LESM, #MAGA, #AmericaFirst, #mobile, #wearables, #iot, #fintech, #startups, #blockchai, #SFGiants, #TCMParty., #RiffTrax., #SheShouldCutHisHeadOffAndBoilHimInOil, #TCMParty, #VaderGold, #MelloGang, #TKPuppytrooper]</td>\n",
       "    </tr>\n",
       "    <tr>\n",
       "      <th>7537</th>\n",
       "      <td>James Gaffney</td>\n",
       "      <td>jamesgaffney</td>\n",
       "      <td>23535896</td>\n",
       "      <td>1280</td>\n",
       "      <td>2919</td>\n",
       "      <td>Limerick</td>\n",
       "      <td>NaN</td>\n",
       "      <td>Fri Oct 28 11:01:22 EEST 2016</td>\n",
       "      <td>791912731754557440</td>\n",
       "      <td>en</td>\n",
       "      <td>null</td>\n",
       "      <td>2</td>\n",
       "      <td>2</td>\n",
       "      <td>...it should worry anyone interested in a fully functioning democracy within the rule of law that a TD chose,... https://t.co/IYTiUKCNpr\\r\\nThomas P. Krepelka\\tSingerman2000\\t1146809210\\t6629\\t6249\\tPlainfield, IL\\tRocket ship builder,loves the White Sox\\tWed Oct 26 15:10:40 EEST 2016\\t791250692379963392\\ten\\tnull\\t811\\t0\\tRT @Stevenwhirsch99: The media refuses to show us the crowds because Trumps are overwhelmingly larger and it doesn't reflect in the polls.\\r\\nMatt Eastman\\teasyy_East\\t124955053\\t1007\\t884\\tLas Vegas, NV\\tEasyy does it... @ unlv. snap- mattyyeast\\tThu Oct 27 08:01:33 EEST 2016\\t791505088825135104\\ten\\tnull\\t220\\t0\\tRT @LakersNation: Here we go #LakeShow\\r\\nConnie Landro\\tclandro\\t145413782\\t420\\t1849\\tWashington DC\\tBorn and raised in NYC. Wherever I may travel - Always a New Yorker at heart. My passion: History\\tFri Oct 28 14:47:32 EEST 2016\\t791969645356052480\\ten\\tnull\\t0\\t1\\tHappy #NationalChocolateDay https://t.co/oxLTCcFHJf\\r\\nDavid Yurena Acaylar\\tDaveAcaylar27\\t2345294066\\t36\\t438\\tDavao City, Davao Region\\tConfidently Beautiful with a Heart 3\\tWed Oct 26 05:07:14 EEST 2016\\t791098833207959552\\ten\\tnull\\t0\\t0\\tMy head won't admit what my heart already knows.\\r\\nAndrew T\\tTiver_A\\t1574846846\\t505\\t4307\\tAdelaide, South Australia\\tCommunity Development, Human Rights, Political Analysis, Solidarity, Justice. Asia, Australia, World\\tWed Oct 26 10:34:02 EEST 2016\\t791181075187990528\\ten\\tnull\\t33\\t0\\tRT @raissawriter: I hope the Du30 government will post online all the MOUs signed in China. thanks.\\r\\nThe Blue Devils\\tTheBlueDevils\\t16789643\\t57896\\t9708\\tConcord, CA\\tThe Blue Devils offer young men and women between the ages of 7 and 21 quality educational and performance experiences in the areas of music and dance.\\tFri Oct 28 17:10:15 EEST 2016\\t792005563198603287\\ten\\tnull\\t4\\t28\\tWatch as Clark, horn sergeant of the Blue Devils, gives some words of advice in #ClashOfTheCorps #bdworld @fusetv https://t.co/73YOOplr8A\\r\\nTrisha\\tplabg\\t172279923\\t1741\\t1134\\tBrisbane\\tRTs not necessarily my views. Leftie &amp; Proud of it - All Advertising&amp; aggresive trolls blocked. Put me on a list without asking Blocked\\tFri Oct 28 11:25:08 EEST 2016\\t791918709665247232\\ten\\tnull\\t1\\t3\\t@SirThomasWynne @MikeCarlton01 @Telstra  Hell I live in a safe labor seat I'll probably NEVER get it\\r\\nI(D)Fayanju\\tXCellofantastic\\t1619156682\\t333\\t1538\\t#lookslikeabadDude\\tsportswriting @Whattaplay ;@Swarthmore '14; urban education equity and environmental issues; RTs are not necessarily endorsements\\tFri Oct 28 06:01:09 EEST 2016\\t791837177999130624\\ten\\tnull\\t1879\\t0\\tRT @MarkRuffalo: Rubber bullets in the face of peaceful and prayerful Water Protectors at #standingrock please https://t.co/1mVgFzDf4L\\r\\nLiving the Gourmet\\tlivingtgourmet\\t19561964\\t4160\\t2502\\tLI, NY\\tA lifestyle website featuring recipes, reviews, wines &amp; celebrity interviews. #LTG\\tTue Oct 25 21:12:33 EEST 2016\\t790979376963809281\\ten\\tnull\\t98\\t0\\tRT @itsreallykita: Are you an old soul? https://t.co/V2CmqjQPzI via @itsreallykita\\r\\nEllarosenash\\tellarosenh\\t2441099711\\t100\\t976\\tNew Hampshire, USA\\t\\tThu Oct 27 16:23:02 EEST 2016\\t791631290957168640\\ten\\tnull\\t188\\t0\\tRT @HuffingtonPost: Cubs fan receives gift of front-row World Series tickets after 71 years of waiting https://t.co/6FiK3rATJD https://t.co\\r\\nDoubleRistretto\\tDblRistretto\\t179043036\\t345\\t468\\t\\tSport to my left, sport to my right - and my politics firmly in between...\\tSun Oct 30 09:34:06 EET 2016\\t792630645600034816\\ten\\tnull\\t0\\t0\\t@Jo_Tovey @npomalley  the social unrest if Trump loses will be like we've not seen before in the aftermath of an election. Frightening.\\r\\nIncapableHero\\tIncapableHero\\t2324216569\\t54\\t216\\tunknown\\t\\tMon Oct 31 07:12:14 EET 2016\\t792957329608216576\\ten\\tnull\\t8478\\t0\\tRT @markmobility: Holy sh*t. Harry Reid letter to Comey: you have explosive information about ties between Trump and the Russian govt https\\r\\nNC_Landslide_Nov8\\tfotophilNC\\t2185553479\\t1613\\t2202\\tSwamp\\t#MAGA #2A #Trump #TrumpPence2016 UNAFILLIATED #NeverHillary #DrainTheSwamp\\tSat Oct 29 17:59:37 EEST 2016\\t792380375335047168\\ten\\tnull\\t0\\t0\\t@RickSchaler lol nice one RT #DrainTheSwamp\\r\\nThomas P. Krepelka\\tSingerman2000\\t1146809210\\t6629\\t6249\\tPlainfield, IL\\tRocket ship builder,loves the White Sox\\tSun Oct 30 03:05:17 EET 2016\\t792532796497616896\\ten\\tnull\\t1\\t0\\tRT @Bart_39: Plz RT  @realDonaldTrump A way2 #MAGA: get America's government's boot off necks of America's ppl; #AbolishIRS. https://t.co/F\\r\\nParaphernaliac\\tdeadpandick\\t249937352\\t77\\t644\\tPhoenix, AZ, United States\\tMore bitter than unsweetened Kombucha.\\tFri Oct 28 06:18:15 EEST 2016\\t791841480805494784\\ten\\tnull\\t158\\t0\\tRT @tumblr: Tear-jerking fan fiction. https://t.co/AeupSvSEJa https://t.co/R8YGNIEcp8\\r\\nPeter McGillivray\\tpmcgillivray\\t16369288\\t1385\\t1811\\tSudbury, Ontario\\tCanadian operatic baritone. Interested in Blue Jays baseball, fine whisky, hiking, canoeing &amp; politics. Curious about Everything.\\tFri Oct 28 19:31:18 EEST 2016\\t792041057374523397\\ten\\tnull\\t0\\t0\\tSad to hear of the passing of one of Canada's great baritones, the irreplaceable and truly lovely Bernard... https://t.co/fy1mboPzVJ\\r\\nM Lynch\\tMarilynLynch\\t25010541\\t542\\t672\\tSpringfield\\tall dolled up in gabardine. she/her\\tSun Oct 30 23:48:26 EET 2016\\t792845645308502016\\ten\\tnull\\t0\\t0\\tTom Colicchio killing it this elex https://t.co/2CQp5hhRF6\\r\\nSamantha Hansen\\tTealz95\\t1046533759\\t48\\t252\\tMI\\tLove to have fun and enjoy life.\\tSun Oct 30 18:27:53 EET 2016\\t792764975442001922\\ten\\tnull\\t0\\t0\\t@tacobell my friends want to know when the #chilicheeseburrito will reappear? #JustDoIt\\r\\nNYT National News\\tNYTNational\\t1767741\\t66365\\t536\\tFrom Sea to Shining Sea \\tBreaking news and in-depth reporting from the National Desk of The New York Times. Header: Travis Dove for The New York Times. More: https://t.co/7vR6YeFTA5\\tWed Oct 26 20:28:02 EEST 2016\\t791330559997972484\\ten\\tnull\\t0\\t0\\tBrand promotions suggest Donald Trump is looking past election day https://t.co/EW9SuDEZ2y\\r\\nRenee Laughingwater\\tlaughingwater61\\t2337376513\\t1217\\t5000\\t Villa Rica,  Georgia, USA\\ti am native american i believe in my teaching and i stand strong for my people wether there cherokee or lakota we are family.  i will fight for my people\\tThu Oct 27 22:48:56 EEST 2016\\t791728405540642816\\ten\\tnull\\t51\\t0\\tRT @AmericanIndian8: Dakota Access Pipeline fight a product of ignored rights https://t.co/k4zRLVgOmD #NoDAPL @POTUS  #INDIGENOUS #TAIRP ht\\r\\nBlack Mamba\\tVioletMamba\\t1335463908\\t513\\t976\\tCanada\\tHobbies include drinking and whining about how The Simpsons isn't funny any more.\\tMon Oct 31 02:48:17 EET 2016\\t792890904050892800\\ten\\tnull\\t0\\t0\\tWill the democrats try to replace Clinton? https://t.co/LcUrLwJTMk\\r\\nVerdell Van Pelt\\tmr_wrightaway\\t15562819\\t2118\\t493\\tMontega \\tPhD student. Supermanist. Recovering evangelical. tennis player. TKD kicker. Freedom writer. Sacred cows make great cheeseburgers. Serena, Xena, Diana.\\tFri Oct 28 22:25:51 EEST 2016\\t792084987554197504\\ten\\tnull\\t0\\t0\\t@nealcarter I'm more concerned abt the folks who benefit from playing the center at the expense of everyone else for panels and likes.\\r\\nDeplorable Redneck\\ta_degeatano\\t1411325341\\t616\\t353\\tUSA\\tMother, wife and dog lover. With God all things are possible The truth will prevail about (The Clintons), and Trump will win! #TrumpPence #MAGA #defendWL\\tMon Oct 31 03:35:18 EET 2016\\t792902738686251010\\ten\\tnull\\t0\\t1\\t@kristilade @DouglasESchoen Im proud of you Doug.  @RiskyPeter @Angela__Wagner @datrumpnation1\\r\\nMara Fernndez\\tminaharker20_12\\t155850063\\t1231\\t2679\\tSpain\\tHuman being (Homo sapiens). Woman. Likes dogs and cats.  'Courage is fear holding on a minute longer.' (General George S. Patton)  Personal account.\\tFri Oct 28 12:49:02 EEST 2016\\t791939825486082048\\ten\\tnull\\t3\\t0\\thttps://t.co/zwpxLa0dfD Early intensive behavioral intervention (EIBI) for increasing functional behaviors and skills #autismspectrum\\r\\nTim Fowler\\ttimfowler7_tim\\t1283444665\\t2072\\t3188\\t\\tSE USA - Upholds European-US civilising influence. #English #French #German #Russian\\tWed Oct 26 23:24:24 EEST 2016\\t791374946404536320\\ten\\tnull\\t9371\\t0\\tRT @scottisbell_: I'm a millennial &amp; I just voted @realDonaldTrump for POTUS! #Trumpified #trumptrain we will Make America Great Again plea\\r\\nDRT\\tbadgerbanker\\t238713156\\t243\\t862\\tWisconsin\\tWhere's the game at?\\tSun Oct 30 17:20:55 EET 2016\\t792748121558224896\\ten\\tnull\\t0\\t0\\t@LizClaman  That hat mutes your good looks. Go Cubs !\\r\\nIone DeSantis\\tFigaro89061\\t144495813\\t162\\t110\\t\\t\\tThu Oct 27 18:43:03 EEST 2016\\t791666528466853889\\ten\\tnull\\t5152\\t0\\tRT @wikileaks: Hillary Clinton hid email problem from her own staff https://t.co/BFUbhDbk33\\r\\nJay Lamb\\tmacinjay\\t15697181\\t504\\t863\\t\\tLong suffering Cleveland Sports Fan and member of BuckeyeNation. Apple/Mac fan. Outdoor/Bird enthusiast.\\tSun Oct 30 04:52:00 EET 2016\\t792559651455983618\\ten\\tnull\\t0\\t0\\t@gruber As an aside I'm hearing the Indians will revisit their logo after the Series.\\r\\nFrancesco Fontanot\\tFFontanot\\t1267504688\\t1034\\t857\\tLima, Peru\\t#Analytics, #Bigdata and #Cognitive computing leader in LA. Hobbies: Cars and Technology. (Tweets are my own)\\tSun Oct 30 20:55:10 EET 2016\\t792802039919149056\\ten\\tnull\\t0\\t0\\tIn a #data storm, me and my key value brethren manage requests sent to the #database. #cloud  https://t.co/mnKM1LSEUf\\r\\nKroff\\tadplat\\t2333523931\\t1137\\t1538\\tUnited States \\tAdvertising Marketing Platforms, #Kroff\\tWed Oct 26 07:18:30 EEST 2016\\t791131868385214468\\ten\\tnull\\t0\\t0\\tEmma Watson Pens Powerful Essay Upcoming Election, Wants Women to Know They 'Have Real Power' to Change the Future\\r\\nJayduh\\tNibbler_TheBae\\t2416845367\\t65\\t286\\t\\tUnsolved Mysteries: Vine\\tSun Oct 30 18:16:25 EET 2016\\t792762089987334145\\ten\\tnull\\t126\\t0\\tRT @tori_deal: You wanna be with a guy who literally adores your presence.\\r\\nMandy Sanghera\\tMandy_Sanghera1\\t242009106\\t4239\\t4989\\tGlobe, AZ # mogul influencer \\tMandy Sanghera Human Right Activist motivational speaker Honour Based Crime Government adviser philanthropists join me Wed at 8-9pm #EmpowermentHour #Tedx\\tWed Oct 26 22:58:22 EEST 2016\\t791368394830409728\\ten\\tnull\\t2\\t0\\tRT @karenjohnson309: @Mandy_Sanghera1 Q5  Yes we must go with the times but it also must suit all children's needs can it do this ???\\r\\nJeremy Spencer\\tjjws\\t15158145\\t1423\\t3014\\tLudlow\\tBelieve in Britain NO2EU NO2Islam Against racism and ignorant accusations of racism. Love Bitcoin\\tThu Oct 27 22:53:15 EEST 2016\\t791729493706739712\\ten\\tnull\\t38\\t0\\tRT @pmclauth: Notice how the institutions of power in our societies give way to the #EthnicReplacement criminals https://t.co/eRgWJExIok\\r\\nJoshyy\\tJoshy5280\\t2156869999\\t163\\t243\\t\\tIslands. Seattle. Colo. Coffee &amp; trees. Find me on the rocks bishh. Pandas#\\tSun Oct 30 21:28:04 EET 2016\\t792810320418836481\\ten\\tnull\\t1005\\t0\\tRT @SteveStfler: Remember to check your kids' Halloween candy https://t.co/zD3WCuLGHT\\r\\nJesus Palma\\tJesusPalma\\t14467264\\t1045\\t177\\tNevada, USA\\t#Election2016 | Strategist, Music &amp; Live Show Enthusiast, Nevada Native | Tech, Politics, Digital Outreach, Graphic Design\\tThu Oct 27 03:29:09 EEST 2016\\t791436537263038464\\ten\\tnull\\t0\\t1\\t@LasVegasLocally please go ahead!\\r\\nMaya Smith\\tMayaa2102\\t24095489\\t235\\t267\\tBoston, MA\\tI love to see a young girl go out and grab the world by the lapels. Life's a bitch. You've got to go out and kick ass. - Maya Angelou\\tSun Oct 30 21:54:00 EET 2016\\t792816845724192769\\ten\\tnull\\t36\\t0\\tRT @FeministaJones: Dis here iz murrrica and dey gives nary a fuck bout any of uz https://t.co/xd3MXFhlDW\\r\\nDouglas Carew\\tkrzycarew\\t1366887486\\t197\\t475\\tBoston, MA\\tOld school hip hop. Support all Boston sports teams. Sorry no EBT cards accepted. Dont tweet other ppl's shit think of your own shit. You got a brain use it. l\\tSun Oct 30 15:05:36 EET 2016\\t792714067400163328\\ten\\tnull\\t0\\t0\\tBlack Sabbath #CanineRockBands Black Lab\"bath https://t.co/3v212KBd1C</td>\n",
       "      <td>False</td>\n",
       "      <td>True</td>\n",
       "      <td>[#LakeShow, #NationalChocolateDay, #ClashOfTheCorps, #bdworld, #lookslikeabadDude, #standingrock, #LTG, #MAGA, #2A, #Trump, #TrumpPence2016, #NeverHillary, #DrainTheSwamp, #DrainTheSwamp, #MAGA:, #AbolishIRS., #chilicheeseburrito, #JustDoIt, #NoDAPL, #INDIGENOUS, #TAIRP, #TrumpPence, #MAGA, #defendWL, #autismspectrum, #English, #French, #German, #Russian, #Trumpified, #trumptrain, #Analytics,, #Bigdata, #Cognitive, #data, #database., #cloud, #Kroff, #, #EmpowermentHour, #Tedx, #EthnicReplacement, #Election2016, #CanineRockBands]</td>\n",
       "    </tr>\n",
       "    <tr>\n",
       "      <th>76205</th>\n",
       "      <td>Phillip Sheppard</td>\n",
       "      <td>PSheppardTV</td>\n",
       "      <td>22729901</td>\n",
       "      <td>81958</td>\n",
       "      <td>2672</td>\n",
       "      <td>WorldWide 80Million StealthRUs</td>\n",
       "      <td>The Specialist, Copyrighted TX0008044160 #SurvivorCBS #USArmy #Veteran #FormerFederalAgent #Author #Actor #LegendOfThingsPast All Rights Reserved #AManAboutTown</td>\n",
       "      <td>Sat Oct 29 08:48:48 EEST 2016</td>\n",
       "      <td>792241756339183616</td>\n",
       "      <td>en</td>\n",
       "      <td>null</td>\n",
       "      <td>13</td>\n",
       "      <td>6</td>\n",
       "      <td>There is no indication the emails in question were withheld by Clinton during the investigation, the law... https://t.co/nc4Vs9RB5C\\r\\nMsConsuelo\\tconsueloyd\\t146717314\\t507\\t937\\tCalifornia\\tConservative leaning toward moderate  libertarianism. Government should be politically neutral, honest &amp; above board.\\tSat Oct 29 04:00:36 EEST 2016\\t792169227104817156\\ten\\tnull\\t86\\t0\\tRT @_AltRight_Anew: #Yuengling is the new #AltRight beer of choice  Owner supports #Trump #MAGA https://t.co/PONOfONALD\\r\\nSasha Reiss\\tsasha_reiss\\t2508164241\\t280\\t232\\tParis, France\\t\\tSat Oct 29 14:59:11 EEST 2016\\t792334966675865600\\ten\\tnull\\t608\\t0\\tRT @ManCanddyPics: matthew daddario he's so beautiful. https://t.co/HAiq37Blpj\\r\\nSteve Curtis\\tscurtis2020\\t1649464176\\t69\\t560\\t\\tExpert Friend, Fiendishly Good Looking, Devil May Care Attitude\\tThu Oct 27 07:11:09 EEST 2016\\t791492404285087744\\ten\\tnull\\t0\\t1\\t@DanaSchwartzzz I'm sorry but going shopping with my family is my personal crucifixion.\\r\\nCathyS808\\tcathys808\\t1466184158\\t1325\\t1813\\tReno, NV\\tProud Gold Star Spouse, love my girls, the 49ers, Giants, Warriors and Wolf Pack #ImWithHer\\tSun Oct 30 18:39:13 EET 2016\\t792767824926126081\\ten\\tnull\\t870\\t0\\tRT @AdamParkhomenko: 502 days and counting. No tax returns coming. Trump's a liar. Nothing to see here. https://t.co/E3yDhiY0o8\\r\\nShin Neo\\tNKGhidorah\\t215738954\\t139\\t501\\tOrlando, FL\\ta purposeful grimace and a terrible sound\\tSun Oct 30 18:42:00 EET 2016\\t792768527384141824\\ten\\tnull\\t0\\t0\\txenoverse 2 brought me back to life i didn't even know i was dead\\r\\nveronica corningston\\tallison_fisherr\\t2339551956\\t536\\t506\\tcatalina wine mixer\\tmy presence is a present\\tThu Oct 27 06:57:38 EEST 2016\\t791489003191013379\\ten\\tnull\\t16841\\t0\\tRT @Dory: this is the funniest thing i have seen in so long i cannot BREATHE https://t.co/DSQXo84GyG\\r\\n#YAN\\tCallmedondee\\t1519592251\\t1230\\t1953\\tNigeria \\tMusic Updates, News &amp; Online Promotion &amp; trends. For more information about us follow us  on BB: 2B9F3938...\\tWed Oct 26 19:25:25 EEST 2016\\t791314801796403200\\ten\\tnull\\t0\\t0\\t#Tapoutmusic | VERYYY HOTTTTT: Lynxx  Ghana Girls (Prod. By Spax) https://t.co/aAZJXFZYNq via @tapoutmusic https://t.co/t30y4Dt3FQ\\r\\nJohn Marchese\\tjmarchese\\t15607427\\t13012\\t9225\\tNew York City\\tEntrepreneur, Jets, Knicks, Yankees, enterprise software &amp; data governance, @Citrix alum, tech innovation, global partners @Collibra, hockey, golf &amp; being Dad\\tMon Oct 31 00:10:00 EET 2016\\t792851071794290689\\ten\\tnull\\t0\\t0\\tiTWire - Business doing too little, too slowly warning on digital transformation: Forrester https://t.co/kzfELeCCVv\\r\\nNasty Woman Tantine\\ttant1ne\\t1584732452\\t583\\t901\\tNew York, NY\\tAll is fair in love and politics.\\tSun Oct 30 20:40:10 EET 2016\\t792798266660364288\\ten\\tnull\\t1\\t5\\t@RyanLizza Implication of which is that it's fine for FBI director to intervene in election due to political pressure.\\r\\nAlex Fair\\tAlexFairr\\t2294572982\\t499\\t360\\tHellkhart\\tI'm a grade A asshole &amp; resident fuckboy good to meet you\\tFri Oct 28 08:51:09 EEST 2016\\t791879960080384000\\ten\\tnull\\t3960\\t0\\tRT @nyczach: get out mi car #RIPVine #VineHallOfFame https://t.co/3mlPS1RhpG\\r\\nBelle D\\tbelledame222\\t24667237\\t1235\\t2781\\t\\twearing flowers in my hair, trying not to get hay fever\\tSat Oct 29 21:16:39 EEST 2016\\t792429956944973825\\ten\\tnull\\t0\\t0\\the can barely refrain from insulting his adoring fans. https://t.co/XW3Ok635xq\\r\\nLauren\\tluvisalluneed4\\t2396564900\\t42244\\t2436\\tCanada\\thttps://t.co/j3wcKpPs21 https://t.co/h6koAfFGMV\\tSat Oct 29 22:28:30 EEST 2016\\t792448042343526400\\ten\\tnull\\t0\\t0\\t@thekatiestevens @paulBLG now if this isn't love I don't know what is\\r\\nJohn M. Carney\\tjmcarney23\\t2181325626\\t63\\t195\\tSheffield Village, Ohio\\tRetired YMCA CEO / Executive Director President of Chambers Chapter of Association of YMCA Retirees Avid Golfer Member of Oberlin Golf Club johncymca@aol.com\\tMon Oct 31 01:14:43 EET 2016\\t792867357798653952\\ten\\tnull\\t2189\\t0\\tRT @LouDobbs: 650,000!!!!  Hillary, Justice, FBI Leaders Rocked In Clinton Cartel Probe https://t.co/eI71C6RKuM via @WSJ #MAGA #TrumpPence1\\r\\nBill Hamilton\\tgraybeard55\\t1333075796\\t161\\t627\\tFlorida\\tToo complex to list. Voices in my head have me sworn to secrecy. Meds don't work but booze does sometimes.\\tSat Oct 29 00:09:22 EEST 2016\\t792111036509880325\\ten\\tnull\\t1454\\t0\\tRT @YoungDems4Trump: Why does Trump call everything perfectly? Trump was right. He is right. And he will be right. I don't know how he does\\r\\ndeplorable susie\\tgs777gs777\\t107012365\\t11364\\t10285\\tNew York, USA\\tINDY For #Trump! In Relationship w/ my honey. Never #Hillary! Block PORN. #MSM LIARS. No DMs. Absolutely No Racism Or Bigotry! Not PC.  I follow POLITICS Only.\\tFri Oct 28 06:35:41 EEST 2016\\t791845866965467136\\ten\\tnull\\t5118\\t0\\tRT @RealVinnieJames: Well folks. Bomb just dropped. There goes the last shred of Hillary supporters' dignity. -VJ (Hillary and Michelle) ht\\r\\nPaulette\\tpatte008\\t23692955\\t629\\t664\\tDurham,North Carolina\\t#team Muhney Fan now and forever. Also GH and Days fan. Maurice Bernard favorite and Billy Flynn. Democract\\tThu Oct 27 22:18:19 EEST 2016\\t791720702474854400\\ten\\tnull\\t197\\t0\\tRT @michaelmuhney: Let's see how many of you will retweet for this @Cubs fan! Show me some love! https://t.co/KGn3uhcuKk\\r\\nsomecanuckchick\\tsomecanuckchick\\t14807056\\t1857\\t1096\\tCte-des-Neiges, Montral\\tCaffeinated. Aggregated. Verbose. Je tweete #cdnpoli/#polcan/#assnat/#elxn42/#canadavotes/#LPC/#PLC. J'habite Montral et j'aime mes Canadiens! #GOHABSGO!\\tThu Oct 27 00:37:09 EEST 2016\\t791393252117188608\\ten\\tnull\\t0\\t0\\tMost of Canada's housing markets [currently] overvalued: https://t.co/EuK1X0DES5 #cdnpoli #cdnecon #CMHC\\r\\nAmely P Chancellor\\tamelypauline\\t251931109\\t520\\t1181\\tWest Palm Beach, FL\\tAnomaly. Entrepreneur. Lifestyle Consultant. Crazy Cat Lady.\\tSat Oct 29 13:59:56 EEST 2016\\t792320054654226433\\ten\\tnull\\t0\\t0\\tA day of recovery and integration follows a recent opening of ... More for Leo https://t.co/i9WM8LgavQ\\r\\nNilesh\\tnileshbhojani\\t15401787\\t646\\t556\\tMumbai, India\\tConfused, and may be confusing. Bored, and mostly boring. Weird, sarcastic and annoyingly annoyed. Atheist. Feminist.  Also Head of Product Solutions at Seclore\\tThu Oct 27 18:55:01 EEST 2016\\t791669537901010946\\ten\\tnull\\t0\\t0\\t@Unmana mohabbat mai aisa mukam aa raha... Where we have to take it offline?\\r\\npizzmoe\\tpizzmoe\\t15067424\\t5572\\t6109\\tLos Angeles via NYC via Philly\\tHow come the Party Of Personal Responsibility never takes responsibility for anything? Please, No Trump.\\tSat Oct 29 18:07:32 EEST 2016\\t792382366983397377\\ten\\tnull\\t0\\t1\\t@FactsVsOpinion @Lanna70115 @ToConservatives @thedailybeast  So many of those.\\r\\nStormrider\\tstormrider27\\t1015672057\\t2063\\t1888\\tFt Myers Florida\\ta rum loving sailor destined to be a gypsy monk.\\tTue Oct 25 20:15:03 EEST 2016\\t790964905616805888\\ten\\tnull\\t3\\t0\\tRT @FTCCORP: AT&amp;T Is Spying on Americans for Profit, New Documents Reveal https://t.co/dp775FXodG via @thedailybeast\\r\\nJess [GuerillaGirl]\\tguerillagirl\\t14554959\\t3803\\t2919\\tBoston, MA\\tVP of Search and Sunday Loves Blogger, waxing poetic about #CrossFit, #SEO, #DIY, #MCM, Design, Geekdom &amp; Parenthood! *Views are my own.*\\tFri Oct 28 02:08:41 EEST 2016\\t791778675188432900\\ten\\tnull\\t52551\\t0\\tRT @chrisrockyoz: 8 years. No scandals. No mistresses. No impeachment hearings. Just class and grace, personified. I sure am going to miss\\r\\nMichael Haskew\\tmikehaskew\\t10852172\\t366\\t266\\tHouston, TX\\tworking to help put right what's wrong\\tFri Oct 28 22:58:14 EEST 2016\\t792093136256282624\\ten\\tnull\\t1002\\t0\\tRT @nickconfessore: Alternate headline: The alleged sexual misconduct of three men is dominating the final weeks of the presidential campai\\r\\nNurse Ratched\\tveggie64_leslie\\t1130275662\\t6084\\t6398\\t\\tif you are gonna take time to have an opinion, make sure you can defend it. otherwise its nothing more than BS\\tMon Oct 31 08:03:46 EET 2016\\t792970297125187584\\ten\\tnull\\t0\\t0\\t@roxannelwright @adirado29  Why would a pro Hillary person just support Bernie on this one decision? So transparent\\r\\nMAIPO GOLD\\tgoldtwittee\\t225456426\\t690\\t580\\t Miami Florida\\tJewelry Manufacture &amp; Recycler-Refiner                    Blackberry Pin 2B644DC2\\tTue Oct 25 20:07:01 EEST 2016\\t790962885367324673\\ten\\tnull\\t807\\t0\\tRT @mitchellvii: C'mon #TrumpTrain, let's embarrass the hell out of the lying media.\\r\\nDave Mc\\tDaveMcIntyre584\\t1018611901\\t83\\t346\\tStoney Creek\\tliving the dream. Stoney Creek\\tThu Oct 27 01:47:21 EEST 2016\\t791410920530608128\\ten\\tnull\\t0\\t1\\t@ham_smallfries your posts make me hungry.  Period.\\r\\nNicholette Campbell\\tsheba4005\\t23446077\\t8413\\t4191\\tEast Tennessee, USA\\tAuthor of Soul Chaser (Raven's Journey) Vol.1 #YA #Paranormal #Fantasy #Occult             http://t.co/5HdRdxTIWB\\tSun Oct 30 02:07:24 EEST 2016\\t792503127043964928\\ten\\tnull\\t5\\t0\\tRT @stone_rik: Youre now part of a gang known as the Little Dogs.' #IAN1 #thriller #iartg #bzbooks https://t.co/k7Ofd7AlL1\\r\\nJohn Brosnan\\tbirdflyoverlake\\t14711728\\t3723\\t3858\\tEugene, OR\\tLiberal from Minn now settled in Oregon. Father of three girls; two lost to parental alienation which I write about on my blog. Deadhead. I block RWNJs\\tSat Oct 29 04:25:44 EEST 2016\\t792175555344904192\\ten\\tnull\\t3\\t5\\tRunning for president looks like a terrible way to spend your time. #maddow\\r\\nEDF\\tEileenDiana\\t22292787\\t1561\\t2047\\t\\tTrump supporter, #MAGA, deplorable, MBA, free-lance writer, loves life, liberty &amp; the pursuit of happiness\\tMon Oct 31 00:00:32 EET 2016\\t792848688989081600\\ten\\tnull\\t6880\\t0\\tRT @hectormorenco: When Trump talks about Draining the Swamp\" he is right, &amp; has risked his life going against the entire world's corrupt</td>\n",
       "      <td>False</td>\n",
       "      <td>True</td>\n",
       "      <td>[#Yuengling, #AltRight, #Trump, #MAGA, #ImWithHer, #YAN, #Tapoutmusic, #RIPVine, #VineHallOfFame, #MAGA, #TrumpPence1, #Trump!, #Hillary!, #MSM, #team, #cdnpoli/#polcan/#assnat/#elxn42/#canadavotes/#LPC/#PLC., #GOHABSGO!, #cdnpoli, #cdnecon, #CMHC, #CrossFit,, #SEO,, #DIY,, #MCM,, #TrumpTrain,, #YA, #Paranormal, #Fantasy, #Occult, #IAN1, #thriller, #iartg, #bzbooks, #maddow, #MAGA,]</td>\n",
       "    </tr>\n",
       "    <tr>\n",
       "      <th>85135</th>\n",
       "      <td>Liz A.</td>\n",
       "      <td>massfindings</td>\n",
       "      <td>23216446</td>\n",
       "      <td>152</td>\n",
       "      <td>260</td>\n",
       "      <td>NaN</td>\n",
       "      <td>https://t.co/og5SVjTV7c</td>\n",
       "      <td>Fri Oct 28 18:29:33 EEST 2016</td>\n",
       "      <td>792025517926907904</td>\n",
       "      <td>en</td>\n",
       "      <td>null</td>\n",
       "      <td>0</td>\n",
       "      <td>0</td>\n",
       "      <td>This was 2010. Were interns, I have a picture of the day of me and my friends. One is https://t.co/85b9ul04Vh\\r\\nMC Wilkins\\tmcwilkins63\\t1627501111\\t29\\t46\\t\\t\\tThu Oct 27 15:12:52 EEST 2016\\t791613633834913792\\ten\\tnull\\t4\\t0\\tRT @POLITICOMag: Democrats never anticipated that the 1965 immigration act would create such rich diversity: https://t.co/Fzb8h6oBPR\\r\\nStarman\\tdavidsilva28\\t143668648\\t1250\\t2459\\tCOL, Foxboro, Azeroth, space\\tObsessed with Queen and PinkFloyd. Patriots, ACMilan, Federer, RedSox, Ferrari and VR46 fan... Avid Seinfeld fan. Warcraft and Diablo player. I love languages.\\tSun Oct 30 22:04:31 EET 2016\\t792819491969335296\\ten\\tnull\\t55\\t0\\tRT @SBNation: Gronk achieved his major goal today. Congrats Gronk! https://t.co/YEXhJ8GVtI\\r\\nZenber1\\tZenber1\\t16177975\\t253\\t78\\t\\t\\tSat Oct 29 01:01:27 EEST 2016\\t792124144489943040\\ten\\tnull\\t1\\t2\\t@CNN Unprecedented for the FBI to make such an un-cautious and barely veiled attempt to affect this election. https://t.co/hjScGvEZ6d\\r\\nMarcy McGowan\\tmarcylauren\\t16146535\\t23884\\t26201\\tDelaware\\tI #HillaryKaine2016 Politics #DumpTrump and #UniteBlue #p2 #StrongerTogether #NastyWomen\\tMon Oct 31 01:25:58 EET 2016\\t792870188970631169\\ten\\tnull\\t13\\t0\\tRT @WestWingReport: One public event on Monday's schedule: President and Mrs. O welcome local children and children of military families fo\\r\\nDebra Lynch\\taddykateglen\\t1634182406\\t597\\t249\\t\\tRetired,wife,mother,grandmother, news junkie,conservative,Rubio supporter,Love God\\tSat Oct 29 23:08:05 EEST 2016\\t792458001227587584\\ten\\tnull\\t103\\t0\\tRT @greta: Can you please RT this link? https://t.co/sNTSxehdgA https://t.co/7E4Iwrxn0A\\r\\nDouglas College\\tdouglascollege\\t18194015\\t6767\\t205\\tNew Westminster/Coquitlam, BC\\tDO what you love. Be good at it. We're one of the largest colleges in British Columbia, offering degrees, university transfer, career and developmental programs\\tWed Oct 26 20:22:43 EEST 2016\\t791329220806975488\\ten\\tnull\\t0\\t1\\tCheck it out in the #NewWest Library. https://t.co/MY7z437Qji\\r\\nChuka ebede\\tebede_chuka\\t1713138110\\t125\\t472\\tCherry hill\\t\\tSun Oct 30 01:19:35 EEST 2016\\t792491097171849216\\ten\\tnull\\t0\\t0\\tWeiner's Revenge, Huma Goes Jimmy Hoffa and Hillary's Toast https://t.co/9OdVjFNmkU\\r\\njason vivona\\tjasonvivona\\t240405502\\t124\\t352\\t\\t\\tThu Oct 27 04:27:35 EEST 2016\\t791451241654222849\\ten\\tnull\\t0\\t1\\t@GarrettRWang Garrett, I've never asked this before, but my sis Andrea is a huge fan. Please, a shout out for her bday??\\r\\nLorie Medina\\tTXTeaPartyMOM\\t14795844\\t3664\\t3551\\tFrisco, TX\\tAuthor -Community Organizing for Conservatives, Speaker, Consultant, Grassroots activist - Country Class Taking On the Ruling Class\\tThu Oct 27 19:27:28 EEST 2016\\t791677705494200328\\ten\\tPlaceJSONImpl{name='Frisco', streetAddress='null', countryCode='US', id='00c3e46c3d0cac08', country='United States', placeType='city', url='https://api.twitter.com/1.1/geo/id/00c3e46c3d0cac08.json', fullName='Frisco, TX', boundingBoxType='Polygon', boundingBoxCoordinates=[[Ltwitter4j.GeoLocation;@717dc557], geometryType='null', geometryCoordinates=null, containedWithIn=[]}\\t1\\t0\\t@GQinNC The small handful of actual #nevertrump ppl wont give it to Hillary. That number is miniscule.\\r\\nYael Dulman\\tYaelDulman\\t1698732097\\t580\\t409\\t\\tMasters Degrees in Philosophy and Gender from Tel Aviv University, NASDAQ S-7 licensed broker, CEO- Optimize Performances Ltd., jewelry, fashion and pets lover.\\tThu Oct 27 19:14:05 EEST 2016\\t791674338999230464\\ten\\tnull\\t0\\t0\\tWomens 14K Yellow Gold Finish 2.00CT Diamond S Link Tennis Bracelet, 5-10 Inch - https://t.co/8VmKDZC9yJ\\r\\nShelley C\\tshellsbg\\t2432435052\\t413\\t400\\tFlorida \\tYour Soul is the Higher Part of Your Whole Design...It Seeks Out Love Inside All~\\tWed Oct 26 06:14:57 EEST 2016\\t791115875000709124\\ten\\tnull\\t60\\t0\\tRT @KLSouth: BOOM: #Hillary's GIRLFRIEND, @MegynKelly Just Got BAD Rating News (LMAO) https://t.co/AUWcSiVhqx #kellyfile\\r\\nTrump 2016\\tTrumpPatriots\\t1338765866\\t49042\\t45368\\tUnited States of America\\tFan account for Donald Trump's 2016 presidential campaign. Not an official campaign account, not affiliated with @realDonaldTrump. #MakeAmericaGreatAgain\\tSat Oct 29 04:13:25 EEST 2016\\t792172453875355648\\ten\\tnull\\t86\\t151\\tHeartwarming tweet Malik.  Everyone RT this!  The world needs to see this tweet! https://t.co/kWqfV016RR\\r\\nDeplorable Mike\\tmg1928\\t226404815\\t1584\\t753\\tNYC\\t#Trumplican committed to truth, justice &amp; the American way. Proud American despite Obama OEF Vet &amp; Soldier in #TrumpsArmy #MakeAmericaGreatAgain #TrumpPence16\\tMon Oct 31 03:22:23 EET 2016\\t792899484627955712\\ten\\tnull\\t12620\\t0\\tRT @wikileaks: Tina Flournoy, Chief of Staff to President Bill Clinton, tells Hillary Clinton campain chair John Podesta: https://t.co/xPuA\\r\\nSha Clark\\tclark_sha\\t2184951126\\t866\\t260\\tCo Spr\\tBotanist, Heritage Action 4  America Sentinel, $ &amp; religious conservative. Return to self respect and American values. RT not endorsement. NAU Lumberjack\\tThu Oct 27 00:29:50 EEST 2016\\t791391410624749568\\ten\\tPlaceJSONImpl{name='Colorado', streetAddress='null', countryCode='US', id='e21c8e4914eef2b3', country='United States', placeType='admin', url='https://api.twitter.com/1.1/geo/id/e21c8e4914eef2b3.json', fullName='Colorado, USA', boundingBoxType='Polygon', boundingBoxCoordinates=[[Ltwitter4j.GeoLocation;@36b6d26c], geometryType='null', geometryCoordinates=null, containedWithIn=[]}\\t0\\t0\\tStealing campaign signs is a felony https://t.co/lG6VypPwA8\\r\\nStacy\\tSilverStGroud\\t145364348\\t808\\t912\\tnot Marc Cherry's house, D6\\tFilm b(l)uff, firm dork, likes junk culture and popular food. Tall, but only with the help of certain shoes. #WomenForRum 2016.\\tSat Oct 29 17:09:35 EEST 2016\\t792367781194960896\\ten\\tnull\\t0\\t1\\t@GoChaela totally bizarre. This argument seems like a smokescreen to hide how underdeveloped and baseless their arguments are tbh\\r\\nSamantha\\tJaSaMorgan\\t173011255\\t1368\\t2241\\tDaydreaming of the beach....\\tCollege Grad, Democrat, Lover of too many things to list, hater of injustice &amp; inequality, history&amp;civics nerd,Reader, #PatriotsNation #Feminist #ImWithHer #H50\\tSun Oct 30 20:45:24 EET 2016\\t792799583323553792\\ten\\tnull\\t888\\t0\\tRT @iamkidpresident: It's a new week to make the world more awesome.\\r\\nDiane\\tkitawny24\\t2300072955\\t4462\\t4999\\tSouth Florida\\tNASCAR, 18, 24, 41, 42 SEC GATORS COLTS &amp;BRONCOS, LOVES ALL ANIMALS. OPINIONS ARE MY OWN.#TongueoutTuesday #ThirstyThursday #ManicMonday &amp; #FangFriday creator.\\tSun Oct 30 08:30:29 EET 2016\\t792614633865707520\\ten\\tnull\\t1033\\t0\\tRT @IneffableCosmos: Tripping. https://t.co/X62DlOSiUo\\r\\nCathy Herard\\tCathyIsReal\\t15975560\\t5342\\t3003\\tMaine\\tAutism Mom. Mom to an awesome teenager. Wife. Blogger. Runner. Disney Lover. Fueled by coffee, dark chocolate, &amp; popcorn. cathy at cathyherard dot com\\tMon Oct 31 02:55:33 EET 2016\\t792892732633182208\\ten\\tnull\\t0\\t1\\t@AOuzas05 So much to love about this. :) #runchat\\r\\nOntario Ombudsman\\tOnt_Ombudsman\\t21328706\\t37363\\t26618\\tOntario, Canada\\tOntarios Watchdog - investigating public complaints. Tweets by Communications &amp; Ontario Ombudsman Paul Dub (PD). FR: @Ont_OmbudsmanFR\\tThu Oct 27 19:18:13 EEST 2016\\t791675378481950728\\ten\\tnull\\t6\\t4\\tPRESS RELEASE: Police oversight reform long overdue: Ombudsman https://t.co/CBZqHO05sc #ONpoli\\r\\n~~MoralDecay~~\\tKSmth2000\\t2444646074\\t388\\t237\\t\\tA while back I deleted all my support on Twitter for Israel once I realised Israel are supporting Terrorists in #Syria (+ now ISIS in Mosul) #ShameOnYouIsrael\\tSun Oct 30 19:17:17 EET 2016\\t792777408101359616\\ten\\tnull\\t1\\t0\\tRT @aj_observations: @BobbyMageroski @Syricide No, it's thermite.\\r\\nDawn\\tdmansfield3\\t1309185890\\t243\\t256\\tWichita\\tBeliever. Wife, Mom, Daughter, Sister, Accountant\\tSat Oct 29 00:03:09 EEST 2016\\t792109473347186688\\ten\\tnull\\t481\\t0\\tRT @weknowwhatsbest: Given the FBI announcement, Vegas is taking bets on a certain someone\" having a marathon coughing fit right about now.</td>\n",
       "      <td>False</td>\n",
       "      <td>True</td>\n",
       "      <td>[#HillaryKaine2016, #DumpTrump, #UniteBlue, #p2, #StrongerTogether, #NastyWomen, #NewWest, #nevertrump, #Hillary's, #kellyfile, #MakeAmericaGreatAgain, #Trumplican, #TrumpsArmy, #MakeAmericaGreatAgain, #TrumpPence16, #WomenForRum, #PatriotsNation, #Feminist, #ImWithHer, #H50, #ThirstyThursday, #ManicMonday, #FangFriday, #runchat, #ONpoli, #Syria, #ShameOnYouIsrael]</td>\n",
       "    </tr>\n",
       "  </tbody>\n",
       "</table>\n",
       "</div>"
      ],
      "text/plain": [
       "                   Name       ScreenName      UserID FollowersCount  \\\n",
       "2232   Colleen Allen     Colleen_Allen14  1561696464  292             \n",
       "6790   Tina Spargo       MaxwellsMom      16485488    102             \n",
       "7537   James Gaffney     jamesgaffney     23535896    1280            \n",
       "76205  Phillip Sheppard  PSheppardTV      22729901    81958           \n",
       "85135  Liz A.            massfindings     23216446    152             \n",
       "\n",
       "      FriendsCount                        Location  \\\n",
       "2232   1180         Seattle, Washington              \n",
       "6790   122          Boston-ish                       \n",
       "7537   2919         Limerick                         \n",
       "76205  2672         WorldWide 80Million StealthRUs   \n",
       "85135  260          NaN                              \n",
       "\n",
       "                                                                                                                                                            Description  \\\n",
       "2232   School Psychologist  Social Justice  Feminism  Education  Books  Leadership  Soccer  Vegetarian/Vegan Cooking  Nature  German Shepherds                            \n",
       "6790   NaN                                                                                                                                                                \n",
       "7537   NaN                                                                                                                                                                \n",
       "76205  The Specialist, Copyrighted TX0008044160 #SurvivorCBS #USArmy #Veteran #FormerFederalAgent #Author #Actor #LegendOfThingsPast All Rights Reserved #AManAboutTown   \n",
       "85135  https://t.co/og5SVjTV7c                                                                                                                                            \n",
       "\n",
       "                           CreatedAt            StatusID Language Place  \\\n",
       "2232   Sun Oct 30 23:53:14 EET 2016   792846850185236480  en       null   \n",
       "6790   Sat Oct 29 21:12:57 EEST 2016  792429027512422400  en       null   \n",
       "7537   Fri Oct 28 11:01:22 EEST 2016  791912731754557440  en       null   \n",
       "76205  Sat Oct 29 08:48:48 EEST 2016  792241756339183616  en       null   \n",
       "85135  Fri Oct 28 18:29:33 EEST 2016  792025517926907904  en       null   \n",
       "\n",
       "      RetweetCount FavoriteCount  \\\n",
       "2232   0            1              \n",
       "6790   0            0              \n",
       "7537   2            2              \n",
       "76205  13           6              \n",
       "85135  0            0              \n",
       "\n",
       "                                                                                                                                                                                                                                                                                                                                                                                                                                                                                                                                                                                                                                                                                                                                                                                                                                                                                                                                                                                                                                                                                                                                                                                                                                                                                                                                                                                                                                                                                                                                                                                                                                                                                                                                                                                                                                                                                                                                                                                                                                                                                                                                                                                                                                                                                                                                                                                                                                                                                                                                                                                                                                                                                                                                                                                                                                                                                                                                                                                                                                                                                                                                                                                                                                                                                                                                                                                                                                                                                                                                                                                                                                                                                                                                                                                                                                                                                                                                                                                                                                                                                                                                                                                                                                                                                                                                                                                                                                                                                                                                                                                                                                                                                                                                                                                                                                                                                                                                                                                                                                                                                                                                                                                                                                                                                                                                                                                                                                                                                                                                                                                                                                                                                                                                                                                                                                                                                                                                                                                                                                                                                                                                                                                                                                                                                                                                                                                                                                                                                                                                                                                                                                                                                                                                                                                                                                                                                                                                                                                                                                                                                                                                                                                                                                                                                                                                                                                                                                                                                                                                                                                                                                                                                                                                                                                                                                                                                                                                                                                                                                                                                                                                                                                                                                                                                                                                                                                                                                                                                                                                                                                                                                                                                                                                                                                                                                                                                                                                                                                                                                                                                                                                                                                                                                                                                                                                                                                                                                                                                                                                                                                                                                                                                                                                                                                                                                                                                                                                                                                                                                                                                                                                                                                                                                                                                                                                                                                                                                                                                                                                                                                                                                                                                                                                                                                                                                                                                                                                                                                                                                                                                                                                                                                                                                                                                                                                                                                                                                                                                                                                                                                                                                                                                                                                                                                                                                                                                                                                                                                                                                                                                                                                                                                                                                                                                                                                                                                                                                                                                                                                        Text  \\\n",
       "2232   I didnt quit Second City because of Donald Trump. I quit because I am excellent, & I demand excellence from those https://t.co/dJxR8DciyY\\r\\nGreg Mayfield\\tgreg_gmayfield\\t2262202274\\t149\\t169\\t\\t\\tWed Oct 26 05:03:57 EEST 2016\\t791098006061785088\\ten\\tnull\\t648\\t0\\tRT @WDFx2EU7: Rejoice! NBC Nightly News just reported on Obama's involvement with Hillary and her email scandal\\r\\nCherie_Cook\\tcdcook\\t21884573\\t81\\t64\\tMichigan\\t\\tThu Oct 27 17:48:17 EEST 2016\\t791652744805351424\\ten\\tnull\\t1\\t0\\tRT @IsraelHayomEng: Ancient scroll dating from 7th century BCE mentions Jerusalem https://t.co/Epvyj86cbA @UNESCO\\r\\nSeedyNastyVOTER\\tseedywumps\\t17346357\\t3032\\t2790\\tlib utopia, with unicorns\\tCompassionate humanist. Left leaning. NO to RW nonsense. #gunsense, #humanrights #LGBTQStraightally #vegan #addict #UniteBlue\\tFri Oct 28 08:28:15 EEST 2016\\t791874195240079360\\ten\\tnull\\t315\\t0\\tRT @DavidCornDC: He'll file Chapter 11, stiff his vendors, get a raise, and all will be fine. https://t.co/ySxwP7DFX4\\r\\nChris11962\\tChris11962\\t190878483\\t7116\\t6341\\tNYC\\tRightie, political junkie, insomniac & deplorable. GO @realDonaldTrump! #MAGA! Trump supporters, follow me & I'll follow back. Lists = blocked.\\tMon Oct 31 01:16:00 EET 2016\\t792867679854010368\\ten\\tnull\\t2\\t0\\tRT @Drbillsawyer: Life is not fair, but God is always faithful!\\r\\nOwen Barcala\\tobarcala\\t1358247302\\t236\\t735\\t\\tMA attorney. Trials, appeals, plaintiff, defense, you name it. Opinions are my own, not my employer's.\\tFri Oct 28 22:26:18 EEST 2016\\t792085101144223744\\ten\\tnull\\t202\\t0\\tRT @BenjySarlin: The Anthony Weiner sexting story broke five years ago. Its aftershocks are now threatening to upend a presidential electio\\r\\nJanette Barrios\\tjbarpr\\t17912541\\t89\\t339\\tSilicon Valley\\tPR pro, wife, mom, former music educator, views are my own. Seeker of creative, uplifting and beautiful things\\tFri Oct 28 06:54:02 EEST 2016\\t791850487439949824\\ten\\tnull\\t1128\\t0\\tRT @SteveKopack: .@FLOTUS dancing behind HRC right now https://t.co/RJ8pp7VCcI\\r\\nWise_Diva\\twise_diva\\t14346779\\t5008\\t3520\\tIn the sky\\tRetired AJC Dating Blogger/Biotech Fan\\tMon Oct 31 04:13:30 EET 2016\\t792912349036294144\\ten\\tnull\\t535\\t0\\tRT @peterdaou: Richard Branson: @realDonaldTrump told me he wanted to spend his life destroying people https://t.co/gJAfTGG4RJ\\r\\n#SaveAgentCarter\\tlibbyshoe\\t15928609\\t211\\t457\\tLos Angeles\\tAssistant Editor/ Editor. Writer. Insomniac. #I'mWithHer\\tFri Oct 28 20:36:50 EEST 2016\\t792057550598352896\\ten\\tnull\\t1364\\t0\\tRT @mmurraypolitics: Agreed. FBI should answer all questions about this.   Otherwise, truly looks like they're putting their finger on the\\r\\n55degreeNorth\\tREV_20_10\\t14974705\\t516\\t543\\teverywhere\\twhite, British vehemently oppose Islam, therefore I am racist.\\tThu Oct 27 00:31:10 EEST 2016\\t791391746638901248\\ten\\tnull\\t1027\\t0\\tRT @col_nj: The Clinton's R So Screwed Up Bill Thinks Hillary's Close Work w/ A TERRORIST Org Is Boast Worthy  Think About That  #wednesday\\r\\nJanice G Washington\\tJaniceGW\\t15726120\\t3322\\t4999\\tInstagram: janicegwashington\\tLet me be clear as I can be: In politics and in life, ignorance is not a virtue. It's not cool to not know what you're talking about. President Obama-5/15/16\\tSat Oct 29 17:31:29 EEST 2016\\t792373293302939649\\ten\\tnull\\t1100\\t0\\tRT @paulkrugman: Jane Mayer on why this was unprecedented and disgraceful https://t.co/TTjLtVXwAM\\r\\nbrian b\\talohabrianb\\t2161362299\\t671\\t592\\tJax Beach, FL USA\\tLove the USA, Freedom, my Wife, the Beach, Motorcycles, Jeeps, Hotrods, Veterans and Cold Beers.\\tWed Oct 26 05:09:38 EEST 2016\\t791099438597083137\\ten\\tnull\\t1190\\t0\\tRT @BringerOfRain88: Well this has to be Awkward. #DNCleak #BernieMustDisavow https://t.co/vFHx62VyAI\\r\\nKyle Huff\\tHuff_Kyle_5\\t1027542096\\t527\\t720\\tPub\\tFuck Fsu\\tWed Oct 26 16:12:21 EEST 2016\\t791266216325308416\\ten\\tPlaceJSONImpl{name='Florida', streetAddress='null', countryCode='US', id='4ec01c9dbc693497', country='United States', placeType='admin', url='https://api.twitter.com/1.1/geo/id/4ec01c9dbc693497.json', fullName='Florida, USA', boundingBoxType='Polygon', boundingBoxCoordinates=[[Ltwitter4j.GeoLocation;@28bf82d9], geometryType='null', geometryCoordinates=null, containedWithIn=[]}\\t0\\t1\\tHappy birthday pauly, hope it's a good one @p_cattt\\r\\nSherri Brown\\tSherriB13865518\\t1473923509\\t88\\t130\\t\\t\\tSat Oct 29 05:06:49 EEST 2016\\t792185892756557824\\ten\\tnull\\t2478\\t0\\tRT @AndyWHumphreys: NYT: Clintons Failed to Disclose $2.35M Donation from Russian-Owned Uranium Corp - Breitbart https://t.co/6dTR2SBf79 @D\\r\\nStephen Liss\\tstephen_liss\\t16958260\\t1858\\t4074\\tKenmore, WA, USA\\tI'm OK. You? Disturbing shit. Putting one foot in front of the other. Generally glad to have a pulse. Between jobs and looking to upgrade.\\tSun Oct 30 02:22:56 EEST 2016\\t792507037477244928\\ten\\tnull\\t0\\t0\\tThat is a cruel way to kill an animal. No living creature should be treated that way. This is an obscenity, of the https://t.co/NIo1QS65Cn\\r\\nNadine Catalano\\tNadineCatalano\\t1431351878\\t345\\t289\\tUnited States\\tMaster Gardener, Recipient of Blue Ribbons for Floral Design and Horticulture,numerous other colors too!\\tThu Oct 27 21:58:54 EEST 2016\\t791715816207155200\\ten\\tnull\\t19861\\t0\\tRT @realDonaldTrump: A lot of call-ins about vote flipping at the voting booths in Texas. People are not happy. BIG lines. What is going on?\\r\\nTammy Kennedy\\tJaJasplace\\t150674523\\t277\\t614\\t\\t\\tFri Oct 28 18:14:06 EEST 2016\\t792021629333282816\\ten\\tnull\\t0\\t0\\tI'm Driving  - Sent from My Car\\r\\nNEWS/SPORTS GIST\\tgistpunch\\t230258562\\t570\\t289\\tLagos\\tLatest News on Entertainment, Sport, Music and Politics around the Globe. Contact us on 08095381635 and gistpunch@gmail.com for Advertisement\\tTue Oct 25 20:25:23 EEST 2016\\t790967504717815808\\ten\\tnull\\t0\\t0\\tMom Holds Separated Twin For First Time, Says Its The Best Moment Of Her Life https://t.co/oU3wmegMe6 https://t.co/mtCTTpVQ8k\\r\\nNasty Science Pussy\\tMadSciKat\\t15176566\\t2735\\t2826\\tState of Chaos\\t#VoteBLUE #p2 =^..^=\\tThu Oct 27 07:52:30 EEST 2016\\t791502813218177024\\ten\\tnull\\t0\\t0\\tWhatever. I almost hope he takes #Utah outright, just to rub #Trumps nose in it. =^..^= #McMullin #NeverTrump https://t.co/hp8FAPjyfJ\\r\\nJakob Hassan\\thassanjakob\\t1041221028\\t449\\t850\\tSteeler Nation\\tIf I weren't crazy, I'd be insane!\\tThu Oct 27 14:56:12 EEST 2016\\t791609441288392706\\ten\\tnull\\t2\\t0\\tRT @hammertime1009: Lol how did Houston lose?\\r\\nBHM - Disposition\\tDave_BHM\\t1408921885\\t2459\\t260\\tIreland\\t\\tSat Oct 29 21:41:12 EEST 2016\\t792436137298014208\\ten\\tnull\\t0\\t0\\t@Aderpt_ im buying a strix 1070 in about 2 weeks\\r\\nNattyNoles13\\tNattyNoles13\\t231282120\\t283\\t1573\\tOrlando, FL\\tBorn again!! Bible-believing follower of Jesus Christ!! Pentecostal. FSU Seminoles, Washington Redskins, Jay Royals, UWF Argonauts, UAB Blazers\\tWed Oct 26 04:03:45 EEST 2016\\t791082855845793792\\ten\\tnull\\t29\\t0\\tRT @Jerusalem_Post: Gambia announces withdrawal from International Criminal Court https://t.co/mOjz6Rdf3h #BreakingNews\\r\\nTheresa snow\\tlantetrain\\t144284113\\t2163\\t2174\\tCanada\\tObSess with #ROOKIEBLUE #MCSWAREK #BenBass #ChicagoFire #Dawsey Fans of #ChicagoPD #Linstead #GH #Lante #TML Fan soul sista @gaellicious & @Justicerocks11\\tFri Oct 28 23:58:46 EEST 2016\\t792108370081775621\\ten\\tnull\\t0\\t1\\t@BlackhawkDesign Getting right on that and I really hope Nike does indeed release these for real. Cause I would so https://t.co/5Zm3xfw7il\\r\\nCarmen Carratini\\tmeralda\\t21972530\\t411\\t805\\tFlorida,USA\\tINDEPENDENT CONSERVATIVE, CATHOLIC, AMERICAN AND PROUD OF IT! MOM, WIFE, DAUGHTER, NEW YORKER AND PATRIOT!\\tThu Oct 27 05:41:54 EEST 2016\\t791469946794446848\\ten\\tnull\\t9981\\t0\\tRT @realDonaldTrump: Beautiful evening in Kinston, North Carolina - thank you! Get out and VOTE!! You can watch tonight's rally here: https\\r\\nBertAnderson\\tBertAnderson\\t12365662\\t756\\t1315\\tAndover, MA\\tHusband, father, grandfather of twin boys, engineer, gourmet cook,  pit master, gardener, maven, tweeter, skeptic, lover of life, patriot. Born of the Sun.\\tFri Oct 28 01:44:33 EEST 2016\\t791772603128115200\\ten\\tnull\\t1110\\t0\\tRT @TEN_GOP: Herman Cain: Barack Obama thinks he's the president of the world, when instead...he's a failed president of the USA.\"  #Thurs                                                                                                                                                                                                                                                                                                                                                                                                                                                                                                                                                                                                                                                                                                                                                                                                                                                                                                                                                                                                                                                                                                                                                                                                                                                                                                                                                                                                                                                                                                                                                                                                                                                                                                                                                                                                                                                                                                                                                                                                                                                                                                                                                                                                                                                                                                                                                                                                                                                                                                                                                                                                                                                                                                                                                                                                                                                                                                                                                                                                                                                                                                                                                                                                                                                                                                                                                                                                                                                                                                                                                                                                                                                                                                                                                                                                                                                                                                                                               \n",
       "6790   All the big things turned out to not exist. No, there is no evidence to suggest these new emails were covered... https://t.co/ai5LTbwD0j\\r\\nSarah Coggins\\tspcoggins\\t14824820\\t2698\\t2545\\tRaleigh, NC\\tMom to 2. #NCSU alum. Sharing my crafts & #DIY projects. #foreclosuretohome Mombassador for @NellosSauce. Also at https://t.co/uAKmCZeAO3 | #WeAreNotThis\\tWed Oct 26 19:31:06 EEST 2016\\t791316234637803521\\ten\\tnull\\t0\\t0\\tTreat your guests to one of these fun #Halloween beverages https://t.co/KRxo3KAPFy #DreamCreateInspire #recipe https://t.co/3chJYxT1ZO\\r\\nUNIVERSEGAGA\\tmonster_bri\\t181805248\\t1745\\t1641\\tLos Angeles, CA\\t#ImWithHer #NeverHitlerTrump #ProSaneDemocrats it's okay not to be okay and I'm okay with that.\\tSat Oct 29 21:07:52 EEST 2016\\t792427748555763712\\ten\\tnull\\t23\\t0\\tRT @hill55willie: Hillary will win the election but if we don't change the House and Senate we will continue to have nothing but Obstructio\\r\\nNaomi Parkhurst\\tnaogannet\\t15770872\\t418\\t370\\t\\tHand craft lover (particularly the fiber arts) and librarian. Knitting  designer. she/her. https://t.co/kdGxpvbKWK\\tSun Oct 30 03:55:19 EEST 2016\\t792530285544046592\\ten\\tnull\\t0\\t1\\tHm. Need to figure out what to read for bed. Perhaps I'll reread Greenglass House.\\r\\nclorin1049\\tclorin1049\\t166641050\\t99\\t472\\tNorthern Kentucky\\tfollow me on Facebook also to interact\\tMon Oct 31 02:15:51 EET 2016\\t792882742044360708\\ten\\tnull\\t0\\t0\\tMirko Sata: The Rise of Another Genius White Ink Tattooer https://t.co/vqqXf8myOr\\r\\nQuint Studer\\tquint_studer\\t1399733450\\t5100\\t1686\\t\\t\\tTue Oct 25 18:56:58 EEST 2016\\t790945254170058752\\ten\\tnull\\t9\\t0\\tRT @Reds: That's easy... @ZVincej... Gold Glove winning shortstop, leader of our team in Pensacola. The guy did it all. https://t.co/X6QD7h\\r\\nJames Wrate\\tWrateJames\\t2495637565\\t2738\\t2837\\tKuala Lumpur Federal Territory\\tPlease remember TRUMP supporters are stupid #imwithher Hillary Clinton For President #estoyconella  Mexican American and United States Air Force Veteran\\tSun Oct 30 12:58:54 EET 2016\\t792682184683446273\\ten\\tnull\\t40\\t0\\tRT @2016Opinion: It's vital to turn Senate blue and turn as many house seats as we can. Repubs vow more witch-hunts & set to block everythi\\r\\nTodd Spoth\\ttoddspoth\\t15509908\\t1874\\t1721\\tHouston, Texas\\tCommercial & editorial photographer, music producer based in Houston, Texas, USA. 832-265-3486 | info@toddspoth.com | http://t.co/LeZ6FqHcbq\\tTue Oct 25 20:40:59 EEST 2016\\t790971431785857024\\ten\\tnull\\t0\\t1\\tOk World, I woke up, answered my emails, turned down like 4 terrible photo requests and now its time to get a few good ones to make it up!\\r\\nKimberly\\tKimeeAnnR\\t1024508293\\t601\\t458\\tTexas, USA\\tLife is precious!!\\tTue Oct 25 18:55:39 EEST 2016\\t790944922329153536\\ten\\tnull\\t415\\t0\\tRT @pnehlen: Cover up exposed! Outrageous liars and BOOM! POTUS knew all along and LIED. WikiLeaks - The Podesta Emails https://t.co/re6yEz\\r\\njo\\tnattuurlijk\\t1434060954\\t331\\t517\\tCanada\\t\\tWed Oct 26 15:19:33 EEST 2016\\t791252928799600640\\ten\\tnull\\t125\\t0\\tRT @GartrellLinda: Read this email. Can U still doubt Clinton plans 2 pass TTP?  Private position differs from what she told #BernieSanders\\r\\nDasher\\tthat_dash\\t2262341445\\t247\\t616\\tHoboken, GA\\tGod, My Wife, My Family, Guns! how I keep my life square! Romans 8:31\\tThu Oct 27 19:38:51 EEST 2016\\t791680570703175680\\ten\\tnull\\t0\\t1\\tVine... the app I never actually had but the tweets that entertained me because of it... #RIPVine\\r\\nHome\\tEggrolls_34\\t1461192817\\t136\\t2309\\t\\t\\tSat Oct 29 05:49:43 EEST 2016\\t792196689759178752\\ten\\tnull\\t460\\t0\\tRT @JIKOOKDAILY: 161029 MuCore Pre-rec  Jimin was talking about what he's going to be for halloween & bc JK's a bunny he went for cabbage\\r\\nFiverr Girl\\tfiverrgirl\\t207176344\\t1693\\t1806\\t\\tQueen of getting shit done on fiverr\\tSun Oct 30 01:58:45 EEST 2016\\t792500952171503620\\ten\\tnull\\t0\\t0\\tThe latest The Fiverr Girl Daily! https://t.co/rZxscoiZtk Thanks to @Undented #ewpopfest #ghostbusters\\r\\nErinSefcik\\tAllwaysbelieve\\t1355228820\\t26\\t97\\t\\t\\tMon Oct 31 02:39:18 EET 2016\\t792888643308302336\\ten\\tnull\\t28\\t0\\tRT @fragilechildTX: .@MattRinaldiTX Do the right thing. Take action to #protectTXfragilekids like Keegan. Lives depend on you.https://t.co/\\r\\nSteve Clark\\tsteveclarkuk\\t239503657\\t36850\\t32828\\tHampshire, UK\\tDad, Journalist and Sunday Times bestselling author. Books include Only Fools & Horses: The Official Inside Story and @TVlocationguide\\tTue Oct 25 20:04:30 EEST 2016\\t790962249800253440\\ten\\tnull\\t0\\t0\\t@kimsmothers5 the school\\r\\nWrenita\\tmscod1960\\t2499936273\\t199\\t128\\t\\tRetired P&C Underwriter, mother, grandmother#hopingtolivetoseeabetterAmerica. #I'mWithHer If you trolling keep it moving. I will school you and block you.\\tTue Oct 25 21:24:58 EEST 2016\\t790982499715383298\\ten\\tnull\\t0\\t4\\t@mic What! OMG..\\r\\nDean Gilkerson\\tDeanGilkerson\\t2265392563\\t4089\\t5000\\t Ohio-VIA PIKEVILL KENTUCKY \\tCARPENTER Husband father grandfather a happy man.love to fish and camp with family. CAR GUY NASCAR GUY BIKER GUY CONSERVATIVE L@VE of COUNTRY GOD & OUR VETERANS\\tThu Oct 27 21:42:45 EEST 2016\\t791711751033221120\\ten\\tnull\\t166\\t0\\tRT @NolteNC: #NeverTrump is working 24/7 to ensure this happens.   Never forget that. https://t.co/RS2iUlci5q\\r\\nSheila Farley\\tfarley551\\t2423379066\\t2047\\t2851\\tAlbany, OR\\t#Hearties fan of #WCTH & #ChesapeakeShores. Mother of 1 son, graduate of Oregon State University. #Hearties #Chessies & #HallmarkSuperfans!\\tFri Oct 28 23:36:51 EEST 2016\\t792102851484844032\\ten\\tnull\\t979\\t0\\tRT @KimDotcom: Dear @jasoninthehouse, pls have a look: https://t.co/3X6XEAK9pi  Give me an hour of your time and you'll get Obama/Biden/Cli\\r\\nNoizylady\\tnoizylady\\t21418209\\t1149\\t2007\\tCharleston S.C.\\thttp://t.co/pQO45Q7FYs offers a huge selection of high-quality home furniture, office furniture, baby furniture, vacuum cleaners, water fountains and toys.\\tSat Oct 29 08:08:13 EEST 2016\\t792231541686439936\\ten\\tnull\\t0\\t0\\tMy fitbit #Fitstats_en_US for 10/28/2016: 10,069 steps and 4.1 miles traveled. https://t.co/r34IdiwCWp\\r\\nSTICKYBACKSIGNS.COM\\tstickybacksigns\\t2185523918\\t972\\t2247\\tUSA\\tExpress yourself with http://t.co/6vpgVZVVYW  Custom Bumper Stickers\\tFri Oct 28 09:45:06 EEST 2016\\t791893536572530688\\ten\\tnull\\t11249\\t0\\tRT @mike_pence: So thankful everyone on our plane is safe. Grateful for our first responders & the concern & prayers of so many. Back on th\\r\\nKate, Ph.D.\\tKateli8\\t1913711058\\t178\\t92\\t\\tAsian American Immigrant\\tThu Oct 27 19:23:02 EEST 2016\\t791676591017496577\\ten\\tnull\\t1562\\t0\\tRT @PrisonPlanet: Christmas is being curtailed across Europe, while children are being taught to praise Allah. https://t.co/5egmaMVAK8\\r\\nalexander\\tTheaateigen\\t2390903036\\t531\\t1187\\tOslo, Norge\\tPublic Figure\\tSat Oct 29 16:13:45 EEST 2016\\t792353730347864064\\ten\\tnull\\t0\\t0\\tSo the GRANNY Gonna get 30 years in JAIL https://t.co/uT8LOyQQ4G\\r\\nToyin Abdulrazaq\\ttoyinabdulrazaq\\t147685063\\t845\\t819\\tEverywhere\\t\\tSat Oct 29 18:55:06 EEST 2016\\t792394336105291776\\ten\\tnull\\t0\\t0\\t0-0????? Lol.. United should hire Rafael Benitez I think. #MUFC\\r\\nCarole - #NoHillary\\tScarlett210\\t21424216\\t20409\\t19575\\tUNFOLLOW & I UNFOLLOW-NO LISTS\\tFreelance writerSuppALL #Military #Vets #ProIsrael #Benghazi #TCOT #CCOT #MolonLabe, photog,FFd by JGilliam,D'Souza,KParonto,KenWahl,J Rosen,JBroaddrick\\tWed Oct 26 06:04:03 EEST 2016\\t791113131783249920\\ten\\tnull\\t1302\\t0\\tRT @DanScavino: St. Johns County Sheriff's Department ~ Florida. #LESM #MAGA #AmericaFirst https://t.co/1rZ2Gp945x\\r\\nkat\\tRomaazM\\t2286053444\\t120\\t90\\t\\tdog lover\\tSun Oct 30 23:57:56 EET 2016\\t792848034648301568\\ten\\tnull\\t9213\\t0\\tRT @BernieSanders: I say to Donald Trump: instead of giving speeches about trade why don't you lead by example and make your goods in Ameri\\r\\nalbert b chu\\tchubert\\t15446917\\t1617\\t835\\tSilicon Valley, California\\tearly adopter, angel investor, startup advisor, mentor & connector  #mobile #wearables #iot #fintech #startups  dog-obsessed\\tMon Oct 31 07:52:37 EET 2016\\t792967493316784128\\ten\\tnull\\t5\\t0\\tRT @Fin__Tech: Serving up a better burger: How IoT and blockchain will reinvent the global supply chain https://t.co/7EiwbJUNt1  #blockchai\\r\\nMary\\tcatpancake\\t241046700\\t1197\\t891\\tJirque du Soleil\\tWe will find a way through this. - Khadgar\\tSat Oct 29 00:14:00 EEST 2016\\t792112203809771520\\ten\\tnull\\t0\\t1\\t@Kinsale42 That friend looks past helping. xDDD Damn, he is handsome as can be.\\r\\nJerklord Cromwell\\tiamjerklord\\t2459142709\\t592\\t1043\\t\\tHighly acclaimed #SFGiants fan in San Diego. I also tweet about movies via #TCMParty. I like #RiffTrax. Is bamboo corn?\\tSun Oct 30 18:21:33 EET 2016\\t792763382080299008\\ten\\tnull\\t0\\t0\\tHer boyfriend is full of nonsense. #SheShouldCutHisHeadOffAndBoilHimInOil #TCMParty\\r\\nERlC\\tDanceTheory\\t2267102203\\t2159\\t4690\\tCalifornia\\tNinja. Cereal Thriller. Music. Movies. Video games. TV. Technology. Cycling. Fitness. Food. Pop Culture.  #VaderGold #MelloGang #TKPuppytrooper\\tFri Oct 28 10:54:10 EEST 2016\\t791910918561017857\\ten\\tnull\\t1401\\t0\\tRT @papermagazine: Miss Iceland quits pageant after being told she has big shoulders\" and \"too much fat.\" The world is insane. https://t.c                                                                                                                                                                                                                                                                                                                                                                                                                                                                                                                                                                                                                                                                                                                                                                                                                                                                                                                                                                                                                                                                                                                                                                                                                                                                                                                                                                                                                                                                                                                                                                                                                                                                                                                                                                                                                                                                                                                                                                                                                                                                                                                                                                                                                                                                                                                                                                                                                                                                                                                                                                                                                                                                                                                                                                                                                                                                                                                                                   \n",
       "7537   ...it should worry anyone interested in a fully functioning democracy within the rule of law that a TD chose,... https://t.co/IYTiUKCNpr\\r\\nThomas P. Krepelka\\tSingerman2000\\t1146809210\\t6629\\t6249\\tPlainfield, IL\\tRocket ship builder,loves the White Sox\\tWed Oct 26 15:10:40 EEST 2016\\t791250692379963392\\ten\\tnull\\t811\\t0\\tRT @Stevenwhirsch99: The media refuses to show us the crowds because Trumps are overwhelmingly larger and it doesn't reflect in the polls.\\r\\nMatt Eastman\\teasyy_East\\t124955053\\t1007\\t884\\tLas Vegas, NV\\tEasyy does it... @ unlv. snap- mattyyeast\\tThu Oct 27 08:01:33 EEST 2016\\t791505088825135104\\ten\\tnull\\t220\\t0\\tRT @LakersNation: Here we go #LakeShow\\r\\nConnie Landro\\tclandro\\t145413782\\t420\\t1849\\tWashington DC\\tBorn and raised in NYC. Wherever I may travel - Always a New Yorker at heart. My passion: History\\tFri Oct 28 14:47:32 EEST 2016\\t791969645356052480\\ten\\tnull\\t0\\t1\\tHappy #NationalChocolateDay https://t.co/oxLTCcFHJf\\r\\nDavid Yurena Acaylar\\tDaveAcaylar27\\t2345294066\\t36\\t438\\tDavao City, Davao Region\\tConfidently Beautiful with a Heart 3\\tWed Oct 26 05:07:14 EEST 2016\\t791098833207959552\\ten\\tnull\\t0\\t0\\tMy head won't admit what my heart already knows.\\r\\nAndrew T\\tTiver_A\\t1574846846\\t505\\t4307\\tAdelaide, South Australia\\tCommunity Development, Human Rights, Political Analysis, Solidarity, Justice. Asia, Australia, World\\tWed Oct 26 10:34:02 EEST 2016\\t791181075187990528\\ten\\tnull\\t33\\t0\\tRT @raissawriter: I hope the Du30 government will post online all the MOUs signed in China. thanks.\\r\\nThe Blue Devils\\tTheBlueDevils\\t16789643\\t57896\\t9708\\tConcord, CA\\tThe Blue Devils offer young men and women between the ages of 7 and 21 quality educational and performance experiences in the areas of music and dance.\\tFri Oct 28 17:10:15 EEST 2016\\t792005563198603287\\ten\\tnull\\t4\\t28\\tWatch as Clark, horn sergeant of the Blue Devils, gives some words of advice in #ClashOfTheCorps #bdworld @fusetv https://t.co/73YOOplr8A\\r\\nTrisha\\tplabg\\t172279923\\t1741\\t1134\\tBrisbane\\tRTs not necessarily my views. Leftie & Proud of it - All Advertising& aggresive trolls blocked. Put me on a list without asking Blocked\\tFri Oct 28 11:25:08 EEST 2016\\t791918709665247232\\ten\\tnull\\t1\\t3\\t@SirThomasWynne @MikeCarlton01 @Telstra  Hell I live in a safe labor seat I'll probably NEVER get it\\r\\nI(D)Fayanju\\tXCellofantastic\\t1619156682\\t333\\t1538\\t#lookslikeabadDude\\tsportswriting @Whattaplay ;@Swarthmore '14; urban education equity and environmental issues; RTs are not necessarily endorsements\\tFri Oct 28 06:01:09 EEST 2016\\t791837177999130624\\ten\\tnull\\t1879\\t0\\tRT @MarkRuffalo: Rubber bullets in the face of peaceful and prayerful Water Protectors at #standingrock please https://t.co/1mVgFzDf4L\\r\\nLiving the Gourmet\\tlivingtgourmet\\t19561964\\t4160\\t2502\\tLI, NY\\tA lifestyle website featuring recipes, reviews, wines & celebrity interviews. #LTG\\tTue Oct 25 21:12:33 EEST 2016\\t790979376963809281\\ten\\tnull\\t98\\t0\\tRT @itsreallykita: Are you an old soul? https://t.co/V2CmqjQPzI via @itsreallykita\\r\\nEllarosenash\\tellarosenh\\t2441099711\\t100\\t976\\tNew Hampshire, USA\\t\\tThu Oct 27 16:23:02 EEST 2016\\t791631290957168640\\ten\\tnull\\t188\\t0\\tRT @HuffingtonPost: Cubs fan receives gift of front-row World Series tickets after 71 years of waiting https://t.co/6FiK3rATJD https://t.co\\r\\nDoubleRistretto\\tDblRistretto\\t179043036\\t345\\t468\\t\\tSport to my left, sport to my right - and my politics firmly in between...\\tSun Oct 30 09:34:06 EET 2016\\t792630645600034816\\ten\\tnull\\t0\\t0\\t@Jo_Tovey @npomalley  the social unrest if Trump loses will be like we've not seen before in the aftermath of an election. Frightening.\\r\\nIncapableHero\\tIncapableHero\\t2324216569\\t54\\t216\\tunknown\\t\\tMon Oct 31 07:12:14 EET 2016\\t792957329608216576\\ten\\tnull\\t8478\\t0\\tRT @markmobility: Holy sh*t. Harry Reid letter to Comey: you have explosive information about ties between Trump and the Russian govt https\\r\\nNC_Landslide_Nov8\\tfotophilNC\\t2185553479\\t1613\\t2202\\tSwamp\\t#MAGA #2A #Trump #TrumpPence2016 UNAFILLIATED #NeverHillary #DrainTheSwamp\\tSat Oct 29 17:59:37 EEST 2016\\t792380375335047168\\ten\\tnull\\t0\\t0\\t@RickSchaler lol nice one RT #DrainTheSwamp\\r\\nThomas P. Krepelka\\tSingerman2000\\t1146809210\\t6629\\t6249\\tPlainfield, IL\\tRocket ship builder,loves the White Sox\\tSun Oct 30 03:05:17 EET 2016\\t792532796497616896\\ten\\tnull\\t1\\t0\\tRT @Bart_39: Plz RT  @realDonaldTrump A way2 #MAGA: get America's government's boot off necks of America's ppl; #AbolishIRS. https://t.co/F\\r\\nParaphernaliac\\tdeadpandick\\t249937352\\t77\\t644\\tPhoenix, AZ, United States\\tMore bitter than unsweetened Kombucha.\\tFri Oct 28 06:18:15 EEST 2016\\t791841480805494784\\ten\\tnull\\t158\\t0\\tRT @tumblr: Tear-jerking fan fiction. https://t.co/AeupSvSEJa https://t.co/R8YGNIEcp8\\r\\nPeter McGillivray\\tpmcgillivray\\t16369288\\t1385\\t1811\\tSudbury, Ontario\\tCanadian operatic baritone. Interested in Blue Jays baseball, fine whisky, hiking, canoeing & politics. Curious about Everything.\\tFri Oct 28 19:31:18 EEST 2016\\t792041057374523397\\ten\\tnull\\t0\\t0\\tSad to hear of the passing of one of Canada's great baritones, the irreplaceable and truly lovely Bernard... https://t.co/fy1mboPzVJ\\r\\nM Lynch\\tMarilynLynch\\t25010541\\t542\\t672\\tSpringfield\\tall dolled up in gabardine. she/her\\tSun Oct 30 23:48:26 EET 2016\\t792845645308502016\\ten\\tnull\\t0\\t0\\tTom Colicchio killing it this elex https://t.co/2CQp5hhRF6\\r\\nSamantha Hansen\\tTealz95\\t1046533759\\t48\\t252\\tMI\\tLove to have fun and enjoy life.\\tSun Oct 30 18:27:53 EET 2016\\t792764975442001922\\ten\\tnull\\t0\\t0\\t@tacobell my friends want to know when the #chilicheeseburrito will reappear? #JustDoIt\\r\\nNYT National News\\tNYTNational\\t1767741\\t66365\\t536\\tFrom Sea to Shining Sea \\tBreaking news and in-depth reporting from the National Desk of The New York Times. Header: Travis Dove for The New York Times. More: https://t.co/7vR6YeFTA5\\tWed Oct 26 20:28:02 EEST 2016\\t791330559997972484\\ten\\tnull\\t0\\t0\\tBrand promotions suggest Donald Trump is looking past election day https://t.co/EW9SuDEZ2y\\r\\nRenee Laughingwater\\tlaughingwater61\\t2337376513\\t1217\\t5000\\t Villa Rica,  Georgia, USA\\ti am native american i believe in my teaching and i stand strong for my people wether there cherokee or lakota we are family.  i will fight for my people\\tThu Oct 27 22:48:56 EEST 2016\\t791728405540642816\\ten\\tnull\\t51\\t0\\tRT @AmericanIndian8: Dakota Access Pipeline fight a product of ignored rights https://t.co/k4zRLVgOmD #NoDAPL @POTUS  #INDIGENOUS #TAIRP ht\\r\\nBlack Mamba\\tVioletMamba\\t1335463908\\t513\\t976\\tCanada\\tHobbies include drinking and whining about how The Simpsons isn't funny any more.\\tMon Oct 31 02:48:17 EET 2016\\t792890904050892800\\ten\\tnull\\t0\\t0\\tWill the democrats try to replace Clinton? https://t.co/LcUrLwJTMk\\r\\nVerdell Van Pelt\\tmr_wrightaway\\t15562819\\t2118\\t493\\tMontega \\tPhD student. Supermanist. Recovering evangelical. tennis player. TKD kicker. Freedom writer. Sacred cows make great cheeseburgers. Serena, Xena, Diana.\\tFri Oct 28 22:25:51 EEST 2016\\t792084987554197504\\ten\\tnull\\t0\\t0\\t@nealcarter I'm more concerned abt the folks who benefit from playing the center at the expense of everyone else for panels and likes.\\r\\nDeplorable Redneck\\ta_degeatano\\t1411325341\\t616\\t353\\tUSA\\tMother, wife and dog lover. With God all things are possible The truth will prevail about (The Clintons), and Trump will win! #TrumpPence #MAGA #defendWL\\tMon Oct 31 03:35:18 EET 2016\\t792902738686251010\\ten\\tnull\\t0\\t1\\t@kristilade @DouglasESchoen Im proud of you Doug.  @RiskyPeter @Angela__Wagner @datrumpnation1\\r\\nMara Fernndez\\tminaharker20_12\\t155850063\\t1231\\t2679\\tSpain\\tHuman being (Homo sapiens). Woman. Likes dogs and cats.  'Courage is fear holding on a minute longer.' (General George S. Patton)  Personal account.\\tFri Oct 28 12:49:02 EEST 2016\\t791939825486082048\\ten\\tnull\\t3\\t0\\thttps://t.co/zwpxLa0dfD Early intensive behavioral intervention (EIBI) for increasing functional behaviors and skills #autismspectrum\\r\\nTim Fowler\\ttimfowler7_tim\\t1283444665\\t2072\\t3188\\t\\tSE USA - Upholds European-US civilising influence. #English #French #German #Russian\\tWed Oct 26 23:24:24 EEST 2016\\t791374946404536320\\ten\\tnull\\t9371\\t0\\tRT @scottisbell_: I'm a millennial & I just voted @realDonaldTrump for POTUS! #Trumpified #trumptrain we will Make America Great Again plea\\r\\nDRT\\tbadgerbanker\\t238713156\\t243\\t862\\tWisconsin\\tWhere's the game at?\\tSun Oct 30 17:20:55 EET 2016\\t792748121558224896\\ten\\tnull\\t0\\t0\\t@LizClaman  That hat mutes your good looks. Go Cubs !\\r\\nIone DeSantis\\tFigaro89061\\t144495813\\t162\\t110\\t\\t\\tThu Oct 27 18:43:03 EEST 2016\\t791666528466853889\\ten\\tnull\\t5152\\t0\\tRT @wikileaks: Hillary Clinton hid email problem from her own staff https://t.co/BFUbhDbk33\\r\\nJay Lamb\\tmacinjay\\t15697181\\t504\\t863\\t\\tLong suffering Cleveland Sports Fan and member of BuckeyeNation. Apple/Mac fan. Outdoor/Bird enthusiast.\\tSun Oct 30 04:52:00 EET 2016\\t792559651455983618\\ten\\tnull\\t0\\t0\\t@gruber As an aside I'm hearing the Indians will revisit their logo after the Series.\\r\\nFrancesco Fontanot\\tFFontanot\\t1267504688\\t1034\\t857\\tLima, Peru\\t#Analytics, #Bigdata and #Cognitive computing leader in LA. Hobbies: Cars and Technology. (Tweets are my own)\\tSun Oct 30 20:55:10 EET 2016\\t792802039919149056\\ten\\tnull\\t0\\t0\\tIn a #data storm, me and my key value brethren manage requests sent to the #database. #cloud  https://t.co/mnKM1LSEUf\\r\\nKroff\\tadplat\\t2333523931\\t1137\\t1538\\tUnited States \\tAdvertising Marketing Platforms, #Kroff\\tWed Oct 26 07:18:30 EEST 2016\\t791131868385214468\\ten\\tnull\\t0\\t0\\tEmma Watson Pens Powerful Essay Upcoming Election, Wants Women to Know They 'Have Real Power' to Change the Future\\r\\nJayduh\\tNibbler_TheBae\\t2416845367\\t65\\t286\\t\\tUnsolved Mysteries: Vine\\tSun Oct 30 18:16:25 EET 2016\\t792762089987334145\\ten\\tnull\\t126\\t0\\tRT @tori_deal: You wanna be with a guy who literally adores your presence.\\r\\nMandy Sanghera\\tMandy_Sanghera1\\t242009106\\t4239\\t4989\\tGlobe, AZ # mogul influencer \\tMandy Sanghera Human Right Activist motivational speaker Honour Based Crime Government adviser philanthropists join me Wed at 8-9pm #EmpowermentHour #Tedx\\tWed Oct 26 22:58:22 EEST 2016\\t791368394830409728\\ten\\tnull\\t2\\t0\\tRT @karenjohnson309: @Mandy_Sanghera1 Q5  Yes we must go with the times but it also must suit all children's needs can it do this ???\\r\\nJeremy Spencer\\tjjws\\t15158145\\t1423\\t3014\\tLudlow\\tBelieve in Britain NO2EU NO2Islam Against racism and ignorant accusations of racism. Love Bitcoin\\tThu Oct 27 22:53:15 EEST 2016\\t791729493706739712\\ten\\tnull\\t38\\t0\\tRT @pmclauth: Notice how the institutions of power in our societies give way to the #EthnicReplacement criminals https://t.co/eRgWJExIok\\r\\nJoshyy\\tJoshy5280\\t2156869999\\t163\\t243\\t\\tIslands. Seattle. Colo. Coffee & trees. Find me on the rocks bishh. Pandas#\\tSun Oct 30 21:28:04 EET 2016\\t792810320418836481\\ten\\tnull\\t1005\\t0\\tRT @SteveStfler: Remember to check your kids' Halloween candy https://t.co/zD3WCuLGHT\\r\\nJesus Palma\\tJesusPalma\\t14467264\\t1045\\t177\\tNevada, USA\\t#Election2016 | Strategist, Music & Live Show Enthusiast, Nevada Native | Tech, Politics, Digital Outreach, Graphic Design\\tThu Oct 27 03:29:09 EEST 2016\\t791436537263038464\\ten\\tnull\\t0\\t1\\t@LasVegasLocally please go ahead!\\r\\nMaya Smith\\tMayaa2102\\t24095489\\t235\\t267\\tBoston, MA\\tI love to see a young girl go out and grab the world by the lapels. Life's a bitch. You've got to go out and kick ass. - Maya Angelou\\tSun Oct 30 21:54:00 EET 2016\\t792816845724192769\\ten\\tnull\\t36\\t0\\tRT @FeministaJones: Dis here iz murrrica and dey gives nary a fuck bout any of uz https://t.co/xd3MXFhlDW\\r\\nDouglas Carew\\tkrzycarew\\t1366887486\\t197\\t475\\tBoston, MA\\tOld school hip hop. Support all Boston sports teams. Sorry no EBT cards accepted. Dont tweet other ppl's shit think of your own shit. You got a brain use it. l\\tSun Oct 30 15:05:36 EET 2016\\t792714067400163328\\ten\\tnull\\t0\\t0\\tBlack Sabbath #CanineRockBands Black Lab\"bath https://t.co/3v212KBd1C   \n",
       "76205  There is no indication the emails in question were withheld by Clinton during the investigation, the law... https://t.co/nc4Vs9RB5C\\r\\nMsConsuelo\\tconsueloyd\\t146717314\\t507\\t937\\tCalifornia\\tConservative leaning toward moderate  libertarianism. Government should be politically neutral, honest & above board.\\tSat Oct 29 04:00:36 EEST 2016\\t792169227104817156\\ten\\tnull\\t86\\t0\\tRT @_AltRight_Anew: #Yuengling is the new #AltRight beer of choice  Owner supports #Trump #MAGA https://t.co/PONOfONALD\\r\\nSasha Reiss\\tsasha_reiss\\t2508164241\\t280\\t232\\tParis, France\\t\\tSat Oct 29 14:59:11 EEST 2016\\t792334966675865600\\ten\\tnull\\t608\\t0\\tRT @ManCanddyPics: matthew daddario he's so beautiful. https://t.co/HAiq37Blpj\\r\\nSteve Curtis\\tscurtis2020\\t1649464176\\t69\\t560\\t\\tExpert Friend, Fiendishly Good Looking, Devil May Care Attitude\\tThu Oct 27 07:11:09 EEST 2016\\t791492404285087744\\ten\\tnull\\t0\\t1\\t@DanaSchwartzzz I'm sorry but going shopping with my family is my personal crucifixion.\\r\\nCathyS808\\tcathys808\\t1466184158\\t1325\\t1813\\tReno, NV\\tProud Gold Star Spouse, love my girls, the 49ers, Giants, Warriors and Wolf Pack #ImWithHer\\tSun Oct 30 18:39:13 EET 2016\\t792767824926126081\\ten\\tnull\\t870\\t0\\tRT @AdamParkhomenko: 502 days and counting. No tax returns coming. Trump's a liar. Nothing to see here. https://t.co/E3yDhiY0o8\\r\\nShin Neo\\tNKGhidorah\\t215738954\\t139\\t501\\tOrlando, FL\\ta purposeful grimace and a terrible sound\\tSun Oct 30 18:42:00 EET 2016\\t792768527384141824\\ten\\tnull\\t0\\t0\\txenoverse 2 brought me back to life i didn't even know i was dead\\r\\nveronica corningston\\tallison_fisherr\\t2339551956\\t536\\t506\\tcatalina wine mixer\\tmy presence is a present\\tThu Oct 27 06:57:38 EEST 2016\\t791489003191013379\\ten\\tnull\\t16841\\t0\\tRT @Dory: this is the funniest thing i have seen in so long i cannot BREATHE https://t.co/DSQXo84GyG\\r\\n#YAN\\tCallmedondee\\t1519592251\\t1230\\t1953\\tNigeria \\tMusic Updates, News & Online Promotion & trends. For more information about us follow us  on BB: 2B9F3938...\\tWed Oct 26 19:25:25 EEST 2016\\t791314801796403200\\ten\\tnull\\t0\\t0\\t#Tapoutmusic | VERYYY HOTTTTT: Lynxx  Ghana Girls (Prod. By Spax) https://t.co/aAZJXFZYNq via @tapoutmusic https://t.co/t30y4Dt3FQ\\r\\nJohn Marchese\\tjmarchese\\t15607427\\t13012\\t9225\\tNew York City\\tEntrepreneur, Jets, Knicks, Yankees, enterprise software & data governance, @Citrix alum, tech innovation, global partners @Collibra, hockey, golf & being Dad\\tMon Oct 31 00:10:00 EET 2016\\t792851071794290689\\ten\\tnull\\t0\\t0\\tiTWire - Business doing too little, too slowly warning on digital transformation: Forrester https://t.co/kzfELeCCVv\\r\\nNasty Woman Tantine\\ttant1ne\\t1584732452\\t583\\t901\\tNew York, NY\\tAll is fair in love and politics.\\tSun Oct 30 20:40:10 EET 2016\\t792798266660364288\\ten\\tnull\\t1\\t5\\t@RyanLizza Implication of which is that it's fine for FBI director to intervene in election due to political pressure.\\r\\nAlex Fair\\tAlexFairr\\t2294572982\\t499\\t360\\tHellkhart\\tI'm a grade A asshole & resident fuckboy good to meet you\\tFri Oct 28 08:51:09 EEST 2016\\t791879960080384000\\ten\\tnull\\t3960\\t0\\tRT @nyczach: get out mi car #RIPVine #VineHallOfFame https://t.co/3mlPS1RhpG\\r\\nBelle D\\tbelledame222\\t24667237\\t1235\\t2781\\t\\twearing flowers in my hair, trying not to get hay fever\\tSat Oct 29 21:16:39 EEST 2016\\t792429956944973825\\ten\\tnull\\t0\\t0\\the can barely refrain from insulting his adoring fans. https://t.co/XW3Ok635xq\\r\\nLauren\\tluvisalluneed4\\t2396564900\\t42244\\t2436\\tCanada\\thttps://t.co/j3wcKpPs21 https://t.co/h6koAfFGMV\\tSat Oct 29 22:28:30 EEST 2016\\t792448042343526400\\ten\\tnull\\t0\\t0\\t@thekatiestevens @paulBLG now if this isn't love I don't know what is\\r\\nJohn M. Carney\\tjmcarney23\\t2181325626\\t63\\t195\\tSheffield Village, Ohio\\tRetired YMCA CEO / Executive Director President of Chambers Chapter of Association of YMCA Retirees Avid Golfer Member of Oberlin Golf Club johncymca@aol.com\\tMon Oct 31 01:14:43 EET 2016\\t792867357798653952\\ten\\tnull\\t2189\\t0\\tRT @LouDobbs: 650,000!!!!  Hillary, Justice, FBI Leaders Rocked In Clinton Cartel Probe https://t.co/eI71C6RKuM via @WSJ #MAGA #TrumpPence1\\r\\nBill Hamilton\\tgraybeard55\\t1333075796\\t161\\t627\\tFlorida\\tToo complex to list. Voices in my head have me sworn to secrecy. Meds don't work but booze does sometimes.\\tSat Oct 29 00:09:22 EEST 2016\\t792111036509880325\\ten\\tnull\\t1454\\t0\\tRT @YoungDems4Trump: Why does Trump call everything perfectly? Trump was right. He is right. And he will be right. I don't know how he does\\r\\ndeplorable susie\\tgs777gs777\\t107012365\\t11364\\t10285\\tNew York, USA\\tINDY For #Trump! In Relationship w/ my honey. Never #Hillary! Block PORN. #MSM LIARS. No DMs. Absolutely No Racism Or Bigotry! Not PC.  I follow POLITICS Only.\\tFri Oct 28 06:35:41 EEST 2016\\t791845866965467136\\ten\\tnull\\t5118\\t0\\tRT @RealVinnieJames: Well folks. Bomb just dropped. There goes the last shred of Hillary supporters' dignity. -VJ (Hillary and Michelle) ht\\r\\nPaulette\\tpatte008\\t23692955\\t629\\t664\\tDurham,North Carolina\\t#team Muhney Fan now and forever. Also GH and Days fan. Maurice Bernard favorite and Billy Flynn. Democract\\tThu Oct 27 22:18:19 EEST 2016\\t791720702474854400\\ten\\tnull\\t197\\t0\\tRT @michaelmuhney: Let's see how many of you will retweet for this @Cubs fan! Show me some love! https://t.co/KGn3uhcuKk\\r\\nsomecanuckchick\\tsomecanuckchick\\t14807056\\t1857\\t1096\\tCte-des-Neiges, Montral\\tCaffeinated. Aggregated. Verbose. Je tweete #cdnpoli/#polcan/#assnat/#elxn42/#canadavotes/#LPC/#PLC. J'habite Montral et j'aime mes Canadiens! #GOHABSGO!\\tThu Oct 27 00:37:09 EEST 2016\\t791393252117188608\\ten\\tnull\\t0\\t0\\tMost of Canada's housing markets [currently] overvalued: https://t.co/EuK1X0DES5 #cdnpoli #cdnecon #CMHC\\r\\nAmely P Chancellor\\tamelypauline\\t251931109\\t520\\t1181\\tWest Palm Beach, FL\\tAnomaly. Entrepreneur. Lifestyle Consultant. Crazy Cat Lady.\\tSat Oct 29 13:59:56 EEST 2016\\t792320054654226433\\ten\\tnull\\t0\\t0\\tA day of recovery and integration follows a recent opening of ... More for Leo https://t.co/i9WM8LgavQ\\r\\nNilesh\\tnileshbhojani\\t15401787\\t646\\t556\\tMumbai, India\\tConfused, and may be confusing. Bored, and mostly boring. Weird, sarcastic and annoyingly annoyed. Atheist. Feminist.  Also Head of Product Solutions at Seclore\\tThu Oct 27 18:55:01 EEST 2016\\t791669537901010946\\ten\\tnull\\t0\\t0\\t@Unmana mohabbat mai aisa mukam aa raha... Where we have to take it offline?\\r\\npizzmoe\\tpizzmoe\\t15067424\\t5572\\t6109\\tLos Angeles via NYC via Philly\\tHow come the Party Of Personal Responsibility never takes responsibility for anything? Please, No Trump.\\tSat Oct 29 18:07:32 EEST 2016\\t792382366983397377\\ten\\tnull\\t0\\t1\\t@FactsVsOpinion @Lanna70115 @ToConservatives @thedailybeast  So many of those.\\r\\nStormrider\\tstormrider27\\t1015672057\\t2063\\t1888\\tFt Myers Florida\\ta rum loving sailor destined to be a gypsy monk.\\tTue Oct 25 20:15:03 EEST 2016\\t790964905616805888\\ten\\tnull\\t3\\t0\\tRT @FTCCORP: AT&T Is Spying on Americans for Profit, New Documents Reveal https://t.co/dp775FXodG via @thedailybeast\\r\\nJess [GuerillaGirl]\\tguerillagirl\\t14554959\\t3803\\t2919\\tBoston, MA\\tVP of Search and Sunday Loves Blogger, waxing poetic about #CrossFit, #SEO, #DIY, #MCM, Design, Geekdom & Parenthood! *Views are my own.*\\tFri Oct 28 02:08:41 EEST 2016\\t791778675188432900\\ten\\tnull\\t52551\\t0\\tRT @chrisrockyoz: 8 years. No scandals. No mistresses. No impeachment hearings. Just class and grace, personified. I sure am going to miss\\r\\nMichael Haskew\\tmikehaskew\\t10852172\\t366\\t266\\tHouston, TX\\tworking to help put right what's wrong\\tFri Oct 28 22:58:14 EEST 2016\\t792093136256282624\\ten\\tnull\\t1002\\t0\\tRT @nickconfessore: Alternate headline: The alleged sexual misconduct of three men is dominating the final weeks of the presidential campai\\r\\nNurse Ratched\\tveggie64_leslie\\t1130275662\\t6084\\t6398\\t\\tif you are gonna take time to have an opinion, make sure you can defend it. otherwise its nothing more than BS\\tMon Oct 31 08:03:46 EET 2016\\t792970297125187584\\ten\\tnull\\t0\\t0\\t@roxannelwright @adirado29  Why would a pro Hillary person just support Bernie on this one decision? So transparent\\r\\nMAIPO GOLD\\tgoldtwittee\\t225456426\\t690\\t580\\t Miami Florida\\tJewelry Manufacture & Recycler-Refiner                    Blackberry Pin 2B644DC2\\tTue Oct 25 20:07:01 EEST 2016\\t790962885367324673\\ten\\tnull\\t807\\t0\\tRT @mitchellvii: C'mon #TrumpTrain, let's embarrass the hell out of the lying media.\\r\\nDave Mc\\tDaveMcIntyre584\\t1018611901\\t83\\t346\\tStoney Creek\\tliving the dream. Stoney Creek\\tThu Oct 27 01:47:21 EEST 2016\\t791410920530608128\\ten\\tnull\\t0\\t1\\t@ham_smallfries your posts make me hungry.  Period.\\r\\nNicholette Campbell\\tsheba4005\\t23446077\\t8413\\t4191\\tEast Tennessee, USA\\tAuthor of Soul Chaser (Raven's Journey) Vol.1 #YA #Paranormal #Fantasy #Occult             http://t.co/5HdRdxTIWB\\tSun Oct 30 02:07:24 EEST 2016\\t792503127043964928\\ten\\tnull\\t5\\t0\\tRT @stone_rik: Youre now part of a gang known as the Little Dogs.' #IAN1 #thriller #iartg #bzbooks https://t.co/k7Ofd7AlL1\\r\\nJohn Brosnan\\tbirdflyoverlake\\t14711728\\t3723\\t3858\\tEugene, OR\\tLiberal from Minn now settled in Oregon. Father of three girls; two lost to parental alienation which I write about on my blog. Deadhead. I block RWNJs\\tSat Oct 29 04:25:44 EEST 2016\\t792175555344904192\\ten\\tnull\\t3\\t5\\tRunning for president looks like a terrible way to spend your time. #maddow\\r\\nEDF\\tEileenDiana\\t22292787\\t1561\\t2047\\t\\tTrump supporter, #MAGA, deplorable, MBA, free-lance writer, loves life, liberty & the pursuit of happiness\\tMon Oct 31 00:00:32 EET 2016\\t792848688989081600\\ten\\tnull\\t6880\\t0\\tRT @hectormorenco: When Trump talks about Draining the Swamp\" he is right, & has risked his life going against the entire world's corrupt                                                                                                                                                                                                                                                                                                                                                                                                                                                                                                                                                                                                                                                                                                                                                                                                                                                                                                                                                                                                                                                                                                                                                                                                                                                                                                                                                                                                                                                                                                                                                                                                                                                                                                                                                                                                                                                                                                                                                                                                                                                                                                                                                                                                                                                                                                                                                                                    \n",
       "85135  This was 2010. Were interns, I have a picture of the day of me and my friends. One is https://t.co/85b9ul04Vh\\r\\nMC Wilkins\\tmcwilkins63\\t1627501111\\t29\\t46\\t\\t\\tThu Oct 27 15:12:52 EEST 2016\\t791613633834913792\\ten\\tnull\\t4\\t0\\tRT @POLITICOMag: Democrats never anticipated that the 1965 immigration act would create such rich diversity: https://t.co/Fzb8h6oBPR\\r\\nStarman\\tdavidsilva28\\t143668648\\t1250\\t2459\\tCOL, Foxboro, Azeroth, space\\tObsessed with Queen and PinkFloyd. Patriots, ACMilan, Federer, RedSox, Ferrari and VR46 fan... Avid Seinfeld fan. Warcraft and Diablo player. I love languages.\\tSun Oct 30 22:04:31 EET 2016\\t792819491969335296\\ten\\tnull\\t55\\t0\\tRT @SBNation: Gronk achieved his major goal today. Congrats Gronk! https://t.co/YEXhJ8GVtI\\r\\nZenber1\\tZenber1\\t16177975\\t253\\t78\\t\\t\\tSat Oct 29 01:01:27 EEST 2016\\t792124144489943040\\ten\\tnull\\t1\\t2\\t@CNN Unprecedented for the FBI to make such an un-cautious and barely veiled attempt to affect this election. https://t.co/hjScGvEZ6d\\r\\nMarcy McGowan\\tmarcylauren\\t16146535\\t23884\\t26201\\tDelaware\\tI #HillaryKaine2016 Politics #DumpTrump and #UniteBlue #p2 #StrongerTogether #NastyWomen\\tMon Oct 31 01:25:58 EET 2016\\t792870188970631169\\ten\\tnull\\t13\\t0\\tRT @WestWingReport: One public event on Monday's schedule: President and Mrs. O welcome local children and children of military families fo\\r\\nDebra Lynch\\taddykateglen\\t1634182406\\t597\\t249\\t\\tRetired,wife,mother,grandmother, news junkie,conservative,Rubio supporter,Love God\\tSat Oct 29 23:08:05 EEST 2016\\t792458001227587584\\ten\\tnull\\t103\\t0\\tRT @greta: Can you please RT this link? https://t.co/sNTSxehdgA https://t.co/7E4Iwrxn0A\\r\\nDouglas College\\tdouglascollege\\t18194015\\t6767\\t205\\tNew Westminster/Coquitlam, BC\\tDO what you love. Be good at it. We're one of the largest colleges in British Columbia, offering degrees, university transfer, career and developmental programs\\tWed Oct 26 20:22:43 EEST 2016\\t791329220806975488\\ten\\tnull\\t0\\t1\\tCheck it out in the #NewWest Library. https://t.co/MY7z437Qji\\r\\nChuka ebede\\tebede_chuka\\t1713138110\\t125\\t472\\tCherry hill\\t\\tSun Oct 30 01:19:35 EEST 2016\\t792491097171849216\\ten\\tnull\\t0\\t0\\tWeiner's Revenge, Huma Goes Jimmy Hoffa and Hillary's Toast https://t.co/9OdVjFNmkU\\r\\njason vivona\\tjasonvivona\\t240405502\\t124\\t352\\t\\t\\tThu Oct 27 04:27:35 EEST 2016\\t791451241654222849\\ten\\tnull\\t0\\t1\\t@GarrettRWang Garrett, I've never asked this before, but my sis Andrea is a huge fan. Please, a shout out for her bday??\\r\\nLorie Medina\\tTXTeaPartyMOM\\t14795844\\t3664\\t3551\\tFrisco, TX\\tAuthor -Community Organizing for Conservatives, Speaker, Consultant, Grassroots activist - Country Class Taking On the Ruling Class\\tThu Oct 27 19:27:28 EEST 2016\\t791677705494200328\\ten\\tPlaceJSONImpl{name='Frisco', streetAddress='null', countryCode='US', id='00c3e46c3d0cac08', country='United States', placeType='city', url='https://api.twitter.com/1.1/geo/id/00c3e46c3d0cac08.json', fullName='Frisco, TX', boundingBoxType='Polygon', boundingBoxCoordinates=[[Ltwitter4j.GeoLocation;@717dc557], geometryType='null', geometryCoordinates=null, containedWithIn=[]}\\t1\\t0\\t@GQinNC The small handful of actual #nevertrump ppl wont give it to Hillary. That number is miniscule.\\r\\nYael Dulman\\tYaelDulman\\t1698732097\\t580\\t409\\t\\tMasters Degrees in Philosophy and Gender from Tel Aviv University, NASDAQ S-7 licensed broker, CEO- Optimize Performances Ltd., jewelry, fashion and pets lover.\\tThu Oct 27 19:14:05 EEST 2016\\t791674338999230464\\ten\\tnull\\t0\\t0\\tWomens 14K Yellow Gold Finish 2.00CT Diamond S Link Tennis Bracelet, 5-10 Inch - https://t.co/8VmKDZC9yJ\\r\\nShelley C\\tshellsbg\\t2432435052\\t413\\t400\\tFlorida \\tYour Soul is the Higher Part of Your Whole Design...It Seeks Out Love Inside All~\\tWed Oct 26 06:14:57 EEST 2016\\t791115875000709124\\ten\\tnull\\t60\\t0\\tRT @KLSouth: BOOM: #Hillary's GIRLFRIEND, @MegynKelly Just Got BAD Rating News (LMAO) https://t.co/AUWcSiVhqx #kellyfile\\r\\nTrump 2016\\tTrumpPatriots\\t1338765866\\t49042\\t45368\\tUnited States of America\\tFan account for Donald Trump's 2016 presidential campaign. Not an official campaign account, not affiliated with @realDonaldTrump. #MakeAmericaGreatAgain\\tSat Oct 29 04:13:25 EEST 2016\\t792172453875355648\\ten\\tnull\\t86\\t151\\tHeartwarming tweet Malik.  Everyone RT this!  The world needs to see this tweet! https://t.co/kWqfV016RR\\r\\nDeplorable Mike\\tmg1928\\t226404815\\t1584\\t753\\tNYC\\t#Trumplican committed to truth, justice & the American way. Proud American despite Obama OEF Vet & Soldier in #TrumpsArmy #MakeAmericaGreatAgain #TrumpPence16\\tMon Oct 31 03:22:23 EET 2016\\t792899484627955712\\ten\\tnull\\t12620\\t0\\tRT @wikileaks: Tina Flournoy, Chief of Staff to President Bill Clinton, tells Hillary Clinton campain chair John Podesta: https://t.co/xPuA\\r\\nSha Clark\\tclark_sha\\t2184951126\\t866\\t260\\tCo Spr\\tBotanist, Heritage Action 4  America Sentinel, $ & religious conservative. Return to self respect and American values. RT not endorsement. NAU Lumberjack\\tThu Oct 27 00:29:50 EEST 2016\\t791391410624749568\\ten\\tPlaceJSONImpl{name='Colorado', streetAddress='null', countryCode='US', id='e21c8e4914eef2b3', country='United States', placeType='admin', url='https://api.twitter.com/1.1/geo/id/e21c8e4914eef2b3.json', fullName='Colorado, USA', boundingBoxType='Polygon', boundingBoxCoordinates=[[Ltwitter4j.GeoLocation;@36b6d26c], geometryType='null', geometryCoordinates=null, containedWithIn=[]}\\t0\\t0\\tStealing campaign signs is a felony https://t.co/lG6VypPwA8\\r\\nStacy\\tSilverStGroud\\t145364348\\t808\\t912\\tnot Marc Cherry's house, D6\\tFilm b(l)uff, firm dork, likes junk culture and popular food. Tall, but only with the help of certain shoes. #WomenForRum 2016.\\tSat Oct 29 17:09:35 EEST 2016\\t792367781194960896\\ten\\tnull\\t0\\t1\\t@GoChaela totally bizarre. This argument seems like a smokescreen to hide how underdeveloped and baseless their arguments are tbh\\r\\nSamantha\\tJaSaMorgan\\t173011255\\t1368\\t2241\\tDaydreaming of the beach....\\tCollege Grad, Democrat, Lover of too many things to list, hater of injustice & inequality, history&civics nerd,Reader, #PatriotsNation #Feminist #ImWithHer #H50\\tSun Oct 30 20:45:24 EET 2016\\t792799583323553792\\ten\\tnull\\t888\\t0\\tRT @iamkidpresident: It's a new week to make the world more awesome.\\r\\nDiane\\tkitawny24\\t2300072955\\t4462\\t4999\\tSouth Florida\\tNASCAR, 18, 24, 41, 42 SEC GATORS COLTS &BRONCOS, LOVES ALL ANIMALS. OPINIONS ARE MY OWN.#TongueoutTuesday #ThirstyThursday #ManicMonday & #FangFriday creator.\\tSun Oct 30 08:30:29 EET 2016\\t792614633865707520\\ten\\tnull\\t1033\\t0\\tRT @IneffableCosmos: Tripping. https://t.co/X62DlOSiUo\\r\\nCathy Herard\\tCathyIsReal\\t15975560\\t5342\\t3003\\tMaine\\tAutism Mom. Mom to an awesome teenager. Wife. Blogger. Runner. Disney Lover. Fueled by coffee, dark chocolate, & popcorn. cathy at cathyherard dot com\\tMon Oct 31 02:55:33 EET 2016\\t792892732633182208\\ten\\tnull\\t0\\t1\\t@AOuzas05 So much to love about this. :) #runchat\\r\\nOntario Ombudsman\\tOnt_Ombudsman\\t21328706\\t37363\\t26618\\tOntario, Canada\\tOntarios Watchdog - investigating public complaints. Tweets by Communications & Ontario Ombudsman Paul Dub (PD). FR: @Ont_OmbudsmanFR\\tThu Oct 27 19:18:13 EEST 2016\\t791675378481950728\\ten\\tnull\\t6\\t4\\tPRESS RELEASE: Police oversight reform long overdue: Ombudsman https://t.co/CBZqHO05sc #ONpoli\\r\\n~~MoralDecay~~\\tKSmth2000\\t2444646074\\t388\\t237\\t\\tA while back I deleted all my support on Twitter for Israel once I realised Israel are supporting Terrorists in #Syria (+ now ISIS in Mosul) #ShameOnYouIsrael\\tSun Oct 30 19:17:17 EET 2016\\t792777408101359616\\ten\\tnull\\t1\\t0\\tRT @aj_observations: @BobbyMageroski @Syricide No, it's thermite.\\r\\nDawn\\tdmansfield3\\t1309185890\\t243\\t256\\tWichita\\tBeliever. Wife, Mom, Daughter, Sister, Accountant\\tSat Oct 29 00:03:09 EEST 2016\\t792109473347186688\\ten\\tnull\\t481\\t0\\tRT @weknowwhatsbest: Given the FBI announcement, Vegas is taking bets on a certain someone\" having a marathon coughing fit right about now.                                                                                                                                                                                                                                                                                                                                                                                                                                                                                                                                                                                                                                                                                                                                                                                                                                                                                                                                                                                                                                                                                                                                                                                                                                                                                                                                                                                                                                                                                                                                                                                                                                                                                                                                                                                                                                                                                                                                                                                                                                                                                                                                                                                                                                                                                                                                                                                                                                                                                                                                                                                                                                                                                                                                                                                                                                                                                                                                                                                                                                                                                                                                                                                                                                                                                                                                                                                                                                                                                                                                                                                                                                                                                                                                                                                                                                                                                                                                                                                                                                                                                                                                                                                                                   \n",
       "\n",
       "          RT  Hash Bool  \\\n",
       "2232   False  True        \n",
       "6790   False  True        \n",
       "7537   False  True        \n",
       "76205  False  True        \n",
       "85135  False  True        \n",
       "\n",
       "                                                                                                                                                                                                                                                                                                                                                                                                                                                                                                                                                                                                                                                                                               tweets  \n",
       "2232   [#gunsense,, #humanrights, #LGBTQStraightally, #vegan, #addict, #UniteBlue, #MAGA!, #SaveAgentCarter, #I'mWithHer, #wednesday, #DNCleak, #BernieMustDisavow, #VoteBLUE, #p2, #Utah, #Trumps, #McMullin, #NeverTrump, #BreakingNews, #ROOKIEBLUE, #MCSWAREK, #BenBass, #ChicagoFire, #Dawsey, #ChicagoPD, #Linstead, #GH, #Lante, #TML, #Thurs]                                                                                                                                                                                                                                                                                                                                                  \n",
       "6790   [#NCSU, #DIY, #foreclosuretohome, #WeAreNotThis, #Halloween, #DreamCreateInspire, #recipe, #ImWithHer, #NeverHitlerTrump, #ProSaneDemocrats, #imwithher, #estoyconella, #BernieSanders, #RIPVine, #ewpopfest, #ghostbusters, #protectTXfragilekids, #I'mWithHer, #NeverTrump, #Hearties, #WCTH, #ChesapeakeShores., #Hearties, #Chessies, #HallmarkSuperfans!, #Fitstats_en_US, #MUFC, #NoHillary, #Military, #Vets, #ProIsrael, #Benghazi, #TCOT, #CCOT, #MolonLabe,, #LESM, #MAGA, #AmericaFirst, #mobile, #wearables, #iot, #fintech, #startups, #blockchai, #SFGiants, #TCMParty., #RiffTrax., #SheShouldCutHisHeadOffAndBoilHimInOil, #TCMParty, #VaderGold, #MelloGang, #TKPuppytrooper]  \n",
       "7537   [#LakeShow, #NationalChocolateDay, #ClashOfTheCorps, #bdworld, #lookslikeabadDude, #standingrock, #LTG, #MAGA, #2A, #Trump, #TrumpPence2016, #NeverHillary, #DrainTheSwamp, #DrainTheSwamp, #MAGA:, #AbolishIRS., #chilicheeseburrito, #JustDoIt, #NoDAPL, #INDIGENOUS, #TAIRP, #TrumpPence, #MAGA, #defendWL, #autismspectrum, #English, #French, #German, #Russian, #Trumpified, #trumptrain, #Analytics,, #Bigdata, #Cognitive, #data, #database., #cloud, #Kroff, #, #EmpowermentHour, #Tedx, #EthnicReplacement, #Election2016, #CanineRockBands]                                                                                                                                          \n",
       "76205  [#Yuengling, #AltRight, #Trump, #MAGA, #ImWithHer, #YAN, #Tapoutmusic, #RIPVine, #VineHallOfFame, #MAGA, #TrumpPence1, #Trump!, #Hillary!, #MSM, #team, #cdnpoli/#polcan/#assnat/#elxn42/#canadavotes/#LPC/#PLC., #GOHABSGO!, #cdnpoli, #cdnecon, #CMHC, #CrossFit,, #SEO,, #DIY,, #MCM,, #TrumpTrain,, #YA, #Paranormal, #Fantasy, #Occult, #IAN1, #thriller, #iartg, #bzbooks, #maddow, #MAGA,]                                                                                                                                                                                                                                                                                               \n",
       "85135  [#HillaryKaine2016, #DumpTrump, #UniteBlue, #p2, #StrongerTogether, #NastyWomen, #NewWest, #nevertrump, #Hillary's, #kellyfile, #MakeAmericaGreatAgain, #Trumplican, #TrumpsArmy, #MakeAmericaGreatAgain, #TrumpPence16, #WomenForRum, #PatriotsNation, #Feminist, #ImWithHer, #H50, #ThirstyThursday, #ManicMonday, #FangFriday, #runchat, #ONpoli, #Syria, #ShameOnYouIsrael]                                                                                                                                                                                                                                                                                                                 "
      ]
     },
     "execution_count": 653,
     "metadata": {},
     "output_type": "execute_result"
    }
   ],
   "source": [
    "dataCleaned[\"tweets\"] = dataCleaned[\"Text\"].apply(filterHashtags)\n",
    "dataCleanedHashMoreThan20 = dataCleaned[dataCleaned.tweets != \"listSize<20\"]\n",
    "dataCleanedHashMoreThan20.head()"
   ]
  },
  {
   "cell_type": "code",
   "execution_count": 654,
   "metadata": {
    "collapsed": true
   },
   "outputs": [
    {
     "data": {
      "text/html": [
       "<div>\n",
       "<style>\n",
       "    .dataframe thead tr:only-child th {\n",
       "        text-align: right;\n",
       "    }\n",
       "\n",
       "    .dataframe thead th {\n",
       "        text-align: left;\n",
       "    }\n",
       "\n",
       "    .dataframe tbody tr th {\n",
       "        vertical-align: top;\n",
       "    }\n",
       "</style>\n",
       "<table border=\"1\" class=\"dataframe\">\n",
       "  <thead>\n",
       "    <tr style=\"text-align: right;\">\n",
       "      <th></th>\n",
       "      <th>Name</th>\n",
       "      <th>UserID</th>\n",
       "      <th>tweets</th>\n",
       "    </tr>\n",
       "  </thead>\n",
       "  <tbody>\n",
       "    <tr>\n",
       "      <th>2232</th>\n",
       "      <td>Colleen Allen</td>\n",
       "      <td>1561696464</td>\n",
       "      <td>[#gunsense,, #humanrights, #LGBTQStraightally, #vegan, #addict, #UniteBlue, #MAGA!, #SaveAgentCarter, #I'mWithHer, #wednesday, #DNCleak, #BernieMustDisavow, #VoteBLUE, #p2, #Utah, #Trumps, #McMullin, #NeverTrump, #BreakingNews, #ROOKIEBLUE, #MCSWAREK, #BenBass, #ChicagoFire, #Dawsey, #ChicagoPD, #Linstead, #GH, #Lante, #TML, #Thurs]</td>\n",
       "    </tr>\n",
       "    <tr>\n",
       "      <th>6790</th>\n",
       "      <td>Tina Spargo</td>\n",
       "      <td>16485488</td>\n",
       "      <td>[#NCSU, #DIY, #foreclosuretohome, #WeAreNotThis, #Halloween, #DreamCreateInspire, #recipe, #ImWithHer, #NeverHitlerTrump, #ProSaneDemocrats, #imwithher, #estoyconella, #BernieSanders, #RIPVine, #ewpopfest, #ghostbusters, #protectTXfragilekids, #I'mWithHer, #NeverTrump, #Hearties, #WCTH, #ChesapeakeShores., #Hearties, #Chessies, #HallmarkSuperfans!, #Fitstats_en_US, #MUFC, #NoHillary, #Military, #Vets, #ProIsrael, #Benghazi, #TCOT, #CCOT, #MolonLabe,, #LESM, #MAGA, #AmericaFirst, #mobile, #wearables, #iot, #fintech, #startups, #blockchai, #SFGiants, #TCMParty., #RiffTrax., #SheShouldCutHisHeadOffAndBoilHimInOil, #TCMParty, #VaderGold, #MelloGang, #TKPuppytrooper]</td>\n",
       "    </tr>\n",
       "    <tr>\n",
       "      <th>7537</th>\n",
       "      <td>James Gaffney</td>\n",
       "      <td>23535896</td>\n",
       "      <td>[#LakeShow, #NationalChocolateDay, #ClashOfTheCorps, #bdworld, #lookslikeabadDude, #standingrock, #LTG, #MAGA, #2A, #Trump, #TrumpPence2016, #NeverHillary, #DrainTheSwamp, #DrainTheSwamp, #MAGA:, #AbolishIRS., #chilicheeseburrito, #JustDoIt, #NoDAPL, #INDIGENOUS, #TAIRP, #TrumpPence, #MAGA, #defendWL, #autismspectrum, #English, #French, #German, #Russian, #Trumpified, #trumptrain, #Analytics,, #Bigdata, #Cognitive, #data, #database., #cloud, #Kroff, #, #EmpowermentHour, #Tedx, #EthnicReplacement, #Election2016, #CanineRockBands]</td>\n",
       "    </tr>\n",
       "    <tr>\n",
       "      <th>76205</th>\n",
       "      <td>Phillip Sheppard</td>\n",
       "      <td>22729901</td>\n",
       "      <td>[#Yuengling, #AltRight, #Trump, #MAGA, #ImWithHer, #YAN, #Tapoutmusic, #RIPVine, #VineHallOfFame, #MAGA, #TrumpPence1, #Trump!, #Hillary!, #MSM, #team, #cdnpoli/#polcan/#assnat/#elxn42/#canadavotes/#LPC/#PLC., #GOHABSGO!, #cdnpoli, #cdnecon, #CMHC, #CrossFit,, #SEO,, #DIY,, #MCM,, #TrumpTrain,, #YA, #Paranormal, #Fantasy, #Occult, #IAN1, #thriller, #iartg, #bzbooks, #maddow, #MAGA,]</td>\n",
       "    </tr>\n",
       "    <tr>\n",
       "      <th>85135</th>\n",
       "      <td>Liz A.</td>\n",
       "      <td>23216446</td>\n",
       "      <td>[#HillaryKaine2016, #DumpTrump, #UniteBlue, #p2, #StrongerTogether, #NastyWomen, #NewWest, #nevertrump, #Hillary's, #kellyfile, #MakeAmericaGreatAgain, #Trumplican, #TrumpsArmy, #MakeAmericaGreatAgain, #TrumpPence16, #WomenForRum, #PatriotsNation, #Feminist, #ImWithHer, #H50, #ThirstyThursday, #ManicMonday, #FangFriday, #runchat, #ONpoli, #Syria, #ShameOnYouIsrael]</td>\n",
       "    </tr>\n",
       "  </tbody>\n",
       "</table>\n",
       "</div>"
      ],
      "text/plain": [
       "                   Name      UserID  \\\n",
       "2232   Colleen Allen     1561696464   \n",
       "6790   Tina Spargo       16485488     \n",
       "7537   James Gaffney     23535896     \n",
       "76205  Phillip Sheppard  22729901     \n",
       "85135  Liz A.            23216446     \n",
       "\n",
       "                                                                                                                                                                                                                                                                                                                                                                                                                                                                                                                                                                                                                                                                                               tweets  \n",
       "2232   [#gunsense,, #humanrights, #LGBTQStraightally, #vegan, #addict, #UniteBlue, #MAGA!, #SaveAgentCarter, #I'mWithHer, #wednesday, #DNCleak, #BernieMustDisavow, #VoteBLUE, #p2, #Utah, #Trumps, #McMullin, #NeverTrump, #BreakingNews, #ROOKIEBLUE, #MCSWAREK, #BenBass, #ChicagoFire, #Dawsey, #ChicagoPD, #Linstead, #GH, #Lante, #TML, #Thurs]                                                                                                                                                                                                                                                                                                                                                  \n",
       "6790   [#NCSU, #DIY, #foreclosuretohome, #WeAreNotThis, #Halloween, #DreamCreateInspire, #recipe, #ImWithHer, #NeverHitlerTrump, #ProSaneDemocrats, #imwithher, #estoyconella, #BernieSanders, #RIPVine, #ewpopfest, #ghostbusters, #protectTXfragilekids, #I'mWithHer, #NeverTrump, #Hearties, #WCTH, #ChesapeakeShores., #Hearties, #Chessies, #HallmarkSuperfans!, #Fitstats_en_US, #MUFC, #NoHillary, #Military, #Vets, #ProIsrael, #Benghazi, #TCOT, #CCOT, #MolonLabe,, #LESM, #MAGA, #AmericaFirst, #mobile, #wearables, #iot, #fintech, #startups, #blockchai, #SFGiants, #TCMParty., #RiffTrax., #SheShouldCutHisHeadOffAndBoilHimInOil, #TCMParty, #VaderGold, #MelloGang, #TKPuppytrooper]  \n",
       "7537   [#LakeShow, #NationalChocolateDay, #ClashOfTheCorps, #bdworld, #lookslikeabadDude, #standingrock, #LTG, #MAGA, #2A, #Trump, #TrumpPence2016, #NeverHillary, #DrainTheSwamp, #DrainTheSwamp, #MAGA:, #AbolishIRS., #chilicheeseburrito, #JustDoIt, #NoDAPL, #INDIGENOUS, #TAIRP, #TrumpPence, #MAGA, #defendWL, #autismspectrum, #English, #French, #German, #Russian, #Trumpified, #trumptrain, #Analytics,, #Bigdata, #Cognitive, #data, #database., #cloud, #Kroff, #, #EmpowermentHour, #Tedx, #EthnicReplacement, #Election2016, #CanineRockBands]                                                                                                                                          \n",
       "76205  [#Yuengling, #AltRight, #Trump, #MAGA, #ImWithHer, #YAN, #Tapoutmusic, #RIPVine, #VineHallOfFame, #MAGA, #TrumpPence1, #Trump!, #Hillary!, #MSM, #team, #cdnpoli/#polcan/#assnat/#elxn42/#canadavotes/#LPC/#PLC., #GOHABSGO!, #cdnpoli, #cdnecon, #CMHC, #CrossFit,, #SEO,, #DIY,, #MCM,, #TrumpTrain,, #YA, #Paranormal, #Fantasy, #Occult, #IAN1, #thriller, #iartg, #bzbooks, #maddow, #MAGA,]                                                                                                                                                                                                                                                                                               \n",
       "85135  [#HillaryKaine2016, #DumpTrump, #UniteBlue, #p2, #StrongerTogether, #NastyWomen, #NewWest, #nevertrump, #Hillary's, #kellyfile, #MakeAmericaGreatAgain, #Trumplican, #TrumpsArmy, #MakeAmericaGreatAgain, #TrumpPence16, #WomenForRum, #PatriotsNation, #Feminist, #ImWithHer, #H50, #ThirstyThursday, #ManicMonday, #FangFriday, #runchat, #ONpoli, #Syria, #ShameOnYouIsrael]                                                                                                                                                                                                                                                                                                                 "
      ]
     },
     "execution_count": 654,
     "metadata": {},
     "output_type": "execute_result"
    }
   ],
   "source": [
    "filterColumnRequired = dataCleanedHashMoreThan20[['Name','UserID', 'tweets']]\n",
    "filterColumnRequired.head()"
   ]
  },
  {
   "cell_type": "markdown",
   "metadata": {},
   "source": [
    "- group by users with the same UserID"
   ]
  },
  {
   "cell_type": "code",
   "execution_count": 655,
   "metadata": {
    "collapsed": true
   },
   "outputs": [
    {
     "data": {
      "text/html": [
       "<div>\n",
       "<style>\n",
       "    .dataframe thead tr:only-child th {\n",
       "        text-align: right;\n",
       "    }\n",
       "\n",
       "    .dataframe thead th {\n",
       "        text-align: left;\n",
       "    }\n",
       "\n",
       "    .dataframe tbody tr th {\n",
       "        vertical-align: top;\n",
       "    }\n",
       "</style>\n",
       "<table border=\"1\" class=\"dataframe\">\n",
       "  <thead>\n",
       "    <tr style=\"text-align: right;\">\n",
       "      <th></th>\n",
       "      <th>Name</th>\n",
       "      <th>tweets</th>\n",
       "    </tr>\n",
       "    <tr>\n",
       "      <th>UserID</th>\n",
       "      <th></th>\n",
       "      <th></th>\n",
       "    </tr>\n",
       "  </thead>\n",
       "  <tbody>\n",
       "    <tr>\n",
       "      <th>1004887885</th>\n",
       "      <td>Right to Food, India</td>\n",
       "      <td>[#hunger, #Believe, #commercial, #realestate, #lawfirm, #Ohio, #Kentucky., #lawyer, #titleinsurance, #cre, #Thomas:, #SCOTUS, #money, #dubnation!, #HellinACell2013, #505, #GoWyo, #DonaldJThump, #NeverTrump, #RIPVine]</td>\n",
       "    </tr>\n",
       "    <tr>\n",
       "      <th>100888538</th>\n",
       "      <td>BharataBhagyaVidhata</td>\n",
       "      <td>[#IVoted, #UCF, #PoliticsAPlay, #ravens, #BALTIMORE, #LONGLIVESCOOTAUPNEXT, #BSU, #UMES, #DC4., #queer, #isfj, #blacklivesmatter, #aka, #VOTEDONALDTRUMP#makeamericagreat, #AmericanLatinasForTrump, #WomenForTrump, #MakeAmericaGreatAgain, #thingsthatannoyme, #LeadershipDevelopment, #MyersBriggs, #CivicInnovation, #Travel, #Genealogy, #LGBTQ., #ImWithHer, #USF]</td>\n",
       "    </tr>\n",
       "    <tr>\n",
       "      <th>102337130</th>\n",
       "      <td>Akin Emmanuel</td>\n",
       "      <td>[#wereallwizards, #ProjectAlex, #LAgraze, #Comedy, #NBA, #Rap, #VeniceBeach, #LA, #NeilYoungMoney, #FOTE2016, #Passionate, #Students4Trump, #MAGA, #DrainTheSwamp, #oisellevoleUK, #MMA, #LetsGoPens, #SteelerNation, #FITFAM, #FeelTheBern,, #NeverHillary,, #BernieForTrump]</td>\n",
       "    </tr>\n",
       "    <tr>\n",
       "      <th>1027974188</th>\n",
       "      <td>Earth Heir</td>\n",
       "      <td>[#Trump!, #Hillary!, #MSM, #Democrats, #Liberals, #Millenials, #wikileaks, #DNC, #MAGA, #Wikileaks, #DebateNight, #SEAHAWKS, #76, #GOHAWKS, #PADRES, #HUSKIES, #LAKERS, #GOLF, #WalkingDead, #tcot, #HAMUKOPAMOJA, #VijanaNaJubile, #Tambo16, #TamboLecture, #Music, #UT18, #NoDAPL, #WhoDatNation, #12-4, #GrindForever, #FreeThinker, #The7thSense, #WhoDatNation, #UniteBlue, #ImWithHer, #Woman, #Vot, #TrumpTrain, #Prophecy, #Conservatives, #EndTimes, #RevelationToday, #PoliticallyIncorrect]</td>\n",
       "    </tr>\n",
       "    <tr>\n",
       "      <th>1057984062</th>\n",
       "      <td>1963 MauMau</td>\n",
       "      <td>[#GainWithXtianDela, #Inatuunganisha@kikimathi53, #ios, #osx, #android, #blackberry, #tech, #GQBD16, #JamesonSelectReserve, #Live, #NoDAPL, #snipers, #WaterProtectors, #silence, #StandDown, #tnyarchive, #halloween, #prolife, #tcot, #news, #tech, #tcot, #news, #variety, #hillarys, #IVoted, #4nations, #EngvNZ, #Twithaca]</td>\n",
       "    </tr>\n",
       "  </tbody>\n",
       "</table>\n",
       "</div>"
      ],
      "text/plain": [
       "                            Name  \\\n",
       "UserID                             \n",
       "1004887885  Right to Food, India   \n",
       "100888538   BharataBhagyaVidhata   \n",
       "102337130   Akin Emmanuel          \n",
       "1027974188  Earth Heir             \n",
       "1057984062  1963 MauMau            \n",
       "\n",
       "                                                                                                                                                                                                                                                                                                                                                                                                                                                                                                            tweets  \n",
       "UserID                                                                                                                                                                                                                                                                                                                                                                                                                                                                                                              \n",
       "1004887885  [#hunger, #Believe, #commercial, #realestate, #lawfirm, #Ohio, #Kentucky., #lawyer, #titleinsurance, #cre, #Thomas:, #SCOTUS, #money, #dubnation!, #HellinACell2013, #505, #GoWyo, #DonaldJThump, #NeverTrump, #RIPVine]                                                                                                                                                                                                                                                                                \n",
       "100888538   [#IVoted, #UCF, #PoliticsAPlay, #ravens, #BALTIMORE, #LONGLIVESCOOTAUPNEXT, #BSU, #UMES, #DC4., #queer, #isfj, #blacklivesmatter, #aka, #VOTEDONALDTRUMP#makeamericagreat, #AmericanLatinasForTrump, #WomenForTrump, #MakeAmericaGreatAgain, #thingsthatannoyme, #LeadershipDevelopment, #MyersBriggs, #CivicInnovation, #Travel, #Genealogy, #LGBTQ., #ImWithHer, #USF]                                                                                                                                \n",
       "102337130   [#wereallwizards, #ProjectAlex, #LAgraze, #Comedy, #NBA, #Rap, #VeniceBeach, #LA, #NeilYoungMoney, #FOTE2016, #Passionate, #Students4Trump, #MAGA, #DrainTheSwamp, #oisellevoleUK, #MMA, #LetsGoPens, #SteelerNation, #FITFAM, #FeelTheBern,, #NeverHillary,, #BernieForTrump]                                                                                                                                                                                                                          \n",
       "1027974188  [#Trump!, #Hillary!, #MSM, #Democrats, #Liberals, #Millenials, #wikileaks, #DNC, #MAGA, #Wikileaks, #DebateNight, #SEAHAWKS, #76, #GOHAWKS, #PADRES, #HUSKIES, #LAKERS, #GOLF, #WalkingDead, #tcot, #HAMUKOPAMOJA, #VijanaNaJubile, #Tambo16, #TamboLecture, #Music, #UT18, #NoDAPL, #WhoDatNation, #12-4, #GrindForever, #FreeThinker, #The7thSense, #WhoDatNation, #UniteBlue, #ImWithHer, #Woman, #Vot, #TrumpTrain, #Prophecy, #Conservatives, #EndTimes, #RevelationToday, #PoliticallyIncorrect]  \n",
       "1057984062  [#GainWithXtianDela, #Inatuunganisha@kikimathi53, #ios, #osx, #android, #blackberry, #tech, #GQBD16, #JamesonSelectReserve, #Live, #NoDAPL, #snipers, #WaterProtectors, #silence, #StandDown, #tnyarchive, #halloween, #prolife, #tcot, #news, #tech, #tcot, #news, #variety, #hillarys, #IVoted, #4nations, #EngvNZ, #Twithaca]                                                                                                                                                                        "
      ]
     },
     "execution_count": 655,
     "metadata": {},
     "output_type": "execute_result"
    }
   ],
   "source": [
    "groupedUserIDs = filterColumnRequired.groupby(['UserID']).sum()\n",
    "groupedUserIDs.head()"
   ]
  },
  {
   "cell_type": "code",
   "execution_count": 656,
   "metadata": {
    "collapsed": true
   },
   "outputs": [
    {
     "data": {
      "text/plain": [
       "(327, 2)"
      ]
     },
     "execution_count": 656,
     "metadata": {},
     "output_type": "execute_result"
    }
   ],
   "source": [
    "groupedUserIDs.shape"
   ]
  },
  {
   "cell_type": "markdown",
   "metadata": {},
   "source": [
    "- keep the users which have at least 10 distinct hashtags."
   ]
  },
  {
   "cell_type": "code",
   "execution_count": 539,
   "metadata": {
    "collapsed": true
   },
   "outputs": [],
   "source": [
    "def uniqueHashtagUser(list1):\n",
    "    unique_list = []\n",
    "     \n",
    "    for x in list1:\n",
    "        if x not in unique_list:\n",
    "            unique_list.append(x)\n",
    "\n",
    "    if  len(unique_list) >= 10:\n",
    "        return len(unique_list)\n",
    "    else:\n",
    "        return \"LessThan10UniqueItems\" "
   ]
  },
  {
   "cell_type": "code",
   "execution_count": 540,
   "metadata": {
    "collapsed": true
   },
   "outputs": [
    {
     "data": {
      "text/html": [
       "<div>\n",
       "<style>\n",
       "    .dataframe thead tr:only-child th {\n",
       "        text-align: right;\n",
       "    }\n",
       "\n",
       "    .dataframe thead th {\n",
       "        text-align: left;\n",
       "    }\n",
       "\n",
       "    .dataframe tbody tr th {\n",
       "        vertical-align: top;\n",
       "    }\n",
       "</style>\n",
       "<table border=\"1\" class=\"dataframe\">\n",
       "  <thead>\n",
       "    <tr style=\"text-align: right;\">\n",
       "      <th></th>\n",
       "      <th>Name</th>\n",
       "      <th>tweets</th>\n",
       "      <th>NumberHashtagM20Unique</th>\n",
       "    </tr>\n",
       "    <tr>\n",
       "      <th>UserID</th>\n",
       "      <th></th>\n",
       "      <th></th>\n",
       "      <th></th>\n",
       "    </tr>\n",
       "  </thead>\n",
       "  <tbody>\n",
       "    <tr>\n",
       "      <th>1004887885</th>\n",
       "      <td>Right to Food, India</td>\n",
       "      <td>[#hunger, #Believe, #commercial, #realestate, #lawfirm, #Ohio, #Kentucky., #lawyer, #titleinsurance, #cre, #Thomas:, #SCOTUS, #money, #dubnation!, #HellinACell2013, #505, #GoWyo, #DonaldJThump, #NeverTrump, #RIPVine]</td>\n",
       "      <td>20</td>\n",
       "    </tr>\n",
       "    <tr>\n",
       "      <th>100888538</th>\n",
       "      <td>BharataBhagyaVidhata</td>\n",
       "      <td>[#IVoted, #UCF, #PoliticsAPlay, #ravens, #BALTIMORE, #LONGLIVESCOOTAUPNEXT, #BSU, #UMES, #DC4., #queer, #isfj, #blacklivesmatter, #aka, #VOTEDONALDTRUMP#makeamericagreat, #AmericanLatinasForTrump, #WomenForTrump, #MakeAmericaGreatAgain, #thingsthatannoyme, #LeadershipDevelopment, #MyersBriggs, #CivicInnovation, #Travel, #Genealogy, #LGBTQ., #ImWithHer, #USF]</td>\n",
       "      <td>26</td>\n",
       "    </tr>\n",
       "    <tr>\n",
       "      <th>102337130</th>\n",
       "      <td>Akin Emmanuel</td>\n",
       "      <td>[#wereallwizards, #ProjectAlex, #LAgraze, #Comedy, #NBA, #Rap, #VeniceBeach, #LA, #NeilYoungMoney, #FOTE2016, #Passionate, #Students4Trump, #MAGA, #DrainTheSwamp, #oisellevoleUK, #MMA, #LetsGoPens, #SteelerNation, #FITFAM, #FeelTheBern,, #NeverHillary,, #BernieForTrump]</td>\n",
       "      <td>22</td>\n",
       "    </tr>\n",
       "    <tr>\n",
       "      <th>1027974188</th>\n",
       "      <td>Earth Heir</td>\n",
       "      <td>[#Trump!, #Hillary!, #MSM, #Democrats, #Liberals, #Millenials, #wikileaks, #DNC, #MAGA, #Wikileaks, #DebateNight, #SEAHAWKS, #76, #GOHAWKS, #PADRES, #HUSKIES, #LAKERS, #GOLF, #WalkingDead, #tcot, #HAMUKOPAMOJA, #VijanaNaJubile, #Tambo16, #TamboLecture, #Music, #UT18, #NoDAPL, #WhoDatNation, #12-4, #GrindForever, #FreeThinker, #The7thSense, #WhoDatNation, #UniteBlue, #ImWithHer, #Woman, #Vot, #TrumpTrain, #Prophecy, #Conservatives, #EndTimes, #RevelationToday, #PoliticallyIncorrect]</td>\n",
       "      <td>42</td>\n",
       "    </tr>\n",
       "    <tr>\n",
       "      <th>1057984062</th>\n",
       "      <td>1963 MauMau</td>\n",
       "      <td>[#GainWithXtianDela, #Inatuunganisha@kikimathi53, #ios, #osx, #android, #blackberry, #tech, #GQBD16, #JamesonSelectReserve, #Live, #NoDAPL, #snipers, #WaterProtectors, #silence, #StandDown, #tnyarchive, #halloween, #prolife, #tcot, #news, #tech, #tcot, #news, #variety, #hillarys, #IVoted, #4nations, #EngvNZ, #Twithaca]</td>\n",
       "      <td>26</td>\n",
       "    </tr>\n",
       "  </tbody>\n",
       "</table>\n",
       "</div>"
      ],
      "text/plain": [
       "                            Name  \\\n",
       "UserID                             \n",
       "1004887885  Right to Food, India   \n",
       "100888538   BharataBhagyaVidhata   \n",
       "102337130   Akin Emmanuel          \n",
       "1027974188  Earth Heir             \n",
       "1057984062  1963 MauMau            \n",
       "\n",
       "                                                                                                                                                                                                                                                                                                                                                                                                                                                                                                            tweets  \\\n",
       "UserID                                                                                                                                                                                                                                                                                                                                                                                                                                                                                                               \n",
       "1004887885  [#hunger, #Believe, #commercial, #realestate, #lawfirm, #Ohio, #Kentucky., #lawyer, #titleinsurance, #cre, #Thomas:, #SCOTUS, #money, #dubnation!, #HellinACell2013, #505, #GoWyo, #DonaldJThump, #NeverTrump, #RIPVine]                                                                                                                                                                                                                                                                                 \n",
       "100888538   [#IVoted, #UCF, #PoliticsAPlay, #ravens, #BALTIMORE, #LONGLIVESCOOTAUPNEXT, #BSU, #UMES, #DC4., #queer, #isfj, #blacklivesmatter, #aka, #VOTEDONALDTRUMP#makeamericagreat, #AmericanLatinasForTrump, #WomenForTrump, #MakeAmericaGreatAgain, #thingsthatannoyme, #LeadershipDevelopment, #MyersBriggs, #CivicInnovation, #Travel, #Genealogy, #LGBTQ., #ImWithHer, #USF]                                                                                                                                 \n",
       "102337130   [#wereallwizards, #ProjectAlex, #LAgraze, #Comedy, #NBA, #Rap, #VeniceBeach, #LA, #NeilYoungMoney, #FOTE2016, #Passionate, #Students4Trump, #MAGA, #DrainTheSwamp, #oisellevoleUK, #MMA, #LetsGoPens, #SteelerNation, #FITFAM, #FeelTheBern,, #NeverHillary,, #BernieForTrump]                                                                                                                                                                                                                           \n",
       "1027974188  [#Trump!, #Hillary!, #MSM, #Democrats, #Liberals, #Millenials, #wikileaks, #DNC, #MAGA, #Wikileaks, #DebateNight, #SEAHAWKS, #76, #GOHAWKS, #PADRES, #HUSKIES, #LAKERS, #GOLF, #WalkingDead, #tcot, #HAMUKOPAMOJA, #VijanaNaJubile, #Tambo16, #TamboLecture, #Music, #UT18, #NoDAPL, #WhoDatNation, #12-4, #GrindForever, #FreeThinker, #The7thSense, #WhoDatNation, #UniteBlue, #ImWithHer, #Woman, #Vot, #TrumpTrain, #Prophecy, #Conservatives, #EndTimes, #RevelationToday, #PoliticallyIncorrect]   \n",
       "1057984062  [#GainWithXtianDela, #Inatuunganisha@kikimathi53, #ios, #osx, #android, #blackberry, #tech, #GQBD16, #JamesonSelectReserve, #Live, #NoDAPL, #snipers, #WaterProtectors, #silence, #StandDown, #tnyarchive, #halloween, #prolife, #tcot, #news, #tech, #tcot, #news, #variety, #hillarys, #IVoted, #4nations, #EngvNZ, #Twithaca]                                                                                                                                                                         \n",
       "\n",
       "            NumberHashtagM20Unique  \n",
       "UserID                              \n",
       "1004887885  20                      \n",
       "100888538   26                      \n",
       "102337130   22                      \n",
       "1027974188  42                      \n",
       "1057984062  26                      "
      ]
     },
     "execution_count": 540,
     "metadata": {},
     "output_type": "execute_result"
    }
   ],
   "source": [
    "groupedUserIDs[\"NumberHashtagM10Unique\"] = groupedUserIDs[\"tweets\"].apply(uniqueHashtagUser)\n",
    "dataHashMoreThan10UniqueItems = groupedUserIDs[groupedUserIDs.tweets != \"LessThan10UniqueItems\"]\n",
    "dataHashMoreThan10UniqueItems.head()"
   ]
  },
  {
   "cell_type": "code",
   "execution_count": 541,
   "metadata": {
    "collapsed": true
   },
   "outputs": [
    {
     "data": {
      "text/plain": [
       "(327, 3)"
      ]
     },
     "execution_count": 541,
     "metadata": {},
     "output_type": "execute_result"
    }
   ],
   "source": [
    "dataHashMoreThan10UniqueItems.shape"
   ]
  },
  {
   "cell_type": "markdown",
   "metadata": {},
   "source": [
    "- indexing the UserIDs"
   ]
  },
  {
   "cell_type": "code",
   "execution_count": 657,
   "metadata": {
    "collapsed": true
   },
   "outputs": [
    {
     "name": "stdout",
     "output_type": "stream",
     "text": [
      "<class 'list'>\n",
      "327\n",
      "['1004887885', '100888538', '102337130', '1027974188', '1057984062', '106728440', '107190444', '107610990', '108369640', '110051305', '111122062', '111627001', '112320673', '112468611', '11262452', '1132925798', '113884188', '1155986071', '1184893658', '118680962', '119027564', '119363955', '119876125', '1208416303', '122199734', '1223622391', '1229065902', '1230646238', '1235503465', '123565681', '12625172', '128380445', '1286026592', '1289133373', '1290870541', '130528035', '131610737', '1320879308', '133160492', '133848972', '1340326398', '1342015248', '1366631', '1371002810', '1395175358', '140620845', '1411396740', '1429093519', '14307589', '14311701', '14313371', '143182513', '143518095', '14360732', '1439352644', '1442432402', '14435889', '14448389', '1444969358', '144907471', '1449618122', '14528941', '1454928205', '1468590698', '14716103', '147256850', '1473274801', '14779855', '147809316', '148539057', '14862080', '14872511', '1489720495', '1490782549', '14918950', '14945279', '1495555579', '149686442', '14977335', '14986841', '15026369', '150426089', '15065840', '15091129', '15099539', '151020508', '151502978', '1517023753', '1517444360', '1517582834', '15176566', '1520810166', '15234115', '15275698', '15288477', '1537610683', '15405421', '1542070189', '15435104', '15445172', '15463610', '154891961', '1549228214', '1549239715', '15502401', '155078285', '15535182', '155562660', '15603311', '1561696464', '15658176', '15676118', '15678511', '156807569', '15726878', '1573276926', '157340255', '15745589', '15754281', '157823165', '158471931', '158838519', '15889681', '15899757', '159608463', '1598655084', '159904119', '1599418500', '1601054250', '1601288341', '16023201', '16082911', '16090559', '16095338', '161053860', '16137463', '16150587', '16168564', '16211364', '16227639', '16233126', '16261116', '16278038', '1638819715', '16403267', '1640899009', '16426293', '16433562', '16434028', '1643488543', '16485488', '16488947', '1658370434', '16619151', '16633603', '1663447068', '16641916', '16660405', '16715453', '1676669749', '1678260750', '16832810', '16911584', '16913099', '16931273', '16936023', '1695337148', '16986818', '16991573', '1699796203', '17006036', '17067635', '17115926', '171435540', '171722417', '17227307', '172487867', '174210269', '174652591', '17465998', '17535206', '17688491', '17849506', '17910517', '179449100', '179539182', '18005118', '18005231', '180283735', '18119538', '18126874', '18185440', '18210115', '18213546', '19017604', '1905746160', '1906088490', '19081779', '1909804782', '193857594', '19495887', '194985321', '1952965146', '19861848', '19924013', '19925750', '20219312', '204438428', '20487161', '20945918', '210088133', '21357934', '216142373', '216834539', '2182507506', '21847305', '2185553479', '22212182', '223401811', '22342301', '22601692', '226759841', '227082774', '22724455', '22725634', '22729901', '22787027', '227908391', '227924605', '2279652757', '2279840916', '22798512', '22798626', '2282452903', '2283589812', '2283786768', '2287663195', '22964230', '2296719199', '2300406300', '2300780070', '2301954198', '23061645', '23066405', '231001440', '2311008403', '231256015', '23141036', '23152832', '231690452', '23194140', '23216446', '2321906926', '23220961', '2323088192', '232382719', '232567265', '2325694279', '233225211', '23335967', '2336232747', '23418157', '2343618608', '2345261653', '2348912293', '2350372873', '23535896', '2355567925', '2355797043', '2360173410', '23604137', '236091256', '23636912', '2364321750', '23649256', '2366539375', '236779506', '236917378', '2370952560', '2372293610', '237353218', '23746411', '23829152', '23860507', '238873872', '2391123726', '23928356', '2398527834', '2402329212', '2405729901', '240813483', '2411842464', '2413643408', '2415411566', '24158840', '24159334', '241613455', '241827753', '24203482', '242132828', '24237231', '242543007', '2429107224', '2429978408', '243645884', '2438295576', '243899518', '24414732', '244477419', '2446246296', '2450402869', '2450485760', '24591063', '24599783', '2460416054', '246667561', '2469584466', '246961837', '247077085', '247484209', '24844586', '248933995', '25027388', '2505220368', '2511274210', '2511554220', '251843881']\n"
     ]
    }
   ],
   "source": [
    "IndexedUserId = dataHashMoreThan10UniqueItems.index.tolist()\n",
    "\n",
    "print(type(IndexedUserId))\n",
    "print(len(IndexedUserId))\n",
    "print(IndexedUserId)"
   ]
  },
  {
   "cell_type": "code",
   "execution_count": 658,
   "metadata": {
    "collapsed": true
   },
   "outputs": [
    {
     "name": "stdout",
     "output_type": "stream",
     "text": [
      "['1004887885', '100888538', '102337130', '1027974188', '1057984062', '106728440', '107190444', '107610990', '108369640', '110051305', '111122062', '111627001', '112320673', '112468611', '11262452', '1132925798', '113884188', '1155986071', '1184893658', '118680962', '119027564', '119363955', '119876125', '1208416303', '122199734', '1223622391', '1229065902', '1230646238', '1235503465', '123565681', '12625172', '128380445', '1286026592', '1289133373', '1290870541', '130528035', '131610737', '1320879308', '133160492', '133848972', '1340326398', '1342015248', '1366631', '1371002810', '1395175358', '140620845', '1411396740', '1429093519', '14307589', '14311701', '14313371', '143182513', '143518095', '14360732', '1439352644', '1442432402', '14435889', '14448389', '1444969358', '144907471', '1449618122', '14528941', '1454928205', '1468590698', '14716103', '147256850', '1473274801', '14779855', '147809316', '148539057', '14862080', '14872511', '1489720495', '1490782549', '14918950', '14945279', '1495555579', '149686442', '14977335', '14986841', '15026369', '150426089', '15065840', '15091129', '15099539', '151020508', '151502978', '1517023753', '1517444360', '1517582834', '15176566', '1520810166', '15234115', '15275698', '15288477', '1537610683', '15405421', '1542070189', '15435104', '15445172', '15463610', '154891961', '1549228214', '1549239715', '15502401', '155078285', '15535182', '155562660', '15603311', '1561696464', '15658176', '15676118', '15678511', '156807569', '15726878', '1573276926', '157340255', '15745589', '15754281', '157823165', '158471931', '158838519', '15889681', '15899757', '159608463', '1598655084', '159904119', '1599418500', '1601054250', '1601288341', '16023201', '16082911', '16090559', '16095338', '161053860', '16137463', '16150587', '16168564', '16211364', '16227639', '16233126', '16261116', '16278038', '1638819715', '16403267', '1640899009', '16426293', '16433562', '16434028', '1643488543', '16485488', '16488947', '1658370434', '16619151', '16633603', '1663447068', '16641916', '16660405', '16715453', '1676669749', '1678260750', '16832810', '16911584', '16913099', '16931273', '16936023', '1695337148', '16986818', '16991573', '1699796203', '17006036', '17067635', '17115926', '171435540', '171722417', '17227307', '172487867', '174210269', '174652591', '17465998', '17535206', '17688491', '17849506', '17910517', '179449100', '179539182', '18005118', '18005231', '180283735', '18119538', '18126874', '18185440', '18210115', '18213546', '19017604', '1905746160', '1906088490', '19081779', '1909804782', '193857594', '19495887', '194985321', '1952965146', '19861848', '19924013', '19925750', '20219312', '204438428', '20487161', '20945918', '210088133', '21357934', '216142373', '216834539', '2182507506', '21847305', '2185553479', '22212182', '223401811', '22342301', '22601692', '226759841', '227082774', '22724455', '22725634', '22729901', '22787027', '227908391', '227924605', '2279652757', '2279840916', '22798512', '22798626', '2282452903', '2283589812', '2283786768', '2287663195', '22964230', '2296719199', '2300406300', '2300780070', '2301954198', '23061645', '23066405', '231001440', '2311008403', '231256015', '23141036', '23152832', '231690452', '23194140', '23216446', '2321906926', '23220961', '2323088192', '232382719', '232567265', '2325694279', '233225211', '23335967', '2336232747', '23418157', '2343618608', '2345261653', '2348912293', '2350372873', '23535896', '2355567925', '2355797043', '2360173410', '23604137', '236091256', '23636912', '2364321750', '23649256', '2366539375', '236779506', '236917378', '2370952560', '2372293610', '237353218', '23746411', '23829152', '23860507', '238873872', '2391123726', '23928356', '2398527834', '2402329212', '2405729901', '240813483', '2411842464', '2413643408', '2415411566', '24158840', '24159334', '241613455', '241827753', '24203482', '242132828', '24237231', '242543007', '2429107224', '2429978408', '243645884', '2438295576', '243899518', '24414732', '244477419', '2446246296', '2450402869', '2450485760', '24591063', '24599783', '2460416054', '246667561', '2469584466', '246961837', '247077085', '247484209', '24844586', '248933995', '25027388', '2505220368', '2511274210', '2511554220', '251843881']\n"
     ]
    }
   ],
   "source": [
    "IndexedUserId.sort()\n",
    "print(IndexedUserId)"
   ]
  },
  {
   "cell_type": "markdown",
   "metadata": {},
   "source": [
    "#### Use train_test_split() to split data into training and test sets, where 20 percent of the records go to test set. Train three classifiers that we saw in class (Decision Tree, SVM, Logistic Regression)."
   ]
  },
  {
   "cell_type": "markdown",
   "metadata": {},
   "source": [
    "- convert all the user tweets to a numpy array for X."
   ]
  },
  {
   "cell_type": "code",
   "execution_count": 659,
   "metadata": {
    "collapsed": true
   },
   "outputs": [],
   "source": [
    "def makeListAString(list1):\n",
    "    st = \"\"\n",
    "\n",
    "    for string in list1:\n",
    "        st += \" \" + string\n",
    "    \n",
    "    return st"
   ]
  },
  {
   "cell_type": "code",
   "execution_count": 660,
   "metadata": {
    "collapsed": true
   },
   "outputs": [],
   "source": [
    "stringHashtag = dataHashMoreThan10UniqueItems['tweets'].apply(makeListAString)\n",
    "hashtagList = list(stringHashtag)"
   ]
  },
  {
   "cell_type": "code",
   "execution_count": 696,
   "metadata": {
    "collapsed": true
   },
   "outputs": [
    {
     "name": "stdout",
     "output_type": "stream",
     "text": [
      "<class 'list'>\n",
      "(327, 5987)\n",
      "<class 'scipy.sparse.csr.csr_matrix'>\n",
      "[[0 0 0 ..., 0 0 0]\n",
      " [0 0 0 ..., 0 0 0]\n",
      " [0 0 0 ..., 0 0 0]\n",
      " ..., \n",
      " [0 0 0 ..., 0 0 0]\n",
      " [0 0 0 ..., 0 0 0]\n",
      " [0 0 0 ..., 0 0 0]]\n"
     ]
    }
   ],
   "source": [
    "import sklearn.feature_extraction.text as sk_text\n",
    "\n",
    "vectorizer = sk_text.CountVectorizer(min_df=1)\n",
    "print(type(hashtagList))\n",
    "matrix = vectorizer.fit_transform(hashtagList)\n",
    "\n",
    "print(matrix.shape)\n",
    "print(type(matrix))          # Compressed Sparse Row matrix\n",
    "print(matrix.toarray())      # Convert it to numpy array"
   ]
  },
  {
   "cell_type": "code",
   "execution_count": 662,
   "metadata": {
    "collapsed": true
   },
   "outputs": [
    {
     "name": "stdout",
     "output_type": "stream",
     "text": [
      "['001', '06', '10', '1009', '100days100ways', '100daysoftri', '100yearsstrong', '101daysofwomen', '10km3x2', '10x', '11', '11433', '11b', '12', '12monkeys', '13', '15', '157', '16states', '184', '19', '1987', '1a', '1linewed', '1u', '2016goodfood', '2016nbachamps', '2016svp', '2016voteblue', '2017', '2017spark', '2030now', '21', '213', '21onthefield1inourhearts', '21stcenturygenocide', '22', '22kill', '23', '25', '257', '27', '276', '28', '2a', '2adefenders', '2degrees', '2nda', '2ndamendment', '2phillies', '2weekstogo', '30', '31', '31o', '32', '35', '360', '39', '3daystillhalloween', '3rdparty', '400', '40billion', '40k', '41', '4101', '45', '49ers', '4ft', '4nations', '50', '500strong', '505', '50statesweep', '5181', '518soccer', '5star', '5thodi', '617', '693222', '6at6', '70s', '716', '72', '727tourantwerp', '727tourluxembourg', '73', '76', '77', '7ce', '7news', '80days', '80s', '877cashnow', '8sportsblitz', '90', '90s', '910', '99', '991gt3', '99c', '99cents', '_9', '________', '_chem', '_eng_', '_professional_killer_', '_rock_', '_waiting_for_', '_wish_on_30sep', 'a11y', 'a5004617', 'aabpara', 'aaptards', 'aar', 'ab', 'abc', 'abc15', 'abc730', 'abdulkalam', 'abedin', 'abelincoln', 'abgov', 'ableg', 'abolishirs', 'abortion', 'aboutmybizness', 'abro', 'abucketfullife', 'abundance', 'aca', 'academician', 'acams2016', 'acasignups', 'acaworks', 'accelerator', 'accesototalaz', 'accessibility', 'accessories', 'accountant', 'accounting', 'acfre', 'achedin', 'acquisition', 'actfornosey', 'action', 'actonclimate', 'actor', 'actress', 'actsofkindness', 'ad', 'ad80', 'adamcapay', 'adamlambert', 'adamruins', 'adamruinseverything', 'adaptation', 'addaclownruinamovie', 'addaveggiemusic', 'addict', 'addicted', 'adele', 'adhm', 'adjunct', 'adjustments', 'administration', 'adopt', 'adoptdontshop', 'adoptionisthegospel', 'adreamer', 'ads', 'adventism', 'advertising', 'advice', 'advocate', 'aedilhaimushkil', 'afc', 'affirmation', 'afl', 'aflfantasy', 'afp', 'afpeep', 'africa', 'afridi', 'afrobeats', 'aftra', 'against', 'agbio', 'ageing', 'agentofthecrown', 'agentprolink', 'agentsofshield', 'agitator', 'agnostic', 'agree', 'agribusiness', 'agriculture', 'agwscam', 'ahmed', 'ahoi', 'ahs', 'ahs6', 'ahsroanoke', 'ai', 'aisdproud', 'ajenews', 'ak', 'aka', 'al', 'alaska', 'albion', 'album', 'aldubadventure', 'aleppo', 'alhumdulillah', 'alien', 'alien3', 'aliens', 'alist', 'aljazeera', 'all', 'allanimals', 'allexpensepaid', 'allhumanbeingsweregoing2befree', 'allin', 'allin16', 'allin216', 'allivesmatter', 'alllivesmatter', 'allofus2016', 'allsoulsmattertogod', 'allstars2reunited', 'allthingsnerdy', 'almostnakedceo', 'alover', 'alpaca', 'alpacafarm', 'alpreps', 'already', 'alt007titles', 'altreich', 'altright', 'alwaysacolt', 'alwayskeepfighting', 'alwaystrump', 'am', 'amas', 'amazing', 'amazinggrace', 'amazon', 'ambient', 'ambition', 'ameliaswish', 'america', 'america1st', 'americafirst', 'american', 'americanairlines', 'americanbulldogs', 'americanfirst', 'americanhorrorstory', 'americanimmigrant', 'americanlatinasfortrump', 'americanmuslim', 'americans', 'americanu', 'americapickers', 'amjoy', 'ammosexuals', 'amoreperfectunion', 'amourshipping', 'amul', 'amwriting', 'amyschumer', 'analogsunday', 'analonlyalex', 'analytic', 'analytics', 'ananlytics', 'anc', 'and', 'andersondrlja', 'android', 'androidapp', 'androiddev', 'androidgames', 'andy', 'angels', 'angelsfamily', 'angularjs', 'animal', 'animalrightsmovement', 'animalwelfare', 'anipals', 'anipoke', 'announcements', 'anonymous', 'anthonyweiner', 'anthroposophy', 'antifeminism', 'antiglobalism', 'antiindiafront', 'antijaphetism', 'antiracism', 'antisharia', 'antisjw', 'antizionism', 'anxiety', 'anxious', 'anxiousbitch101', 'anyoneb', 'anysportwheremenwearshorts', 'ao1', 'aohtour', 'ap2w', 'apartandocorruptos', 'apathy', 'apautomation', 'apbspeaker', 'apha2016', 'apink', 'aplitchat', 'apm', 'aporladuodecima', 'appalachiantrail', 'appalling', 'appleevent', 'applemusic', 'apples', 'apps', 'apt', 'ar', 'arasbflexin', 'archer', 'architecture', 'argentina', 'argos', 'ari', 'ariasonedirection', 'arizona', 'arleg', 'armedradio', 'armedradio1', 'armenian', 'armeniangenocide', 'armstrade', 'army', 'armyrotc', 'armystrong', 'armywife', 'arnold_ccstca_04', 'aroundtherock', 'arpx', 'arrow', 'arrowhead', 'arsenal', 'arsenalfc', 'arsug2016', 'art', 'articles', 'articlev', 'artiesays', 'artificialintelligence', 'artist', 'artisticfashionphotography', 'artistsfortrump', 'arts', 'artsed', 'arynews', 'asakaftans', 'ashera', 'ashley', 'asian', 'asians', 'asisabuja2016', 'askmeaboutmyfeministagenda', 'asknasa', 'askniall', 'asmg', 'asmsg', 'asmsg1', 'aspergers', 'aspie', 'assange', 'asshole', 'assnat', 'asteroid', 'astoundinglyunfit', 'astros', 'asunvb', 'at', 'atheism', 'atheist', 'athena', 'athlete', 'athletics', 'atlanta', 'atlantafx', 'atlantahitmakers', 'atlhawks', 'attorney', 'atx', 'auburn', 'auction', 'auctioneer', 'auctions', 'audience', 'audiencebuilding', 'audiodramasunday', 'audioplug', 'augmentedreality', 'auspol', 'aussiesfortrump', 'austin', 'australia', 'auswewant', 'autchat', 'authenticity', 'author', 'autism', 'autismawareness', 'autismspeaks', 'autismspectrum', 'auto', 'autumn', 'avencycle', 'averyprivateaffair', 'avgeek', 'aviation', 'avocado', 'avonaddict', 'avonrep', 'awakestates', 'awardwinningkidlitauthor', 'awarrior', 'awesome', 'awesomeguy', 'aww', 'axschat', 'ayearwithwomen', 'az', 'azcardinals', 'b2b', 'babyboomer', 'bachabazireince', 'backpacking', 'backroad', 'backtheblue', 'bacon', 'badcustomerservice', 'badgers', 'badmoms', 'bairavaateaser', 'bakeoff', 'ballerfriday', 'ballerscholar', 'ballotsbeforebullets', 'balorclub', 'baltimore', 'bama', 'bancanhunting', 'bancubpetting', 'banfinning', 'banislam', 'banrodeo', 'bansal', 'banter', 'bantrophyhunting', 'banvseng', 'baonpdx', 'barcelonista', 'barons', 'barterkings', 'baseballbands', 'basedgop', 'basketballfan', 'basketofdeplorables', 'batb', 'batman', 'battered', 'battlefield20', 'bawson', 'baylortwitter', 'bazinga', 'bb18', 'bbc', 'bbcqt', 'bbcsp', 'bbcstrictly', 'bblf', 'bbn', 'bbott', 'bbtwd', 'bcam', 'bccp', 'bcfaopen', 'bcho', 'bclions', 'bcpoli', 'bcps', 'bcsta', 'bdmcb', 'bdworld', 'be', 'beach', 'beaches', 'beadedbracelet', 'bearclan', 'beardown', 'bearsfam4trump', 'beasties', 'beatflorida', 'beatles', 'beatncstate', 'beatpitt', 'beatsc', 'beatstate', 'beauticontrol', 'beauty', 'beautyphotograph', 'beblogalicious8', 'beckylynch', 'becurious', 'bedsiderounds', 'beequals', 'beer', 'beersnob', 'beforeth', 'beforetheflood', 'begumnusratbhutto', 'behappy', 'beheard', 'belfasthome', 'belgium', 'believe', 'believeland', 'beliver', 'bellmore', 'belt', 'benbass', 'benedict', 'bengals', 'bengarrison', 'benghazi', 'benghazifour', 'bensononhersid', 'bensononherside', 'benzo', 'bepositive', 'beprepared', 'bernardandhueymovie', 'berniefortrump', 'berniemustdisavow', 'bernieorbust', 'berniesande', 'berniesanders', 'bernitdown', 'bernthednc', 'berthoudtax', 'bestforbusiness', 'bestofetsy', 'bestpotusever', 'bestradiopersonality', 'bethechangeyouwanttosee', 'bethehero', 'betheinspiration', 'betsyrio', 'bettertogether', 'betterway', 'beyhive', 'beyonc', 'beyonce', 'beyoulivecivil', 'beyourownkindofbeautiful', 'bfaacting', 'bforlife', 'bgeiba', 'bhutan', 'bi', 'biafra', 'biafrafortrump', 'biafrans', 'bible', 'bibles', 'bic', 'bicycle', 'big10', 'bigbluenation', 'bigdata', 'bigdatainfinance', 'bigleaguetruth', 'bigots', 'bigupharlow', 'bikedc', 'bikerscout', 'biketo', 'bilateral', 'billie_begley', 'billings', 'billmurray', 'bills', 'binder', 'binders', 'bing', 'biodiversity', 'biodynamic', 'bioeconomy', 'biography', 'biological', 'bioport16', 'bipolar', 'birddogging', 'birdgang', 'birdwatcher', 'birthcontrol', 'bisexual', 'bitcoinbillionaire', 'bitumen', 'biz', 'blab', 'black', 'blackamerica', 'blackberry', 'blackbusiness', 'blackexcellence', 'blackface', 'blackfish', 'blackfisthealthtip', 'blacklawyersmatter', 'blacklivesmatter', 'blackmirror', 'blacknation', 'blackopscyber', 'blacks', 'blacks4trump', 'blacksfortrump', 'blacktwitter', 'blahblahblah', 'blair', 'blancoynadamas', 'bleedblue', 'bleedgreen', 'blendedfamily', 'blerd', 'blessed', 'blewish', 'blindspot', 'bliss', 'blissedoff', 'blm', 'blockchai', 'blockchain', 'blog', 'blogger', 'blogging', 'blogglizer', 'bloggs', 'blogher16', 'blood', 'bloodaplka', 'blooddonor', 'blue', 'blueandgoldforever', 'blueballot', 'blueberries', 'bluedevils', 'bluedownballot', 'bluehand', 'bluejays', 'bluelivesmatter', 'bluemix', 'blueoasis', 'blueridgemountains', 'bluewave2016', 'bluntforcetruth', 'bluskyfriday', 'bmore', 'bna', 'bobbyhill', 'bobbymeansbiz', 'bobday', 'bodybuddiessoap', 'boise', 'boisestate', 'bojtv', 'bokoharam', 'boltup', 'bonanza', 'bonds', 'bondurantia', 'bookchallengeke', 'bookclub', 'bookfair', 'books', 'bookspecials', 'boomersooner', 'boonehateweek', 'boos4cruz', 'boost', 'booth', 'boothlife', 'boots', 'boriqua', 'born', 'borneo', 'borussiadortmund', 'boston', 'bostonteams', 'bosvsnyr', 'bouchard', 'boulwareoenone2016', 'boundbyblue', 'bowtieboys', 'boxing', 'boy', 'boycott', 'boycottcircuses', 'boycottisrael', 'boycottkellyfile', 'boycottmegyn', 'boycottmegynk', 'boycottmegynkelly', 'boycottseaworld', 'boycottthemedia', 'boycottyuengling', 'boykinprosise2016', 'boys', 'boyscostumes', 'bpff', 'bpm', 'bps', 'braaiusa', 'bracelet', 'bradford', 'brafiaexpress', 'brainfog', 'brainpower', 'brainwarrior', 'brand', 'branding', 'brandisgleeson', 'brantlake', 'braves', 'bravescountry', 'bravesfam', 'breadman', 'breaking', 'breakingnews', 'breastcancer', 'breizh', 'brexit', 'brexiteer', 'bricklane', 'bridgegate', 'bringbackfirefly', 'bringbackourgirls', 'bringbackourgirlsfromisis', 'bringbackrockmusic', 'bringourgirlsback', 'bringthemh', 'bringthemhere', 'briskcuts', 'bristol', 'britain', 'briteandbubbly', 'british', 'britishgladiator', 'britneyspears', 'brodielife', 'brokenbritain', 'broncos', 'bronxnation', 'brooklyn', 'brooklyngrit', 'broome', 'bros4hillary', 'brotherseternally', 'brotherturbo', 'browns', 'brucelee', 'bruins', 'bruinsnation', 'bsod', 'bstfansign', 'bsu', 'bsuhalloween', 'bsyeddyurappa', 'btam', 'btclife', 'bthocowbell', 'bthonmsu', 'buber', 'bucketlist', 'buckeyenation', 'buckeyes', 'bucswednesday', 'buddhism', 'budgetcutamovie', 'budlight', 'budweiser', 'buffalo', 'buffalony', 'buffalove', 'buildonadvantage', 'buildthewall', 'buildwall', 'bulletclub', 'bullion', 'bulls', 'bullshit', 'bullsnation', 'bullying', 'bundesliga', 'bundyranch', 'bunnybingo', 'bunnytrail', 'buryboyz', 'business', 'businessowner', 'busted', 'busterposey', 'butchplease', 'buy', 'buywithcandace', 'buzzcity', 'bvb', 'byecasper', 'byog', 'byou', 'bzbooks', 'bzzagent', 'c34eva', 'ca', 'ca4', 'ca49', 'ca4trump', 'cabernet', 'caddyshack', 'cadrought', 'cal', 'calais', 'calaisjungle', 'california', 'camaro', 'camerapaysmybills', 'campaign2016', 'camshows', 'camsten', 'can', 'canada', 'canadavotes', 'canadian', 'canadianclientathon', 'canberra', 'cancer', 'candidate', 'candy', 'canes', 'canesfam', 'canihelpyou', 'caninerockbands', 'cannabis', 'cantigetacodeorsomething', 'cantstopthesignal', 'canucks', 'capecoral', 'capitalistarmy', 'capitol', 'caprimary', 'caps', 'capsfamily', 'captaincanary', 'carbontvs', 'cardsagainsthumanity', 'career', 'careerburnout', 'careergoals', 'caregivingforthesoul', 'carfax', 'carlyraejepsen', 'carnivalofsouls', 'carolburnett', 'carpecatulus', 'carpoolkaraoke', 'carporn', 'cartoon', 'cashback', 'cashcows', 'castle', 'cat', 'catalonia', 'catdaddybae', 'catholic', 'catholicfollowchain', 'catlover', 'catowner', 'catpuns', 'cats', 'catsonvi', 'caturday', 'cavs', 'cavs2016champions', 'cavsnation', 'cbb', 'cbj', 'cbre', 'cbus', 'cbuswid', 'ccam', 'ccb', 'ccfair16', 'ccgm', 'ccot', 'ccw', 'cdcwhistleblower', 'cdko', 'cdnecon', 'cdnpo', 'cdnpoli', 'cdwcampus', 'cdwinterns', 'ceiag', 'celebrity', 'celebs', 'celtics', 'cement', 'ceo', 'ceta', 'cetpa', 'cfb', 'cfc', 'cfjcnews', 'cfre', 'cgw', 'chalicelight', 'challenge', 'chamwadaatjkl', 'chance', 'change', 'changes', 'changetheculture', 'charged', 'chargers', 'charlesblow', 'charleston', 'charlestown', 'charliesangels', 'charlotte', 'charlottesville', 'charmed', 'checkfirst', 'cheesehead', 'cheesesteaks', 'chef', 'cheflife', 'chelsea', 'chemical', 'chemtrail', 'cherijacobus', 'cherokee', 'cherokeestrong', 'chesapeakeshores', 'chessies', 'chesterhigh', 'chicago', 'chicagoan', 'chicagofire', 'chicagopd', 'chicana', 'chicfila', 'chickens', 'chicos', 'chiefs', 'chiefskingdom', 'chiers', 'childabuse', 'childcare', 'childlabor', 'childmarriage', 'childprotection', 'childrensrights', 'childtrafficking', 'chilicheeseburrito', 'chilldog', 'chillout', 'china', 'chocoholic', 'chocolateasong', 'chocwalk', 'choice', 'choke', 'choo', 'choochooplayboy', 'choosewisely', 'chrisbrownfeatusherzayn', 'chrishemsworth', 'christian', 'christianfaith', 'christianity', 'christians', 'christiansmatter', 'christine081579', 'christmas', 'chronicpain', 'chucktodd', 'church', 'cigarettes', 'cinema', 'cinematic', 'cinma', 'cinnamonapple', 'cio', 'ciochat', 'cir', 'ciso', 'cities', 'cities4all', 'citizenscience', 'citizensfortrump', 'civicinnovation', 'civilengineering', 'civilrights', 'cjs15', 'cjs16', 'ckdj', 'ckdjs', 'clarity', 'clarksdalems', 'clashofthecorps', 'clasiconacional', 'classic', 'classof2000media', 'classy', 'cle', 'cleftnation', 'clemrho', 'clemvsfsu', 'cleveland', 'client', 'clientlove', 'climate', 'climateaction', 'climatechange', 'climateprogress', 'climatescience', 'climatevoter', 'climathon', 'clinton', 'clintoncash', 'clintoncollapse', 'clintoncorruption', 'clintonemails', 'clintonfoundation', 'clintongate', 'clintonkaine', 'clintonkaine2016', 'clintonnewsnetwork', 'clintons', 'clintonscandals', 'clintonson', 'clippernation', 'clippers', 'clipstudiopaint', 'clocksgoback', 'clothes', 'clothing', 'cloud', 'cloudcomputing', 'clt', 'clutch', 'cmhc', 'cmo', 'cnn', 'cnnsotu', 'co', 'coach', 'coaching', 'coachlife', 'cocktails', 'coder', 'coffee', 'cognitive', 'cognitivemobility', 'coins', 'colchesterandsuffolk', 'coldbrew', 'colinpowell', 'collaborate', 'collaboration', 'collaborator', 'collecting', 'college', 'collegegameday', 'collegesports', 'cologne', 'colonization', 'color', 'colorado', 'coloringtherapy', 'coloristlife', 'colorrush', 'colorthecounty', 'colts', 'columbiagivingday', 'columbiaroad', 'columbus', 'columbusohio', 'com', 'comeclean', 'comedian', 'comedy', 'comey', 'comeyresign', 'comic', 'comics', 'comm_college', 'commercial', 'commodities', 'commonsense', 'comms', 'communications', 'communismcrimes', 'community', 'communityradio', 'compassion', 'compassionate', 'compelling', 'competition', 'composer', 'compostable', 'compsci', 'computersciencefact', 'concerned', 'conflicts', 'congress', 'connachtclan', 'connecttheleft', 'conservative', 'conservatives', 'constitution', 'constitutional', 'contabilidad', 'contemporary', 'content', 'contentcreator', 'contentmarketing', 'continuousdelivery', 'contractgrading', 'contributions', 'contributor', 'cooking', 'cop22', 'copolitics', 'core_products', 'corona', 'corporateculture', 'corrupt', 'corruptclintons', 'corrupted', 'corrupteleven', 'corrupthillary', 'corruptio', 'corruption', 'corruptionsa', 'corruptionsux', 'corruptmedia', 'corvette', 'cosproject', 'cotton', 'cougarornot', 'couldntbeprouder', 'countmeout', 'country', 'countrymusic', 'coupons', 'coverup', 'cowboys', 'cowboysnation', 'cowgirlup', 'coworking', 'cowsboysnation', 'cowx', 'coyr', 'coys', 'cpfc', 'cpfcvlfc', 'cppart', 'cppews', 'cpwlf', 'craftbeer', 'crafts', 'crappyhalloween', 'crated', 'cre', 'creative', 'creativedirector', 'creator', 'creature', 'creolemafia', 'crewlife', 'cricket', 'crime', 'criminalclintons', 'criminalminds', 'criminals', 'cringe', 'cripthe', 'criticism', 'critlib', 'crochet', 'crooked', 'crookedcomey', 'crookedcorrupthillary', 'crookedhi', 'crookedhillary', 'crookedmedia', 'crookedryan', 'crookedzuma', 'crossfit', 'crowdfund', 'crowdtap', 'crown', 'crownsandcrosses', 'cruise', 'cruiseclass', 'cruiserweight', 'cruz', 'cruzcrew', 'cryptoceeds', 'csislive', 'cslewi', 'cspanfan', 'csr', 'csuite', 'ctec', 'ctl', 'cubs', 'cubstalk', 'cubstwitter', 'cubsvsindians', 'cue', 'cuerockstar', 'culinarian', 'culinary', 'culture', 'cultureshock', 'cuome', 'cupforacup', 'curator', 'cureals', 'curemeso', 'cuse', 'cusenation', 'customerexperience', 'customerservice', 'customrtic', 'custserv', 'cute', 'cutthecord', 'cutthroatkitchen', 'cw', 'cwg', 'cx', 'cybersecurity', 'cyberthugs', 'cycling', 'cyclist', 'd1', 'dacehall', 'dad', 'dadlife', 'dadops', 'dadpic', 'daeshhunter', 'dailycalm', 'dailyd', 'dailyqotd', 'dailyshow', 'dairyfree', 'dakota', 'dakotaaccess', 'dakotaaccesspi', 'dakotaaccesspipeline', 'dallas', 'dallascowboys', 'damnit', 'damnitsomuch', 'damu', 'danceon', 'dangero', 'dannii', 'danville', 'dapl', 'daretodoolan', 'darken', 'darkness', 'darksouls3', 'data', 'dataanalytics', 'database', 'datacenter', 'datav', 'davidbowie', 'davidbrock', 'davidpetraeus', 'dawnsdoovers', 'dawsey', 'days', 'db2', 'db2z', 'dbacks', 'dc', 'dc4', 'dc4l', 'dcfootball', 'dckids', 'dcmoms', 'dcnow', 'dcpolitics', 'dcrising', 'dcu', 'ddos', 'de', 'deadspace', 'dealmein', 'deals', 'deathby1000beestings', 'deathdayparty', 'deathvalley', 'debate', 'debatenight', 'debates2016', 'deblasio', 'deborahross', 'decacolt', 'decisionamerica', 'declarepakterrorstate', 'declareworld', 'decor', 'deep', 'defeatliberalism', 'defeattrump', 'defenderofthefaith', 'defendwl', 'defense', 'defensewinschampionships', 'defundcbc', 'defundplannedparenthood', 'defundpp', 'delcon', 'delegate', 'deletegope', 'deletehillarynnov', 'deliverhope', 'delivery', 'dellemcforum', 'delusional', 'demandera', 'demdebate', 'dementia', 'demexit', 'democracy', 'democrat', 'democrats', 'demoday16', 'dems', 'demsinphilly', 'demstorm', 'denim', 'densi', 'dentonscott2035', 'denver', 'deplorable', 'deplorablekb58', 'deplorablerednecks', 'deplorables', 'deportillegals', 'deports', 'depression', 'depressionisnot', 'depressionlies', 'derbyday', 'design', 'designatedsurvivorabc', 'designer', 'desmoines', 'despicabledonald', 'desvanrooyen', 'detroit', 'detroitsports', 'detvshou', 'developer', 'development', 'devops', 'dfs', 'dftba', 'dfw', 'dhanteras', 'diadelosmuertos', 'diademuertos', 'diagnosticdilemma', 'diamondand', 'dickileaks', 'dictator', 'dieforher', 'digcit', 'digicancon', 'digital', 'digitaladspend', 'digitalcitizenship', 'digitaldiplomacy', 'digitalhealth', 'digitalmarketingagency', 'dikil', 'dikileaks', 'dinner', 'diplomacy', 'directory', 'directv', 'dirtydem', 'dirtydonald', 'disability', 'disabilityadvocate', 'disarmamentweek', 'disarmhate', 'disciple', 'discounts', 'discoveroldwisconsin', 'discoverychannel', 'dishonest', 'dishonestmedia', 'disney', 'disneysmmc', 'disquieted', 'disruptiveinnovator', 'districtchamps3x', 'disvet', 'ditchandswitch', 'diversity', 'divestff', 'diving', 'diwali', 'diy', 'dj', 'djivreal', 'djnfbiz16', 'djs', 'djswaidheatpromo', 'dm', 'dms', 'dmtbka', 'dnb', 'dnc', 'dnc2016', 'dncemails', 'dncleak', 'dobbs', 'dobigthings', 'doctor', 'doctors', 'doctorstrange', 'doctorwho', 'documentary', 'dod', 'dodt', 'dog', 'dogbountyhunter', 'doglivesmatter', 'doglove', 'doglover', 'dogs', 'doitwithflair', 'doj', 'dolphinproject', 'dolphins', 'domesticabuse', 'domesticviolence', 'donal', 'donald', 'donaldjthump', 'donaldtrump', 'donaldtrumpfor', 'donaldtrumpjr', 'donatehere', 'donating', 'donetsk', 'dontboovote', 'dontbuymegynkellybook', 'dontdrinkanddrive', 'donthecon', 'dontletmego', 'dosomething', 'doubleipa', 'douche', 'doug', 'dougmcdermott', 'dounet', 'dowhatiwant', 'download', 'doyourjob', 'dr', 'draftourdaughters', 'draint', 'drainth', 'drainthe', 'draintheseamp', 'draintheswa', 'draintheswamp', 'drama', 'drapery', 'drawing', 'dre', 'dream', 'dreamcreateinspire', 'dreamplusdo', 'dreamville', 'drinkmilk', 'drivecarefully', 'driverfindernetwork', 'drivetribe', 'drjillstein', 'drmm', 'dropouthillary', 'drottm', 'drought', 'drr', 'drummer', 'drunkhistory', 'drupal', 'dsgiveaway', 'dtmag', 'dublin', 'dubnation', 'ducksontheground', 'dukeinthenfl', 'dukenation', 'dumbbrokekidz', 'dumbledore', 'dumpcitizensunited', 'dumpmegynkelly', 'dumptheestablishment', 'dumptrump', 'duranie', 'dvam2016', 'dvralert', 'dw2017', 'dwarfism', 'dxchat', 'dyk', 'dykema', 'dynastytrades', 'eagles', 'earliestshow', 'earlyflight', 'earlyvote', 'earlyvote4her', 'earlyvoti', 'earlyvoting', 'earpers', 'earphones', 'earring', 'earspiercedtoday', 'earthquake', 'earthtomarrakech', 'east15', 'eastcoastlifestyle', 'eatmoreart', 'ebay', 'ebfablook', 'ebook', 'ecm', 'ecofriendly', 'econ', 'econ2017', 'economicimpact', 'economics', 'economy', 'ed', 'edballs', 'edchat', 'edinburgh', 'edistobeach', 'editor', 'editorslab', 'editranked', 'edm', 'edmont', 'edms', 'edtech', 'edu16', 'educated', 'educatedconsumer', 'education', 'edunonprofit', 'efc', 'effective', 'efficiency', 'eflcup', 'egypt', 'ehealth', 'eighthgradesocialstudies', 'ejwtt', 'el', 'elb', 'elect', 'election', 'election2', 'election2016', 'electionday', 'electionday2016', 'electionfraud', 'elections2016', 'electronics', 'elephants', 'elimanning', 'eliza', 'elizabethwarren', 'eljefe', 'elliospizzaprizes', 'ellsworth316', 'elt', 'elvira', 'elxn42', 'em2au', 'email', 'emergencytweet', 'emerging', 'emeryvilleca', 'emigracja', 'emm', 'emmajeanf', 'empathy', 'employment', 'empowermenthour', 'empressofpop', 'emptythehtanks', 'emulsifier', 'enabling', 'end2end', 'endalz', 'endbsl', 'endlesssummer', 'endpolicebrutality', 'endthecia', 'endthegap', 'endtimes', 'endwhitegenocide', 'energy', 'enfermera', 'engagement', 'engineer', 'engineering', 'engineeringeducation', 'england', 'english', 'engvnz', 'enjoy', 'enlistforher', 'enough', 'ensw', 'entertainer', 'entertainment', 'entrepreneur', 'entrepreneurs', 'entrepreneurship', 'entrepreneurshiped', 'entreprenuer', 'entry', 'environment', 'environmentalist', 'epicfailure', 'epiconebay', 'episconews', 'eplenary', 'epsstrong', 'equal', 'equality', 'equalityforall', 'equalitywins', 'equaljustice', 'equalmeansequal', 'equalpayforbetterplay', 'equalrightsactivist', 'er', 'era', 'eranow', 'ericbraverman', 'ericgarner', 'ermenegildozegna', 'erotica', 'erp', 'erre', 'ers', 'erw2016', 'eslproleague', 'esogurumi', 'espn', 'esports', 'essence', 'essothursdays', 'essure', 'estoyconella', 'esuhhdude', 'ethiopia', 'ethnicreplacement', 'etsy', 'etsyjewelry', 'etsymnt', 'etsymntt', 'etsyretwt', 'etsyshop', 'eu', 'euco', 'eugeneonegin', 'europeans', 'europenotlittleengland', 'euroscepticism', 'evangelical', 'evanmcmullin', 'evansimpact', 'events', 'everton', 'everybodyhateslelee', 'everydaycounts', 'everydayisahustle', 'everydetailmatters', 'everyhealthyrelationshipneeds', 'everysimpsonsever', 'everythingislessthanzankie', 'everytingsirie', 'evidence', 'evilemma', 'ewpopfest', 'exbernie', 'exchristian', 'exdem', 'exo', 'expandmedicaidnow', 'expats', 'expectus', 'experience', 'experimental', 'explicitphotos', 'exploration', 'exploremore', 'extortion17', 'exxonknew', 'eyeshadow', 'eyewitness', 'f1', 'f4f', 'fa', 'fableticsmaster', 'facebook', 'facepaint', 'facts', 'fail', 'fairfieldct', 'fairtax', 'faith', 'falcons', 'falk4ny', 'fall', 'falldecor', 'fallfoliagewars', 'fallontonight', 'fallpractice', 'fallthanksgiving', 'falseadvertising', 'family', 'familyfarm', 'familyfun', 'famine', 'famouswomen', 'fangfriday', 'fangirlingsohard', 'fanniegate', 'fansforlife', 'fantasy', 'fapturbo', 'farmer', 'farming', 'farmlife', 'farmmurders', 'farmtours', 'fashion', 'fashionista', 'fashionkneehi', 'fashionphotography', 'fashionpolice', 'fashionwatch', 'fast5worldseries', 'father', 'fav', 'favor', 'favorite', 'favrefridays', 'fb', 'fbcglive', 'fbg', 'fbi', 'fbifriday', 'fbipokedhillyinthe', 'fbireo', 'fbireopenscase', 'fcb', 'fcbayern', 'fcbayernmnchen', 'fda', 'fearthehawk', 'feartheturtle', 'featu', 'featurefilm', 'federalist', 'federer', 'feedly', 'feelthebern', 'feltcher', 'femalefilmmakerfriday', 'femalefounders', 'feminism', 'feminist', 'feministquoteoftheday', 'fencethegarden', 'fender', 'ferguson', 'fertility', 'fetish', 'few4all', 'few4life', 'ff1776', 'ffconf', 'ffl', 'fifthgrade', 'fifyfofum', 'fightflu', 'fightfor15', 'fightforher', 'fighting4ourmiddleclass', 'fighton', 'filluporlandostadium', 'film', 'filmafeaturein8days', 'filmfestival', 'filmmaker', 'filmmaking', 'films', 'filthcircus', 'filthy', 'filthyclintons', 'finance', 'findcorrie', 'findharlow', 'findingdory', 'findyourheart', 'finer', 'fingerdippingdad', 'finishedanddone', 'finserv', 'fintech', 'fire', 'firecomey', 'firedup', 'firemccoy', 'firesidechat', 'fireterrycollins', 'firsthiphopmemory', 'firstladies', 'firstnoharm', 'firstterminprison', 'fishing', 'fitbit', 'fitfam', 'fitness', 'fitstats_en_nl', 'fitstats_en_us', 'fittslist', 'fixmylife', 'fl', 'flamengo', 'flapol', 'flashback', 'flashbackfriday', 'flashpoint', 'flexing', 'flies', 'flipitdem', 'flippedlearning', 'flippinghomes', 'florida', 'floridafortrump', 'floydmayweather', 'flpanthers', 'fls', 'flsen', 'flsendebate', 'flufactfriday', 'flyeaglesfly', 'flyers', 'flyfishing', 'flyhighmitch', 'flyingmonkeys', 'flythew', 'fm', 'fnce', 'fns', 'focusontoronto', 'foia', 'foiloo', 'follow', 'followfriday', 'food', 'foodie', 'foodies', 'foods', 'foodwaste', 'football', 'footballfamily', 'forbes', 'forcedmigration', 'foreclosuretohome', 'foreignpolicy', 'forestphotonics', 'forestry', 'foreverduke', 'foreverroyal', 'foreveryoung', 'forex', 'forksup', 'formertitansfan', 'forsethrich', 'forzaferrari', 'forzajuve', 'forzavettel', 'fossilfriday', 'foster', 'fote2016', 'fox', 'foxldt', 'foxnews', 'foxny', 'foxreport', 'fptp', 'fracking', 'france', 'francophile', 'fraross', 'fraud', 'free', 'freeassange', 'freebatfriday', 'freebiafra', 'freebiefriday', 'freeboogie', 'freebooks', 'freebrady', 'freechelsean', 'freedom', 'freedomforbiafra', 'freedomisntfree', 'freedomofthought', 'freejulian', 'freekodak', 'freelance', 'freemarinea', 'freemarket', 'freemarketcapitalist', 'freemason', 'freemedia', 'freemilo', 'freennamdikanu', 'freepalestine', 'freeplay', 'freeplays', 'freericky', 'freeshipping', 'freespeech', 'freespirit', 'freethejoy', 'freethinker', 'freezach', 'french', 'frequency360radio', 'freshpaint', 'frexit', 'friday', 'fridayf', 'fridayfeeling', 'friendorfoe', 'frigogate', 'frisky4peace', 'frogslit2k16', 'frontierconstabularyis', 'frontlineclub', 'frostburg17', 'frozone', 'frsa', 'fruitflies', 'fsgpoetry', 'fsmp', 'fsu', 'ftworth', 'fuckgop', 'fuckhaters', 'fuckthecubs', 'fuckthemlb', 'fucktrump', 'fuependymoma', 'fullerhouse', 'fullrepeal', 'funeral', 'funny', 'funthingstodoaloneonhalloween', 'furfree', 'furrytails', 'fushia', 'futureofhealthcare', 'futurism', 'futurist', 'fvhs', 'g2great', 'ga', 'gainwithxtiandela', 'gainwithyahboiselfie', 'gambia', 'gamechanger', 'gameinsight', 'gameofthrones', 'gameon', 'gamer', 'gamergang', 'gamergate', 'gaming', 'gamingnews', 'gapetoberfest', 'gapingvoid', 'gardener', 'gardening', 'gardens', 'gardnerma', 'garfieldcounty', 'garyjohnson', 'gas', 'gaso', 'gastropub', 'gata', 'gatlinbrothers', 'gatornation', 'gay', 'gayporn', 'gaysex', 'gaysfortrump', 'gayvegas', 'gayvegaspov', 'gbbo', 'gbbofinal', 'gbo', 'gbr', 'gbvsatl', 'gcnjustin', 'gcw', 'geauxtigers', 'geek', 'geekdom', 'genderdiversity', 'genderequality', 'genderequity', 'gendergap16', 'genderwagegap', 'genealogy', 'genocide', 'genomics', 'genx', 'genx4hrc', 'geopolitics', 'georgesoros', 'georgia', 'german', 'germanshepherddog', 'germany', 'getamac', 'getcovered', 'getcreative', 'getmounted', 'getoutandvote', 'getpulsed', 'getrealtor', 'gett', 'getvaccinated', 'getwellsoonyeri', 'gf', 'ggmu', 'gh', 'gha', 'ghana', 'ghelections', 'ghost', 'ghostadventures', 'ghostbusters', 'ghosthunters', 'ghostrider', 'giantbug', 'giants', 'giantsintheclouds', 'giantspride', 'gibson', 'gift', 'giftbasket', 'giftideas', 'gifts', 'gillyleak', 'gimd', 'girlboss', 'girlbye', 'girlscostumes', 'girlsintech', 'giveaway', 'giving100percent', 'givingback', 'givingtuesday', 'glanworth', 'glasgow', 'glasgowdeclaration', 'glee', 'glenfiddich', 'glennbeck', 'glittereyes', 'glittershadow', 'globalcitizen', 'globaldev', 'globalgoals', 'globalisation', 'gls16', 'glutenfree', 'gmfer', 'gmo', 'gmu', 'go', 'goalana', 'goals', 'gobears', 'goblue', 'gobrowns', 'gobucks', 'gocavs', 'gocougs', 'gocubbies', 'gocubs', 'gocubsgo', 'god', 'godawgs', 'godblessamerica', 'goddessdynasty', 'godevils', 'godfearing', 'godisgood', 'godmade', 'gododgers', 'godovermoney', 'goducks', 'gofor2', 'gofrogs', 'gogreen', 'goh', 'gohabsgo', 'gohawks', 'gohil', 'gohillary', 'gohogs', 'goirish', 'golakers', 'gold', 'goldberg', 'golf', 'golfer', 'golfgirl', 'golfing', 'gondwana', 'gonisky', 'goodgirlsrevolt', 'goodies', 'goodmorningnigeriashowwithmada', 'goodmusic', 'goodnightchicago', 'goodwithoutgod', 'google', 'googlealerts', 'googlecloud', 'gooner', 'goou', 'gop', 'gopack', 'gopackgo', 'gophers', 'gopokes', 'goroar', 'goroos', 'gospel', 'gospelfirst', 'gospursgo', 'got', 'gotham', 'gotribe', 'gotv', 'governance', 'government', 'govols', 'govt', 'gowikileaks', 'gowildcats', 'gowiththeflow', 'gowyo', 'gozags', 'gpg', 'gpodawund', 'gqbd16', 'grabyourwallet', 'gracieweimlove', 'graduates', 'graffiti', 'graffitinyc', 'grail', 'grammarnazi', 'grammy', 'grant', 'grantcardone', 'grantchat', 'graphicdesign', 'grasim', 'grateful', 'gratitude', 'greatblueheron', 'greatblueherring', 'greateranglia', 'greatnessliveshere', 'greencollar', 'greenisthenewblue', 'greenjobs', 'greenrevolution', 'greenwall', 'greysanatomy', 'gri', 'grindforever', 'grizzlies', 'gropegate', 'growingupblack', 'grownman', 'growth', 'growthhacker', 'growthmarketingconf', 'grrrlcon', 'gryffindor', 'gsdr', 'gsmrome', 'gsu', 'gt', 'gts16', 'guap', 'guarding', 'gunbullies', 'gunners', 'gunnut', 'guns', 'gunsense', 'gunsensenow', 'gunsmith', 'gunsoverpeople', 'gunssavelives', 'gunsup', 'guptas', 'guru', 'guykawasaki', 'gwb', 'gwbrands', 'h2p', 'h50', 'habitat3', 'habs', 'hack', 'hack4hope', 'hackney', 'hailstate', 'hailtothevictor', 'hairgoals', 'hairpin', 'haiti', 'halamadrid', 'halifax', 'hallmarksuperfans', 'halloweekend', 'halloween', 'halloween2016', 'haltandcatchfire', 'hamilfan', 'hammeredhillary', 'hammocklife', 'hamont', 'hamukopamoja', 'handmade', 'handmadegifts', 'handmadehour', 'handmadejewelry', 'hangingoutwithjaypolo', 'hannity', 'happiness', 'happy', 'happybirthday', 'happydeepavali', 'happydhanteras', 'happydiwali', 'happyhalloweekend', 'happyhalloween', 'happymoments', 'happythursday', 'hardball', 'hardcorepawn', 'harekrishna', 'harley', 'harleydavidson', 'harlow', 'harmreduction', 'harry', 'harrypotter', 'harvard', 'haryana', 'hashtagwars', 'haskell', 'hatecrime', 'haunted', 'havingfun', 'havserve', 'hawaii', 'hawkeyes', 'hawks', 'hawkstalk', 'hcafc', 'hcldr', 'hcr', 'hd800', 'hdwoodson', 'headphones', 'headquarters', 'headshot', 'healingpurrspawty', 'health', 'healthcare', 'healthcoach', 'healthit', 'healthy', 'heartattack', 'hearties', 'heatnation', 'heel', 'heilghostler', 'heismanhouse', 'hellaryno', 'hellinacell2013', 'hellinacellpreshow', 'hellobrooklyn', 'hellomynameis', 'hellosunny', 'help4jacob', 'helpla', 'helvellyn', 'helwanicryingface', 'henriettalacks', 'her', 'herbchat', 'hereia', 'hereiamwithher', 'heroin', 'heron', 'heswithher', 'heswithus', 'heynow', 'hfa', 'hi', 'hiac', 'highenergy', 'highered', 'hil', 'hilarysupporters', 'hildebeest', 'hillar', 'hillary', 'hillary2016', 'hillary4jail', 'hillary4prison', 'hillaryclinton', 'hillaryclintons', 'hillarycrimes', 'hillarye', 'hillaryemai', 'hillaryemail', 'hillaryemails', 'hillaryemailscandal', 'hillaryf', 'hillaryforamerica', 'hillaryforpri', 'hillaryforprison', 'hillaryforprison2016', 'hillaryhatesamerica', 'hillarykaine', 'hillarykaine2016', 'hillaryonservice', 'hillaryperpwalk', 'hillaryrally', 'hillaryrottenclinton', 'hillarys', 'hillarysamerica', 'hillarysarmy', 'hillarysbullies', 'hillarysem', 'hillarysemai', 'hillarysemail', 'hillarysemails', 'hillaryshealth', 'hillarysoqualified', 'hillbullies', 'hilliary', 'hilliaryclinton', 'hilloftara', 'hillyes', 'hindu', 'hinduism', 'hippiedj', 'hiring', 'hiringnow', 'hispanic', 'hispanicsfortrump', 'histor', 'history', 'hit', 'hiv', 'hoaxingmedia', 'hockeyfightscancer', 'hoco', 'hocuspocus', 'hofstra', 'hogs', 'hogwarts', 'hokies', 'holdup', 'holiday', 'holidayromance', 'holidays', 'hollywood', 'hollywoodforhillary', 'holodomor', 'homefronthugs', 'homelesspets', 'homes', 'homeschool', 'homeschooling', 'honey', 'honeybees', 'hongkong', 'honorourveterans', 'honorthefallen', 'hookem', 'hookstraten', 'hoop', 'hoosierlogistics', 'hope', 'hopeforacure', 'hopeingod', 'horridhalloween', 'horrifyacartoon', 'horror', 'hotcardeath', 'hotel', 'hotels', 'houdini', 'hourinbed', 'houseexperts', 'houses', 'houston', 'hpc', 'hr', 'hrc', 'hrconmip', 'hrcpwneddjt', 'hrtech', 'hrva', 'htgawm', 'httr', 'hudl', 'hudsonvalley', 'huggindonald', 'hum', 'huma', 'humaabedin', 'humancapital', 'humanist', 'humanrights', 'humanvoterguide', 'humathemole', 'humor', 'hunger', 'hungeris', 'hunt', 'hunting', 'hurricanematthew', 'hurtwoodhouse', 'husband', 'husbandgoals', 'husker', 'huskies', 'hxgnlive', 'hypernormalisation', 'hypocritehillary', 'i_am', 'ia', 'iabc', 'iabcapac', 'iabmobile', 'iam', 'iam93', 'iamaredraider', 'iamasurvivor', 'iammusic', 'iammybrotherskeeper', 'iamsecond', 'iamthe3percent', 'iamthewltaskforce', 'iamwithher', 'iamwithyou', 'iamyourvoice', 'ian1', 'iartg', 'ibackobama', 'ibelieveinher', 'ibmbiginsights', 'ibmchampion', 'ibmwow', 'iccforisrael', 'iceland', 'ici', 'ict', 'ict4d', 'icymi', 'idlib', 'idlife', 'idontthinkyouknowwhatitmeans', 'idps', 'ie800', 'ificancan', 'ifiwereaherm', 'iflovingyouiswrong', 'ifyoucometomyhouse', 'iihs', 'iirc', 'ijbdal', 'ik', 'il', 'ilayathalapathy', 'ilikemike', 'illegals', 'illinois', 'illuminatingyork', 'illustrations', 'ilm', 'ilnx', 'ilovenlc', 'ilsen', 'ilvolo', 'ilw2016', 'im', 'imagainsther', 'images', 'imhandsome', 'imhauntedby', 'immalaysia', 'impact', 'impeach', 'impinv', 'impressionist', 'improviser', 'imstillwithher', 'imw', 'imwit', 'imwithassange', 'imwither', 'imwithh', 'imwithher', 'imwithhillary', 'imwithjill', 'imwiththem', 'imwithyou', 'in', 'inanewlight', 'inatuunganisha', 'inbradywetrust', 'inc5000', 'inclusion', 'incons', 'incredible', 'incubator', 'independent', 'independents', 'indiakagame', 'indian', 'indianapolis', 'indianrailway', 'indians', 'indiansvscubs', 'indicthillary', 'indiefilm', 'indigenous', 'inductjanet', 'industries', 'industry40', 'indvnz', 'indvsnz', 'inequality', 'infernomovie', 'infertility', 'infj', 'influencer', 'influesnter', 'infographic', 'infographics', 'infosec', 'infowars', 'inkedgirls', 'inktober', 'inners', 'inno', 'innovation', 'insanetrump', 'insdisepolitics', 'insect', 'insecurehbo', 'insen', 'insidemantip', 'insightopinion', 'insights', 'inspiration', 'inspire', 'instagram', 'insulting', 'insurance', 'insurtech', 'int', 'integratedmarketing', 'integration', 'intelligentmusic', 'intense', 'inter', 'intercessor4iisrael', 'intercessor4worldwidemissions', 'internalcomms', 'internetmarketing', 'internetministry', 'internetmusic', 'inthegutterlookingatthestars', 'inthevillage', 'intothelight', 'intp', 'inventor', 'invest', 'investing', 'investinkids', 'investor', 'investors', 'invictafc20', 'ioi', 'iora', 'ios', 'iot', 'iovotono', 'iowa', 'iowan', 'ipf', 'iphone6splus', 'iphoneograp', 'iran', 'iranian', 'iraq', 'ireland', 'irishjobs', 'irishwriters', 'ironman', 'ironmantraining', 'irony', 'irpfellow', 'irrigation', 'isfj', 'isil', 'isis', 'islam', 'islamisevil', 'ispr', 'israel', 'iss', 'issarae', 'issue', 'ist3006m', 'istandwithisrael', 'istandwithnormani', 'istandwithpp', 'istandwithricobarry', 'istandwithstandingrock', 'isupportisrael', 'iswgoodbye', 'italy', 'italyearthquake', 'itec', 'itfdb', 'itgeek', 'itinerary', 'itisagreatdaytobeawildcat', 'itrusther', 'itsabouttogodown', 'itsbritneybitch', 'itshowyouseeit', 'itsinourhands', 'ivanovic', 'ivolunteer', 'ivoted', 'ivotedleave', 'ivotedtrump', 'ivu', 'iwantmycountryback', 'jabbatojedi', 'jackdaniels', 'jackfix', 'jacksepticeye', 'jadakiss', 'jaguars', 'jainism', 'jaishreeradhe', 'jamesabaade', 'jamesclapper', 'jamescomey', 'jamescomeys', 'jamesonselectreserve', 'jamesotis', 'jammeh', 'japan', 'japanese', 'japanfreeric', 'jaspenor', 'jasper', 'java', 'jaxvsten', 'jayhawknation', 'jays', 'jazz', 'jb17', 'jeep', 'jeepers', 'jeffreyepstein', 'jersey', 'jerseyprobs', 'jessequick', 'jesuisparis', 'jesus', 'jesuschrist', 'jesusisking', 'jets', 'jewelry', 'jewelryseller', 'jewish', 'jews', 'jezwecan', 'jfsr', 'jft96', 'jill', 'jillnothill', 'jillorbust', 'jillstein', 'jillyes', 'jimmykimmel', 'jiujitsu', 'jkl', 'jkops', 'joanne', 'joannehalloween', 'joannevibes', 'job', 'jobathon', 'jobfair', 'jobfairy', 'jobhunt', 'jobs', 'jobsearch', 'jobseekerswednesday', 'john316author', 'john316books', 'jokerslive', 'jonjononetime', 'jordandavis', 'josboy', 'joseychacko', 'joshstein', 'joshuaolufemi', 'joshuawatchesharrypotter', 'journalism', 'journalist', 'journalists', 'joy', 'joycegrimes', 'juju', 'juliocortzar', 'jumpman', 'jumpscares', 'juno', 'juntossepuede', 'jupiter', 'justcode', 'justdoit', 'justice', 'justiceforkatie', 'justiceformarinea', 'justintrudeau', 'justsaying', 'justusjustice', 'juve', 'k12', 'k9', 'kaabil', 'kaboom', 'kalashnikov', 'kamloops', 'kansascity', 'kansasstatealumni', 'kanzashi', 'kashmir', 'kateslaw', 'kathyproblems', 'katrinakaif', 'kcchiefs', 'keepcommunityradio', 'keepitintheground', 'keepitlocal', 'keepitplayful', 'keepitpublic', 'keepleft', 'keepmovingforward', 'keeppounding', 'keeptexasred', 'keeptheconversationgo', 'keithkocinski', 'kellerwilliams', 'kellyfile', 'kenmaduakor', 'kennyatkinson', 'kentucky', 'kenya', 'kenzoxhm', 'kerriedawaydestinations', 'keyboardpolitician', 'keylimeeverything', 'keywestboats', 'kfos', 'kickstarter', 'kidlit', 'kidnappedchild', 'kids', 'kidsdeserveit', 'kikimathi53', 'killem', 'killerfrost', 'killjoys', 'killlist', 'killthetradenottheelephants', 'kimdavis', 'kindafunny', 'kindle', 'kindleunlimited', 'kingbach', 'kiss', 'kitchen', 'kitten', 'kitties', 'kizomba', 'kloppite', 'knicks', 'knightrider', 'knightstemplar', 'knigsbergnotkaliningrad', 'knotyetwynot', 'knowitall', 'knowmad', 'kom', 'kompa', 'kosovo', 'kratom', 'kravmaga', 'krebsonsecurity', 'kristenoctg', 'kroff', 'kstatefb', 'ksu', 'ktlive', 'kubball', 'kungfu', 'kurds', 'kuwtk', 'kvennafr', 'kvennafri', 'ky', 'l1c4', 'la', 'laborrights', 'labour', 'labyrinthlost', 'lacpug', 'lacrosse', 'lactivist', 'ladies', 'ladodgers', 'ladycovechoir', 'ladygaga', 'ladywood', 'lafamilia', 'lagraze', 'lahealth', 'lahealthandbeauty', 'laineygossip', 'lakedistrict', 'lakeontariowaterkeeper', 'lakers', 'lakersnation', 'lakeshore', 'lakeshow', 'lakeshowtime', 'lam', 'landscapechat', 'landscapephotography', 'landslide', 'lante', 'lanyard', 'larrygatlin', 'laserscanning', 'lasskicker', 'lastkings', 'lastminutediwalishopping', 'lastword', 'lasvegas', 'latest', 'latino', 'latinos', 'latinosfortrump', 'latinosunidos', 'latinoswillvote2016', 'latinoswithtrump', 'latinx', 'laugh', 'lawfirm', 'lawyer', 'lcchocolates', 'leadership', 'leadershipdevelopment', 'leadershipflow', 'leadgen', 'leadingbritainsconversation', 'leadright2016', 'leadwithheart', 'leafs', 'leagueoflegends', 'learnenglish', 'learning', 'learnlap', 'leather', 'lebronjames', 'lectora', 'legal', 'legend', 'legendsoftomorrow', 'lego', 'leica', 'leisure', 'lemonade', 'lesigh', 'leslawdutkowski', 'lesm', 'less', 'lessgov', 'lessons', 'let', 'letgarydebate', 'letr2jil', 'letsgetit', 'letsgetsomeruns', 'letsgo', 'letsgocubs', 'letsgopens', 'letsgorangers', 'letsslide', 'letuscompete', 'lfc', 'lfcu23s', 'lgbt', 'lgbtforhillary', 'lgbthistorymonth', 'lgbtq', 'lgbtqa', 'lgbtqia', 'lgbtqstraightally', 'lgm', 'liar', 'liars', 'libcrib', 'libdems', 'liberal', 'liberalism', 'liberallogic', 'liberals', 'liberalsunite', 'libertarian', 'liberty', 'libra', 'libtards', 'libya', 'lickface', 'lies', 'life', 'lifeafterstroke', 'lifeandtimes', 'lifebutter', 'lifecoach', 'lifekingsize', 'lifeofasinglegal', 'lifesciences', 'lifesize', 'lifesric', 'lifestyle', 'likeaboss', 'lilkim', 'limatime4ever', 'limerick2020', 'lincolnbrewster', 'lindaevangelista', 'lingardout', 'linkedin', 'linsanity', 'linstead', 'linux', 'lions', 'listenlivebegradio', 'listenlonger', 'listing', 'litelaunch', 'literary', 'literature', 'littlebearprod', 'littlevictories', 'littlewomenatl', 'live', 'livefree', 'livehealthy', 'liveinwonder', 'livelihoods', 'livemediterranean', 'liveon3340', 'liverpool', 'livesent', 'livingwithchronicillness', 'lizajanefs', 'lizcheney', 'lka', 'llap', 'lllplay', 'lnyhbt', 'loat', 'lob', 'lobbyists', 'lobfc16', 'lobos', 'loc', 'localbusinesses', 'localgov', 'localism', 'lockherup', 'lockhimup', 'lockthemup', 'lod', 'lol', 'london', 'londumb', 'longbeach', 'longhorns', 'longlivescootaupnext', 'longlivethe3', 'looking', 'lookslikeabaddude', 'losangeles', 'loser', 'losers', 'loseweight', 'lostgirl', 'lotsoffries', 'louisiana', 'louisianaflood', 'lovablelosers', 'love', 'loveanimals', 'loved', 'lovefootball', 'lovekew', 'lovelife', 'lovely', 'lovemykids', 'lover', 'lovethecov', 'lovethrusday', 'lovetrumpshate', 'loveyourselffirst', 'lovinglife', 'lowereastside', 'lpc', 'lppathfinders', 'lr', 'lready', 'lrt', 'lsu', 'ltg', 'ltym', 'lucie', 'lucylawless', 'ludditedanceparty', 'lufc', 'luhg', 'lumbarcheck', 'lunchwithadi', 'lusb', 'luxury', 'lyincrookedhillary', 'lyinghillary', 'lyingpress', 'lyingseahag', 'lyme', 'lymelife', 'lymewarrior', 'lynch', 'lynhbt', 'ma', 'maam', 'mabeaconofhonor', 'macbeth', 'machinelearning', 'madamepresident', 'madampresident', 'maddow', 'madduxthedog', 'madeinamerica', 'madeinny', 'madeintheusa', 'madison', 'madonna', 'madverse', 'maega', 'mag', 'maga', 'maga3x', 'magazines', 'magick', 'magnitsky', 'mainchicks', 'maine', 'major', 'makea', 'makeame', 'makeamericadrinkagain', 'makeamericag', 'makeamericagreat', 'makeamericagreatagain', 'makeamericasa', 'makeamericasafeagain', 'makeamericasafeagaini', 'makedclisten', 'makedonalddrumpfagain', 'makeitreal', 'makeitwork', 'makeme', 'makemefamous', 'makemoney', 'maker', 'makerspace', 'makethebrownsgreatagain', 'maketheworldabetterplace', 'makeukipgreatagain', 'makeup', 'makingdesciples', 'maktub', 'malaysiangp', 'maldives', 'malheur', 'malpractice', 'malta', 'maltese', 'mambamentality', 'management', 'managerspro', 'manbook', 'manbooker2016', 'manchesterunited', 'mancunian', 'mandalas', 'manicmonday', 'manifestation', 'manmeetalisher', 'manunited', 'manutd', 'maraudergrind', 'marchagainstextinction', 'marchforamerica16', 'mariehowe', 'marijuana', 'marine2017', 'mariners', 'marketer', 'marketing', 'marketingstrategy', 'markets', 'markiplier', 'marr', 'marriage', 'marriageequality', 'marshall', 'martialarts', 'martinluther', 'marvel', 'marvelhalloween', 'marxismisevil', 'masshole', 'math', 'matisse', 'matribhumeinsamradhrahe', 'matstaver', 'matters', 'matthewhait', 'max', 'maxheadroom', 'maybetrump', 'mayhem', 'mazooma', 'mba', 'mbh16', 'mc', 'mccarranairport', 'mcghauntedhouseparty2016', 'mcid', 'mcm', 'mcmulli', 'mcmullin', 'mcmullin2016', 'mco435', 'mcsmn', 'mcswarek', 'me', 'meamalaysia', 'meantweets', 'meat', 'media', 'medialies', 'mediarelations', 'medicaldevice', 'mediokrityisnotanoption', 'meditation', 'meditationforentrepreneurs', 'meerkat', 'meetemergencysession', 'meetspace', 'megankelly', 'megynkelly', 'melbournecup', 'mellogang', 'memphis', 'memphisvserrrbody', 'mens_problem', 'mensa', 'menscostumes', 'mentalhea', 'mentalheal', 'mentalhealth', 'mentalillness', 'mentoring', 'meqasaempowers', 'meqasatraining', 'mercari', 'mercy', 'meredithbrooks', 'merger', 'merkeloutnow', 'mesports', 'messianicjew', 'metal', 'metanoia', 'metaphasetalent', 'metinminnesota', 'metrolink', 'mets', 'mexicangp', 'mexicogp', 'mffl', 'mgt', 'mgtab', 'mgwv', 'mhky', 'mi', 'miami', 'michaelj', 'michelleobama', 'michigan', 'michiganfootball', 'microbiology', 'microsoft', 'middleclass', 'middleeast', 'midtown', 'mightybreakthrough', 'migrants', 'miked', 'miketyson', 'military', 'militia', 'millenialproblems', 'millenials', 'milleniumdevils', 'millennials', 'millennials4trump', 'millerthomson', 'millionreasonsnextsingle', 'mind', 'mindfulness', 'mindset', 'mindsetmatters', 'minicops', 'mirrormaster', 'missing', 'missingpersons', 'missionaccomplished', 'missionlockdown', 'misuseofrapelaws', 'mit', 'mitchmcconnell', 'mivotoesporlaunidad', 'miz', 'mktg', 'mlb', 'mlm', 'mlmsuccess', 'mlp2017', 'mls', 'mlscupplayoffs', 'mma', 'mn', 'mntwins', 'mnufc', 'mnwild', 'mobile', 'mobileiron', 'mobilemarketing', 'mobilephotography', 'mobiwm', 'mobydick', 'mockingjay', 'modelactress', 'modelbuzz', 'modi', 'moebhatha', 'mojo', 'molonlabe', 'mom', 'momblog', 'momblogger', 'mommylife', 'momoneymoguls', 'moms4trump', 'momstyle', 'moncton', 'mondayblogs', 'mondaymotivation', 'money', 'monitoring', 'monsterweek', 'monterey', 'monthlongplease', 'montpellier', 'moonlight', 'moralmonday', 'more', 'moreincommon', 'moretrustedthanhillary', 'mormon', 'mormonmafia', 'mormons', 'morngingrush', 'morningjoe', 'morningrush', 'morrisseygirl', 'mosen', 'mosques', 'mostlyannahood', 'mosul', 'mother', 'motivation', 'moto', 'motogp', 'mountainadventurer', 'moveon', 'movies', 'movietrivia', 'movinonup', 'mozambique', 'mozfest', 'mozfest2016', 'mph', 'mplusplaces', 'mplusrewards', 'mrstealyogirl', 'ms', 'mscbizsolutions', 'msf16', 'msignite', 'msm', 'msmbias', 'msqueunclub', 'msubulldogs', 'msusucks', 'mt', 'mtagso', 'mtbps2016', 'mtlvny', 'mtpol', 'mufc', 'mulayam', 'mullingarpride', 'multiinstrumentalist', 'multiplesclerosis', 'munbur', 'munich', 'mupizeta', 'mural', 'murnaghan', 'muscle', 'music', 'musica', 'musician', 'musictherapy', 'muskratfalls', 'muslimbrotherhood', 'muslins', 'mustanggang', 'mustanggt', 'mustread', 'muteleaders', 'muzikkzone', 'mwithher', 'mxpx', 'my50nikon2', 'myabs', 'myastheniagravis', 'mybrand', 'mybrotherskeeper', 'mydayinla', 'mydogisnevertrump', 'myersbriggs', 'myfriendsaremarried', 'mylegs', 'mylifeinkorea', 'mylifeinoneword', 'mymilitaryfamily', 'myopinions', 'myron', 'mysql', 'mystery', 'mytime', 'myyearofabstinence', 'na', 'nabjblacktwitter2', 'nacwc', 'naloxone', 'namo', 'nanowrimo', 'napa', 'narrowroad', 'nasa', 'nasasocial', 'nascar', 'nashville', 'nasrani', 'nasty', 'nastywoman', 'nastywomanpam', 'nastywomen', 'nastywomen4hill', 'nastywomenunite', 'nastywomenvote', 'nationalayurvedaday', 'nationalcatday', 'nationalchocolateday', 'nationalist', 'nationallawjournal', 'nationalpumpkinda', 'nationalpumpkinday', 'nativeamerican', 'nato', 'natronamock', 'nats', 'natsec', 'nattylife', 'natural', 'naturalgas', 'naturalreactionmovie', 'naturopathicmedicine', 'navy', 'navychief', 'nayabchohan', 'nazihillary', 'nazis', 'nba', 'nbarapidreplay', 'nbavine', 'nbc7', 'nbsr', 'nc', 'ncat', 'ncdlnc', 'ncgov', 'ncisla', 'ncisnola', 'ncpol', 'ncstate', 'ncsu', 'nct', 'nde', 'necklace', 'neilbrown', 'neilturner_', 'neilyoungmoney', 'neitherfitforoffice', 'nenapatinawoodfinmah', 'neoliberal', 'neon', 'nepal', 'nerd', 'nerdist', 'nerdoween', 'nerdtastic', 'nerdygirl', 'net', 'netflix', 'nets', 'networking', 'networkmarketing', 'networkmarketingpro', 'nevada', 'neve', 'never', 'never4getbenghazi', 'neveragain', 'neverbeckagain', 'nevercruz', 'neverevan', 'neverevertrump', 'neverfootball', 'neverforget', 'neverforgiveneverforget', 'neverglobalism', 'neverhill', 'neverhillary', 'neverhillaryever', 'neverhitlertrump', 'neverstop', 'nevertrump', 'nevertrumpers', 'nevertrumporhillary', 'nevertrumppence', 'nevsbuf', 'newark', 'newchallenges', 'newengland', 'newiosupdate', 'newjersey', 'newmexico', 'newplay', 'newportbeach', 'news', 'newsjunkie', 'newsnight', 'newsonenow', 'newspapers', 'newtgingrich', 'newtoronto', 'newtrickortreatrhymes', 'newurbanagenda', 'newvsyd', 'newwest', 'newyorkcity', 'newyorker', 'newzealand', 'nfak', 'nfb', 'nfl', 'nfl1000', 'nfldildo', 'ngs', 'nh', 'nhabairdan', 'nhb', 'nhd2017', 'nhl', 'nhlbruins', 'nhraonfox', 'nhravegas', 'nhs', 'nhsen', 'nicetrynotrea', 'nichetweets', 'nicolassarkosy', 'nigeria', 'nightbeforehalloween', 'nightmares', 'niif', 'nikebasketball', 'nikon', 'nikonowner', 'niners', 'niualumni', 'nixon', 'nj', 'njdevils', 'nkm2016', 'nlcentral', 'nlmusd', 'nloweawards', 'nlpoli', 'no', 'no2eussr', 'noamnesty', 'noanimalcruelty', 'nobama', 'nobody', 'nobullying', 'nochinmusic', 'nodapl', 'noh8', 'nohillary', 'noirvember', 'nolenation', 'noles', 'nolimits', 'nolists', 'nomandates', 'nomorecoverup', 'nomundo', 'non', 'nonbeliever', 'nonconformist', 'nonfiction', 'nonprofit', 'nonprofits', 'nonrassegna', 'noon1', 'noonerepsectswomenmore', 'nopd', 'nopeasanttalk', 'nopoliticalcorrectness', 'noporn', 'noprop60', 'nor', 'norcia', 'noreligion', 'noremorse', 'noremorsesports', 'norithcarolina', 'northampton', 'northc', 'northcarolina', 'northsydneyvotes', 'northwesternu', 'norussians', 'nosenseofirony', 'nosharia', 'nostaminatrumply', 'not', 'notaclown', 'nothingtoseehere', 'notjustlakes', 'notonemore', 'notorious', 'notpp', 'notrade', 'notrump', 'notworthit', 'notyourshield', 'nov11', 'nov8', 'novels', 'now', 'nowhiring', 'nowplaying', 'nowyourecooking', 'np', 'npp', 'nra', 'nrg', 'nrprgroup', 'nrx', 'ns', 'nsa', 'nsightdeals', 'nuclear', 'nufc', 'nuke', 'nuncahillary', 'nupe', 'nurse', 'nurses', 'nuszones', 'nutrition', 'nv', 'nwsl', 'nxcx', 'nxt', 'nybarexam', 'nyc', 'nycc', 'nyccomedy', 'nycforanimals', 'nycreligioninfo', 'nycunderground', 'nydebate', 'nyg', 'nygiants', 'nygiantsfan', 'nyjets', 'nyk', 'nyknicks', 'nym', 'nymets', 'nyr', 'nyrangers', 'nyrvscar', 'nyt', 'nytimes', 'nyy', 'oafc', 'obama', 'obamaalum', 'obamacare', 'obamacarefail', 'obamacarefailed', 'obamacareinthreewords', 'obamacaresaves', 'obamacrat', 'obamaknew', 'obamasucks', 'obamatownhall', 'oblah', 'occult', 'occupationallicensing', 'ocean', 'oceans', 'ocetisakowin', 'octg', 'octobersurprise', 'ofa', 'office', 'officeantics', 'officelife', 'officespace', 'ohare', 'ohhillyes', 'ohio', 'ohiostate', 'ohiouniversity', 'ohvotesea', 'ohvotesearly', 'oil', 'oilers', 'oip', 'oisellevoleuk', 'ojodelhuracncrnegros', 'ok', 'okstate', 'okstate20', 'oldiesbutgoodies', 'oldmanhustle', 'oldrowhalloween', 'oldsouls', 'oldstockcanadian', 'oldwhitemen', 'oldwisconsin', 'olemiss', 'olicity', 'olitz', 'olive', 'olympics', 'omg', 'omla2016', 'omnamobhagavatevasudeva', 'omysoul', 'onegoal', 'onejerseyonefight', 'onenation', 'onesimplechange', 'onesourcebusinessconnections', 'online', 'only', 'onlyinthenfl', 'onlyloserscheat', 'onlytrump', 'onpointlikeastiletto', 'onpoli', 'onpurpose', 'onstargo', 'ontothebyeweek', 'onu', 'onyeanusibonave', 'oott', 'openchallenge', 'opendata', 'openscience', 'opensource', 'openstack', 'openstacksummit', 'openstreetsnash', 'oprah', 'oprodeo', 'opseaworld', 'opsophia', 'opticcsgo', 'or', 'orangecat', 'orangutan', 'orego', 'oregon', 'oregonducks', 'oregonstandoff', 'oreillyfactor', 'organdonor', 'organic', 'organizer', 'orioles', 'orpuw', 'osx', 'otakupress', 'otd', 'oth', 'otsuka', 'ottawa', 'otter', 'ouat', 'ourblueisbetter', 'ourfatherwhoartinheaven', 'ourislanduniverse', 'ouryear', 'out', 'outlander', 'outnow', 'outnumbered', 'outsideinsight', 'overseas', 'overwatch', 'ovo19', 'owensboro', 'ownambassadors', 'owners', 'owngoals', 'ownthefuture', 'ownvoices', 'oxford', 'p2', 'p2b', 'pa', 'pa9', 'paceuniversity', 'pachon08', 'pacificpalisades', 'packaging', 'packers', 'padi', 'padres', 'pah', 'painting', 'paisleyparkday', 'pakactivist', 'pakarmy', 'pakistan', 'paklogic', 'paleoconservative', 'palestine', 'palmoil', 'panamacitybeach', 'panparade', 'panthers', 'pants', 'papaween', 'paper', 'paperballots', 'paraguay', 'paralympics', 'paranormal', 'parasiteryan', 'parentcamp', 'parenting', 'parkgeunhye', 'parliament', 'parrislanding', 'partnershipguy', 'passionate', 'patchgame', 'patconroyday', 'patriot', 'patriotledgernews', 'patriots', 'patriotsnation', 'patriotsunited', 'patriotweek', 'paulamos', 'paulinebooks', 'paulryan', 'paycheck', 'payitforward', 'paytoplay', 'pbsdigitalinnovator', 'pchater', 'pcma', 'pdrupdate', 'pdx', 'peace', 'peacecorps', 'peacefulenergy', 'peak', 'pearljam', 'pecans', 'peckem', 'pedophile', 'pei', 'pence', 'penguins', 'pennsylvan', 'pennsylvani', 'pennsylvania', 'pennystocks', 'pens', 'people', 'peopleskills', 'pepelivesmatter', 'peppapig', 'performance', 'performingmusicartist', 'periscope', 'perpetuatedeath4dollars', 'peston', 'pewdiepie', 'pf', 'pffp', 'pfla', 'pfunk', 'pgcps', 'pharmacist', 'philadelphia', 'philanthropist', 'philanthropy', 'philly', 'philologist', 'philosophy', 'phivsdal', 'phoenix', 'photo', 'photographer', 'photography', 'physicians', 'pianist', 'piano', 'pickensfootball', 'picturebooks', 'piers', 'piersmorganisacunt', 'pillowtalkwithtyka', 'pilot', 'pilots', 'pindick', 'pingame', 'pinkcarpet', 'pinkspringbreak', 'pirate', 'piratenation', 'pirates', 'pissaguise', 'pitch', 'pitt', 'pittiemomma', 'pjfiala', 'pjnet', 'pkk', 'plane', 'planet5050', 'planetamerica', 'plantbased', 'plasticsurgery', 'platedpics', 'play', 'playoffpreview', 'playsoftheday', 'playwright', 'plc', 'pledge', 'pll', 'pllendgame', 'pllforever', 'pln', 'plungetheclunge', 'plur', 'pluralism', 'pm', 'pma', 'pmagenda', 'pmjoy', 'pmlive', 'pmln', 'pnpe', 'po', 'poc', 'pocintech', 'pod', 'podcast', 'podcasthost', 'podd2016', 'pode', 'podes', 'podest', 'podesta', 'podestaem', 'podestaemails', 'podestaemails18', 'podestaemails19', 'podestaemails2', 'podestaemails20', 'podestaemails21', 'podestaemails22', 'podestaemails23', 'podestaemails6', 'podestaleaks', 'poem', 'poet', 'poetry', 'polcan', 'polesinuk', 'police', 'polisci2017', 'politicalfbi', 'politicallyincorrect', 'politicianawards16', 'politics', 'politics101', 'politicsaplay', 'poll', 'polls', 'polyamorous', 'polymath', 'pooralderman', 'popculture', 'popefrancis', 'poprocket', 'por', 'porsche', 'porschegt3', 'pos', 'positive', 'positivethinker', 'posteason', 'potterhead', 'potus', 'potushillary2016', 'powerballadfilmsorshows', 'powerballpermanentvacay', 'powerpackage', 'powerrangerfan', 'powershift', 'powerstrokenation', 'pp', 'ppp', 'pr', 'pragmatic', 'praise', 'praisehim', 'pravingordhan', 'pray', 'prayer', 'prayerwarrior4thepersecuted', 'predators', 'preds', 'prepper', 'prepping', 'present', 'presidency', 'presidenttrump', 'press', 'pressplay', 'presstrips', 'prewrath', 'price', 'priceless', 'prideofbritain', 'prince', 'princeday', 'privatelabel', 'privatewing', 'privatewinginc', 'privatization', 'privileged', 'prize', 'proanons', 'proathlete', 'probullterrier', 'procapitalism', 'process', 'producer', 'produces', 'proera', 'professerbird', 'professor', 'profit', 'progressive', 'proguns', 'proisrael', 'proje', 'projectalex', 'projectmanagement', 'projectveritas', 'projectveritas2016', 'prolife', 'promilitary', 'prop60', 'property', 'propertymanagement', 'prophecy', 'prosanedemocrats', 'prosperingin2016', 'prosperity', 'prosperouscanada', 'prostock', 'protecttxfragilekids', 'protip', 'protrump', 'proudamerican', 'proudboy', 'prouddeplorable', 'proudfan', 'proudintrovert', 'proudmarineaunt', 'proudofobama', 'proudpan', 'proudrepublican', 'proudtobeadeplorable', 'proudtobepa', 'provibloc', 'providaapesardelpp', 'provoke16', 'prowhite', 'prowrestling', 'proxysql', 'ps', 'ps4share', 'psalm', 'psalms', 'psu', 'psychologist', 'psychology', 'psychosexual', 'pt', 'pti', 'ptisupporter', 'ptsd', 'pubcon', 'publicgardens', 'publichealthhaiku', 'publicrelations', 'pulldemolever', 'pumpkin', 'pumpkinday', 'pumpkins', 'punishq', 'punk', 'punting', 'puntingprobs', 'puppetskin', 'puppydog', 'purduegraduate', 'puremichigan', 'purplearmy', 'purpleknight', 'purplerain', 'purplereig', 'purplereign', 'purposeworldtour', 'pushdemobutton', 'pushups', 'putin', 'pvo', 'pw', 'q2', 'qanda', 'qatar', 'qbconnect', 'qe2', 'qlder', 'qmechanics', 'qotd', 'qt', 'qu', 'quail', 'quaker', 'quali', 'qualifiedforpresident', 'quartz', 'queenhillary', 'queenof', 'queenofpop', 'queer', 'quesoff', 'questiontime', 'quett', 'quetta', 'quicksilver', 'quote', 'quoteoftheday', 'quotes', 'quran', 'r4today', 'racist', 'racists', 'radiation', 'radical', 'radicalgenerosity', 'radio', 'radiogolden', 'radioisdead', 'radiology', 'radiostation', 'radshaveaface', 'radthem', 'rahulsp', 'raid', 'raidernation', 'raiders', 'raidertwitter', 'rain', 'raisearuckus', 'raiseit', 'rallies', 'rallyt', 'rallyto', 'rallytogeth', 'rallytogether', 'rampaige', 'randomtweetwed', 'randpaul', 'rangers', 'raonic', 'rap', 'rapefugees', 'rapper', 'raptors', 'rarecoins', 'ratifyera', 'ravens', 'ravensveil', 'raw', 'rawrebellion', 'rawtagteamchampions', 'raypopwatch', 'razorbacks', 'rctid', 'rd', 'rdpipeco', 're', 'reading', 'ready4pornhub', 'readyforhillary', 'realbuzzcharge2', 'realdonaldtrump', 'realestat', 'realestate', 'realestateinvestor', 'realfriends', 'realissues', 'realist', 'realitytv', 'realmadrid', 'realtor', 'realtracymorgan', 'reasonsidontbelieveinagodconstructedbydeeplyflawedhumans', 'rebelhearttour', 'rebelnation', 'rebrand', 'recipe', 'recipes', 'recklessabandon', 'reclaimliu', 'recruiting', 'recruitment', 'redcove', 'reddeath', 'reddeer', 'redesignrebuildreclaim', 'redeye', 'redhat', 'redlivesmatter', 'rednationrising', 'rednecktacobowl', 'redpillhustle', 'reds', 'redskins', 'redsox', 'redsoxnation', 'redtailhawk', 'redvelvet', 'redvolution', 'redwolfnation', 'refndeseladerecha', 'refugeeresettlementwatch', 'refugees', 'refugeesbannedforlife', 'refugeeswelcome', 'refundacin', 'regressiveleft', 'regulations', 'regurgitatingtrump', 'rei', 'reiders', 'reinindc', 'reinintheking', 'rejectedtrumptvshows', 'relax', 'released', 'religionofpeace', 'remain', 'remember13', 'reminder', 'remodeled', 'renewable', 'renewables', 'renewus', 'repealthe8th', 'replug', 'reportingintegrado', 'repubicans', 'republican', 'republicans', 'republifuck', 'repugs', 'repurposed', 'rescue', 'rescueamerica', 'rescuedog', 'resigncomey', 'resilience', 'resources', 'respect', 'resume', 'resutationdr', 'retail', 'retired', 'retiredteacher', 'retiremccain', 'retrogamer', 'retweet', 'retweets', 'reuters', 'revelationtoday', 'revolution', 'rgv', 'rhap', 'rhodeisland', 'rhodescollege', 'rhonj', 'ri', 'richardskippercelebrates', 'richmansgym', 'rickrossfeatchrisbrown', 'rickscott', 'rideordie', 'ridingboots', 'rifftrax', 'rigaconf', 'rigged', 'riggedelection', 'riggedsystem', 'riiiight', 'rikkitikki', 'rio2016', 'rip', 'ripcity', 'ripgrandma', 'ripharambe', 'ripjwatt', 'ripley', 'ripoff', 'ripphil', 'ripphizzurp', 'riprobbie', 'riproygarber', 'ripvine', 'riseabove', 'riseup', 'riskmanagement', 'rivalrynight', 'rmbard', 'rn4l', 'rnha', 'rnwc', 'roadtohouston', 'robes', 'robotics', 'robotwars', 'rochester', 'rock', 'rockchalk', 'rocker', 'rockets', 'rockets50', 'rodeoclown', 'rodstewart', 'roh', 'roi', 'roku', 'rokusweeps', 'rollbucks', 'rolltide', 'rolltribe', 'roma', 'rome', 'romney2016', 'romo', 'rookieblue', 'rosewood', 'rossharris', 'roswell', 'rotterdam', 'route666', 'routesales', 'rowe', 'royalalberthall', 'royals', 'roycooper', 'rrbc', 'rrbcaspiretoinspire', 'rss', 'rssfeed', 'rt', 'rt_com', 'rtr', 'rts', 'rudygiuliani', 'ruggerorespigo', 'runchat', 'runkeeper', 'runner', 'running', 'runupthescore', 'russia', 'russian', 'rustic', 'rutgers', 'rva', 'rvamayor', 'rwnjslayer', 'rx', 'ryanmurphy', 'ryland', 'saa', 'saas', 'sabr', 'sachat', 'sacramentoproud', 'sad', 'sadsack', 'saf16', 'safarilive', 'sag', 'saga', 'sagaftra', 'sailing', 'sailingteam', 'saints', 'saintsfc', 'salad', 'saladcrazy', 'sales', 'salesenthusiast', 'salestraining', 'salisburyrugby', 'saltlife', 'saltonsea', 'samaatv', 'samanthabee', 'samesexbathrooms', 'samsung', 'sanantonio', 'sanantoniospurs', 'sanbernardino', 'sanctuarycounty', 'sandesh2soldiers', 'sandiego', 'sandy', 'sanford', 'sanfranciscobayarea', 'sanghshaktiyuge', 'sanjosegiants', 'sanramon', 'santaclarahoops', 'santamonica', 'sap', 'sapro', 'sapweek', 'sarahmclachlan', 'sarahpalin', 'sarcasm', 'sarcasmfont', 'satchat', 'satire', 'satosere', 'saudi', 'saudi_us_massacres_in_yemen', 'saulleiterassignment', 'savagenation', 'saveagentcarter', 'savemoney', 'savethebees', 'saveusdemocracy', 'savewebcasting', 'savingnosey', 'savings', 'sayfie', 'sayhername', 'sbxlixchamps', 'sc', 'scandal', 'scarierthanghosts', 'scary', 'scaryclown', 'scarystoriesin5words', 'scbwi', 'scherschel', 'scholarship', 'scholastic', 'schwabimpact', 'schwarber', 'scichat', 'scicomm', 'science', 'scienceasitcom', 'scienceisspectacular', 'sciencepolicy', 'scientist', 'scifi', 'scorpio', 'scotland', 'scotus', 'scoutarmy', 'scrapple', 'screenprint', 'screensaver', 'screenwriter', 'screenwriting', 'screwtheblues', 'sctam', 'sczetas', 'sdg16', 'sdgs', 'sdlive', 'sdoh', 'sdpreps', 'se846', 'seafood', 'seahawks', 'sealevel', 'season4', 'seattle', 'seavskc', 'seavsno', 'secdef', 'secede', 'secretsandlies', 'sectionals', 'secularfriend', 'securet', 'security', 'seetheability', 'seiko', 'seinfeld', 'selenaquintanilla', 'selfdrivingcars', 'selffunding', 'selfies', 'sell', 'sellwithcandace', 'sema16', 'senate', 'seniordog', 'seniors', 'sens', 'sensoryux', 'seo', 'separationofchurchandstate', 'septa', 'serbia', 'service', 'setitalks', 'seve', 'sexts', 'sexuality', 'sexually', 'sexy', 'sf', 'sfgiants', 'sfsu', 'sfsummit', 'shakespearelives', 'shameon', 'shameondictatornawaz', 'shameonyouisrael', 'sharelove', 'sharksforhillary', 'sharktank', 'she', 'shelby', 'shenhua', 'shepsexual', 'sheriffs', 'sheshouldcuthisheadoffandboilhiminoil', 'shestheone', 'sheswithus', 'shiageno', 'shillary', 'shinee', 'shipping', 'shippingwars', 'shirt', 'shitlord', 'shitpost', 'shivaay', 'shkrasheedlover', 'shlonged', 'shootatweet', 'shootback', 'shop', 'shopmycloset', 'shoppershour', 'shopping', 'shoutout', 'shubhdeepavli', 'shy', 'sickhillary', 'sicknotweak', 'sickularc', 'sidekick', 'sidneycrosby', 'sign', 'signpetition', 'signs', 'signsatthegatesofhell', 'sikh', 'sikhism', 'silence', 'silhouettesunday', 'siliconvalley', 'silver', 'simplesolutions', 'sinatra', 'sincethenairafell', 'sincitytimes', 'sing', 'singer', 'singersongwriter', 'singersongwriters', 'singkaraoke', 'singlelife', 'singlepayer', 'singoutsydney', 'siouxcity', 'siri', 'sisterlocks', 'sixers', 'sjbarracudas', 'sjiwff', 'sjquakes', 'sjsharks', 'sjsu', 'sjw', 'skeleton', 'ski', 'skies', 'skincare', 'skyline', 'skynewshd', 'slamism', 'slay', 'slayem', 'sleep', 'slingem', 'slippery', 'slowdown', 'slum2school', 'smallbiz', 'smallblockersarestupid', 'smallbusiness', 'smallgovernment', 'smarthome', 'smashinginvermont', 'smb', 'sme', 'smem', 'smile', 'smirkalghul', 'smm', 'smokeandmirrors', 'smokescreen', 'smokeshowoftheday', 'smule', 'snapchatand', 'snarkalecs', 'snf', 'snipers', 'snsd', 'soca', 'soccer', 'soccerconvert', 'socent', 'socialenterprise', 'socialentrepreneur', 'socialism', 'socialist', 'socialmarketing', 'socialmedia', 'socialmediasupport', 'socialsecurity', 'socialtools', 'socinn', 'sociology', 'socjus', 'sogodmadeafarmer', 'sohohouse', 'soinspiring', 'solar', 'solarenergy', 'sold', 'solvehunger', 'some', 'somerville', 'somervillema', 'songwriter', 'sonics', 'sooners', 'soros', 'sorrybuttrue', 'sosfest', 'sosvenezuela', 'sot', 'soulborrowing2', 'soulties', 'soundcloud', 'soundcloudhttps', 'sourceshaveconfirmed', 'southernnotstate', 'southernreach', 'southflorida', 'southkorea', 'southportct', 'southsound', 'sov', 'sowetotheatre', 'sox', 'space', 'spaceflight', 'spain', 'spanaway', 'spanishteacher', 'spartan', 'spartans', 'speaker', 'special', 'specialtypowdercoating', 'speck', 'speechwriter', 'spelman', 'spirituality', 'splashu', 'spn', 'spnfam', 'spnfamily', 'spoileralert', 'sponsorslot', 'spookyscience', 'spoonie', 'sport', 'sports', 'sportsbiz', 'sportscards', 'spotify', 'spotifyforall', 'spottedindubai', 'springairindia', 'spsm', 'spurs', 'spursfan', 'spursup', 'squarespace', 'sries', 'sru20', 'sss_gov', 'ssu19', 'stadium', 'staffing', 'stalin', 'stamina', 'stamps', 'standdown', 'standingrock', 'standup', 'standupandsayso', 'standuptocancer', 'standwit', 'standwithgavin', 'standwithisrael', 'standwithpp', 'standwithstandingrock', 'stanford', 'stanleeday', 'starkville', 'startrekmovie', 'startsitespn', 'startup', 'startupcanawards', 'startups', 'starwarsnerd', 'statecapture', 'statecapturereport', 'statechamp2k15', 'stateoftheclimate', 'statesrights', 'stats', 'stayhyped', 'staywarm', 'staywoke', 'steelernation', 'steelers', 'steelersnation', 'stein16', 'steinbaraka2016', 'steiner', 'stellarsunday', 'stem', 'stemdiversity', 'stepdown', 'stephenking', 'stephentryon', 'stepout', 'sterling', 'stevenmeisel', 'stillcallingit', 'stilldoesnotexcusecomeycollusion', 'stillwithher', 'stl', 'stlcardinals', 'stlcards', 'sto', 'stocks', 'stopanimalcruelty', 'stopchildabuse', 'stopcommoncore', 'stopexecutionsiran', 'stopgiantsfans2016', 'stopglobalization', 'stophillary', 'stopislam', 'stopkillercops', 'stoprush', 'stopsmoking', 'stoptheinsanity', 'stopthest', 'stopthesteal', 'storage', 'storagewars', 'stories', 'storm', 'storm80days', 'story', 'storyteller', 'stpete', 'str', 'strangerthingssoundtrack', 'strasbourg', 'stratahadoop', 'strategist', 'strategy', 'straya', 'street', 'streetart', 'streetphotography', 'stress', 'strictly', 'stripeup', 'striveforgreatness', 'strong', 'strongertoge', 'strongertogether', 'stuckinthemiddle', 'students4trump', 'studio76kitchens', 'studiosunday', 'study', 'stw', 'success', 'successful', 'successtps', 'successtrain', 'suckass', 'sudburylove', 'sufc', 'suicidesurvior', 'suitor', 'suits', 'summer', 'sundayfunday', 'sundaymorning', 'sundaynightfootball', 'sundayspin', 'sundevil', 'sundevilforlife', 'sunnysingh_n6', 'suns', 'sunset', 'sunshine', 'superadyn', 'superbowlxlviii', 'supercoach', 'superjunior', 'supernatural', 'superpreneur', 'supireland', 'supplements', 'supportindiefilm', 'supportmilitary', 'supportourtroops', 'supportourveterans', 'supremecourt', 'surface', 'surfacestudio', 'surfer', 'suriname', 'surkovleaks', 'survivingtothriving', 'survivor', 'survivorseriesqualifier', 'suspense', 'sussex', 'sustainability', 'sustainable', 'svsu', 'swachbharatswasthbharat', 'swamivivekananda', 'swanqueen', 'swayamsewaks', 'sweated', 'sweden', 'sweeps', 'sweepstakes', 'sweetpotato', 'swi', 'swiftie', 'swingstate', 'swingstates', 'swithus', 'switzerland', 'swp', 'sydneyisskyblue', 'sydneyswans', 'synbio', 'syri', 'syria', 'syrian', 'systemyamajambazi', 'szn', 'tagteamtuesday', 'taiji', 'tairp', 'taiz', 'takemymoney', 'taken', 'takenote', 'talent', 'talkingsmack', 'tambo16', 'tambolecture', 'tampa', 'tampol', 'tamworthnsw', 'tangerinenightmare', 'tanzania', 'tapdancer', 'tapoutmusic', 'tastycakes', 'taurus', 'taxpayers', 'taylorlautner', 'taylornation', 'tb12', 'tb74259', 'tbt', 'tcmparty', 'tco', 'tcot', 'tcwot', 'tde', 'tdrwanda', 'tea', 'teachtulsa', 'team', 'team5', 'teamadelle', 'teamadidas', 'teamashanti', 'teamaustralia', 'teamcap', 'teamcapricorn', 'teamceltics', 'teamclinton', 'teamcooneyblack', 'teamcowboys', 'teamculture', 'teamdance', 'teamdreddy', 'teamdrqadri', 'teamdruhill', 'teamds', 'teameagles', 'teamfollowback', 'teamfynsports', 'teamgay', 'teamgermany', 'teamglock', 'teamgriner', 'teamhillary', 'teamhustler', 'teamjawabi', 'teamkaafir', 'teamkaepernick', 'teamklaus', 'teamleo', 'teamlesbian', 'teamlh', 'teammagic', 'teammanchesterunited', 'teammanutd', 'teammarco', 'teammcmullin', 'teammileycyrus', 'teammma', 'teammufc', 'teamnatural', 'teamnc', 'teamnkh', 'teamobama', 'teamoxfordcomma', 'teampeters', 'teamppp', 'teamrap', 'teamready4more', 'teamretweet', 'teamrt2eat', 'teamself', 'teamshaffie', 'teamsingle', 'teamstro', 'teamtatianna', 'teamtomi', 'teamtrump', 'teamtwirl', 'teamusa', 'teamvodka', 'teamxtina', 'teamyankees', 'teaparty', 'tech', 'tech4good', 'techfounder', 'technews', 'technologies', 'technologist', 'technology', 'techscouter', 'teckie', 'tedcruz2016', 'tedtalks', 'tedx', 'tedxaccrawomen', 'tedxlakeeolawomen', 'tedxunam', 'tedxwhitehallwomen', 'teen', 'teenager', 'teens', 'telecollaboration', 'telehealth', 'telemedicine', 'telesecurity', 'telfieapp', 'tell', 'tellitlikeitis', 'temple_mount', 'templemade', 'templeproud', 'tenderpreneurs', 'tennessee', 'tennis', 'tennvssc', 'terminology', 'termlimits', 'terremoto', 'terrorism', 'texan', 'texans', 'texas', 'texaspride', 'texasvotes2016', 'texit', 'tfb', 'tfbjp', 'tfc', 'tgdn', 'th', 'thankful', 'thankgod', 'thanks', 'thankslillyhanbury', 'thanksobama', 'thankspau', 'thankyou', 'thankyouaj', 'thankyoumrwilson', 'thankyoutd', 'thatescalatedquickly', 'thatsmygirl', 'the', 'the7thsense', 'theamericans', 'theangeleffect', 'theatre', 'theavettbrothers', 'thebandmemo', 'thebest', 'theblacklist', 'thebloggesstribe', 'thebruslysignco', 'thecausekc', 'thecoldclintonreality', 'thedefenders', 'thedeplorables', 'thedigitalinfluencer', 'thedrum', 'theeconomist', 'theexorcist', 'thefbi', 'thefertilefemale', 'thefive', 'theflash', 'thefuvote', 'thegeekgirllife', 'thehoodfortrump', 'thehrcsupervols', 'thekellyfile', 'thekingandi', 'theland', 'thelastkingdom', 'thelateryears', 'thelead', 'thelettero', 'themellowtones', 'themiddayshow', 'themindfulway', 'themist', 'thenewday', 'thenooner', 'theoreocat', 'therapistlibrary', 'thereispower', 'thereturn', 'thestate', 'thestrain', 'thevoice', 'thewalkingdead', 'thewalkingdeaduk', 'thingsdo', 'thingsneversaidinhorrorfilms', 'thingsthatannoyme', 'thinkbigsundaywithmarsha', 'thinker', 'thirdworldhellhole', 'thirstythursday', 'thisisit', 'thisissanjose', 'thisisus', 'thispissesmeoff', 'thistown', 'thisunitesus', 'thnte', 'thomas', 'thor', 'thoughtleader', 'thriller', 'thrones', 'throwback', 'throwbackthursday', 'throwscotlandout', 'thunder', 'thunderup', 'thurs', 'thursda', 'thursday', 'thursdaythoughts', 'thursdaytreat', 'thursdaywinner', 'tica', 'ties', 'tifscene', 'tigers', 'tigersunlimited', 'tilikum', 'timeless', 'timesiilucid', 'timymrandmrsvalderama', 'timytheexpresswedding', 'tinysportsman', 'tips', 'titanfall2', 'titans', 'titansarealwaysaverage', 'titanup', 'titleinsurance', 'titosturkeygivea', 'tittysprinkles', 'tjms', 'tkpuppytrooper', 'tksurprise', 'tlap', 'tlb', 'tlf', 'tlot', 'tm', 'tm1dn', 'tml', 'tmomm', 'tmvilno', 'tn', 'tnf', 'tntweeters', 'tnyarchive', 'tobeapartner', 'tommybahama', 'tomorrow', 'tomtuesday', 'tonimorrison', 'tonygoldwynmightbejesus', 'toonami', 'top10', 'topidiot', 'topoli', 'topprog', 'toronto', 'torontobloggers', 'torontofashion', 'torontofc', 'torontomodel', 'torontonightlife', 'totallifechanges', 'towanda', 'towerhamlets', 'townbiz', 'toxicfriends', 'toxictrump', 'toys', 'tphonline', 'tpot', 'tpp', 'tr', 'trade', 'traders', 'trading', 'traditionalist', 'trafficjam', 'trailerparkboys', 'trailingspouse', 'training', 'trains', 'traitor', 'trancefamily', 'trans100', 'transally', 'transhealth', 'transitnerdherd', 'trash', 'travel', 'travelblogger', 'travelbuf', 'traveler', 'travelingdjs', 'travelling', 'tre', 'treatsbydani', 'trecru', 'treeclassicsholidays', 'treehugger', 'treetime', 'trekkie', 'trendfollower', 'trendingtopics', 'trends', 'treygowdy', 'trfclive', 'triad', 'triathlete', 'triathlon', 'tribe', 'trickledowncorruption', 'trickorbrew', 'trickortreat', 'troll', 'trollfactory', 'troops', 'trouser', 'truckdrivers', 'truckdrivingjobs', 'truckers', 'truckgraffiti', 'trudovskie', 'true', 'truecrime', 'trum', 'trump', 'trump2016', 'trump4potus2016', 'trump4prez2016', 'trump_supporter', 'trumpahorrormo', 'trumpahorrormovie', 'trumpblockparty', 'trumpcheck', 'trumpdeplorable', 'trumpfacts', 'trumpforcatholics', 'trumpgirlsbreaktheinternet', 'trumpified', 'trumpinaz', 'trumpismyguy', 'trumpiswinning', 'trumpland', 'trumplandslide', 'trumpleaks', 'trumplican', 'trumplive', 'trumpmovement', 'trumpnationrising', 'trumporganization', 'trumppence', 'trumppence1', 'trumppence16', 'trumppence2016', 'trumppencelandslide', 'trumprally', 'trumprape', 'trumps', 'trumpsarmy', 'trumpsterfire', 'trumpstrong', 'trumpsupporters', 'trumpt', 'trumptape', 'trumptheestablishment', 'trumptower', 'trumptra', 'trumptrain', 'trumptrainchallenge', 'trumptruth', 'trumptv', 'trumpw', 'trumpwasright', 'trumpwillwin', 'trusted', 'trustee', 'trusttheprocess', 'truth', 'tsd', 'tswra', 'ttip', 'ttot', 'ttp', 'ttu20', 'ttu20decent', 'tuesdaymotivation', 'tumblr', 'tump', 'tunein', 'tur', 'turkey', 'turnitupbaby', 'turnncblue', 'turnout', 'turntexasblue', 'turnusablue', 'tuscany', 'tv', 'tvacademy', 'tvog', 'tvshows', 'tvxq', 'twainprize2016', 'twcot', 'twd', 'twdfamily', 'tweebles', 'tweebs', 'tweet4taiji', 'tweetheartus', 'tweetjukebox', 'tweetme', 'twibnation', 'twice', 'twins', 'twitchtober', 'twithaca', 'twitter', 'twitterdesign', 'twitterfingers', 'twitterkurds', 'twittertips', 'tx', 'txbookfest', 'txlege', 'txst', 'txst21', 'tylereifert', 'tyrabanks', 'tyrant', 'uae', 'uca', 'ucf', 'uci', 'ucla', 'ucsb', 'udl', 'udlcomesalive', 'udub', 'uf', 'uf4uf', 'ufc', 'ufo', 'ufos', 'uga', 'ugavsuf', 'ugh', 'uhurutocorr', 'ukbimcrew', 'ukipleader', 'ukraine', 'um', 'umes', 'umphreys', 'umwrfc', 'un', 'unbornli', 'unbornlivesmatter', 'unbranded', 'unc', 'uncg17', 'uncommon', 'unday', 'unday2016', 'underdogs', 'underrated', 'undertaker', 'undocumentedunafraid', 'undoubtable', 'unemployed', 'unequally', 'unggim', 'unh', 'unhcr', 'union', 'unions', 'unique', 'unite', 'uniteblue', 'united', 'unitedagainsthate', 'unitedforukraine', 'uniteright', 'unlv', 'unscriptedtv', 'up', 'update', 'ups', 'upthebeavers', 'urban', 'urbanaction', 'urbanism', 'us', 'usa', 'usaf', 'usafmom', 'usalover', 'usc', 'usccomedyfest', 'uselection', 'usethe19th', 'usf', 'usfa', 'usfalumni', 'usgossip', 'usgov2017', 'uslatino', 'usmc', 'usmcmom', 'usmedia', 'usmilitary', 'usmnt', 'usmummedia', 'usnews', 'uspoli', 'usrc', 'uswdnt', 'uswnt', 'ut', 'ut17', 'ut18', 'uta', 'utah', 'utpo', 'uu', 'uua', 'uwg19', 'uwhuskies', 'uyg', 'v4l', 'va', 'va10', 'vaaccountability', 'vadergold', 'valances', 'vancouver', 'vandeakhandbharatbhumein', 'vandegaumataram', 'vandywhistlersteeth', 'vanguard', 'vanity', 'vanpoli', 'vanre', 'variety', 'vasher', 'vawls', 'vaxxed', 'vbstuactchat', 'vc', 'veeva', 'vegan', 'veganism', 'vegas', 'vegetarian', 'velvetlipglide', 'venicebeach', 'veritas', 'veritasproject', 'vesselofkek', 'veteran', 'veterans', 'vetinspired', 'vets', 'vetslivesmatter', 'vex', 'vfl', 'vflol', 'victoriapark', 'video', 'videoeve', 'videogames', 'videogaymer', 'videomarketing', 'vietnam', 'vietnamvet', 'views', 'vijananajubile', 'vikings', 'vincat', 'vine', 'vinehalloffame', 'vinnustrikes', 'vintage', 'vintagejewelry', 'vip', 'viperclubofamerica', 'viral', 'virginia', 'virgo', 'virgos', 'virtualreality', 'visasandvirtue', 'vishwadharmakijai', 'visuallyimpaired', 'vitamind', 'vogue', 'voice4millions', 'voiceartist', 'voicesonfiyah', 'vol', 'vols', 'volunteer', 'vot', 'vote', 'voteagainsthate', 'votebernie', 'voteblue', 'voteblued', 'votebluedowntheballot', 'votebluedowntheline', 'votediamond', 'votedonaldtrump', 'voteearly', 'voteforhillary', 'voteforhillaryyasyasyas', 'voteforhrc', 'votelatino', 'votelgbt', 'votelocal', 'votenoprop60', 'votenow', 'voteorgrope', 'voteorshutup', 'voteoutcrookeddems2016', 'voter', 'voterf', 'voterfraud', 'voterpurges', 'votersuppression', 'votetexas', 'votethengetout', 'votetr', 'votetrump', 'votetrump2016', 'votetrumppence16', 'voteyesonc', 'voting', 'voting4trump', 'votingmachines', 'votingmatters', 'vpjonxlivefrica', 'vr', 'vt', 'wages', 'wahm', 'waisttrainer', 'waittilnextyear', 'wakeu', 'wakeupamerica', 'wakeupworld', 'waldorf', 'waleedaly', 'walk', 'walking', 'walkingdead', 'wallonia', 'wallstreet', 'walmart', 'walmartwednesday', 'walterhawkins', 'wanderer', 'wanderlust', 'war', 'warcraft', 'ward5', 'wareagle', 'warehouse', 'warmongers', 'waronwaste', 'waronwomen', 'warriors', 'warriorsway', 'warrioryoga', 'washedandproud', 'washedgang', 'washington', 'washingtondc', 'washingtonpost', 'waspi', 'wasvscin', 'watch', 'watchwhitenesswork', 'wate', 'watercolor', 'waterefficiency', 'waterislife', 'waterpolo', 'waterprotectors', 'waterrestrictions', 'watson', 'wavy', 'waw', 'waxwork', 'way', 'waydownwego', 'wbe', 'wbfsydney', 'wcchat', 'wcsea', 'wcth', 'wcvb', 'wcw', 'wde', 'wealth', 'wearables', 'weare', 'weare12', 'wearealldanielblake', 'wearebetterthanthis', 'wearegood', 'wearemorethanshoes', 'wearenotthis', 'weareonenationundergod', 'weareopenstack', 'wearephx', 'wearestreetsmart', 'wearethe48', 'wearethenight', 'wearethunder', 'wearetrump', 'wearevisible', 'wearex', 'weartherose', 'weary', 'weather', 'webappeal', 'webcomic', 'webdesign', 'webradio', 'website', 'websites', 'wed', 'wedn', 'wednesday', 'wednesdaywi', 'wednesdaywisdom', 'wedontlooktoberuled', 'weekend', 'weekendmillionaires', 'weekendphotographer', 'weeklywinners', 'wehaveherback', 'weightlosscoach', 'weiner', 'weinergate', 'weinergate2016', 'weird', 'weirdthingstotakeondates', 'weknowcolumbus', 'welcomebackpotter', 'welcometheholidays', 'wellbeing', 'wellness', 'weloveweavers', 'wemovetheworld', 'wendy', 'wengerout', 'wereallwizards', 'werewithher', 'westallen', 'westbelfast', 'westcoastthebestcoast', 'westvirginia', 'westwing', 'westworld', 'wetoodeep', 'wftv', 'wgwtfa', 'whatsworse', 'whatvoterfraud', 'whatwouldhappen', 'wheniseeyouim', 'wheniwasakid', 'wherearethewomen', 'wherearetheynow', 'whereishafiz', 'whereshuma', 'wheresthefp', 'wherestrump', 'whitegenocide', 'whitehouse', 'whiteprivilege', 'whitesagainsttrump', 'whitesupremacist', 'whitesupremacy', 'whitneyh', 'whodatnation', 'whodey', 'whoopsproof', 'whovian', 'whoyougonnacall', 'whyareyoucastdown', 'whyhet', 'wi', 'wickedbilladams', 'wifi', 'wiforhillary', 'wikilea', 'wikileaks', 'wikinuke', 'wild', 'wildlife', 'will', 'willandgrace', 'williamellerychanning', 'win', 'windians', 'windowtreatments', 'wine', 'winitwednesday', 'winx', 'wisconsin', 'wisdom', 'wishlist', 'withher', 'withherfirst', 'withhillary', 'withrefugees', 'wlclub', 'wleague', 'wmma', 'wmsfmelb', 'wo', 'wojnation', 'woke', 'wolfpack', 'wolves', 'woman', 'women', 'women4trump', 'womenact4climatejustice', 'womenfor', 'womenforrum', 'womenfortrump', 'womenlead', 'womenrights', 'womenscostumes', 'womensrights', 'womenwhovotetrump', 'womenwillsto', 'wonder', 'wonderland', 'wonforall', 'wordpress', 'wordpresstips', 'workersrights', 'worksforsex', 'workshop', 'workshops', 'workspace', 'worl', 'world', 'worlddomination', 'worldmusic', 'worldnews', 'worldoblue', 'worldotday', 'worlds', 'worldseries', 'worldwide', 'worship', 'wowtweets', 'wps', 'wpxi', 'wreckem', 'wrestlemania', 'wrigleyfield', 'wrinkles', 'writer', 'writersatwp', 'writing', 'writter', 'wscatlanta', 'wsdwithchannel42', 'wsf2016', 'wsgame1', 'wsjdlive', 'wsp', 'wtafinals', 'wtb', 'wtd', 'wtrex2016', 'wvu', 'wvufootball', 'wvuvsokst', 'wwaft', 'wwe', 'wwe2k17', 'wwecwc', 'wwenetwork', 'wwenxt', 'wwnnn', 'www', 'wxii', 'wynonnaearp', 'wyomingfossilfuel', 'wyomingoil', 'wyomingoilgascoal', 'wythenshawe', 'xavier', 'xaviernation', 'xbrl', 'xena', 'xenophobiasa', 'xfactor', 'xfm4play', 'xkzero', 'xmenapocalypse', 'xmendaysoffuturespast', 'xula', 'ya', 'yabuhive', 'yahoo', 'yallqaeda', 'yan', 'yankees', 'yankeesnation', 'yawn', 'yazidi', 'yazidis', 'yearsproject', 'yeezyboost', 'yeg', 'yellowduck', 'yelp', 'yemen', 'yeson1433', 'yesshecan', 'yeswestillcan', 'ymm', 'ynwa', 'yoga', 'yogamoment', 'yogaqotd', 'yogi', 'yogurt', 'yoked', 'york', 'you', 'youareloved', 'youcantscaremewithtrump', 'youjustmadethelist', 'youngadult', 'youngma', 'yourbodysawonderland', 'youreclickingit', 'youroutdude', 'yourrightsourfight', 'yourtownisracist', 'youth', 'youthwork', 'youtube', 'youtuber', 'ypg', 'yuengling', 'yuge', 'yum', 'yumforall', 'yummylife', 'zankiefollowsme', 'zaynnmalik', 'zdenekturek', 'zealand', 'zeke', 'zerosuicide', 'zgpromo', 'znation', 'zombiedrunktexts', 'zombies', 'zouk', 'zucchero', 'zumamustfall', 'zumba', 'zupta', 'zurich', 'zutano']\n"
     ]
    }
   ],
   "source": [
    "print(vectorizer.get_feature_names())"
   ]
  },
  {
   "cell_type": "code",
   "execution_count": 663,
   "metadata": {
    "collapsed": true
   },
   "outputs": [
    {
     "data": {
      "text/plain": [
       "(327, 5987)"
      ]
     },
     "execution_count": 663,
     "metadata": {},
     "output_type": "execute_result"
    }
   ],
   "source": [
    "X = matrix\n",
    "X.shape"
   ]
  },
  {
   "cell_type": "markdown",
   "metadata": {},
   "source": [
    "- load ground truth file to filter userIDs for target Y."
   ]
  },
  {
   "cell_type": "code",
   "execution_count": 665,
   "metadata": {
    "collapsed": true
   },
   "outputs": [
    {
     "data": {
      "text/html": [
       "<div>\n",
       "<style>\n",
       "    .dataframe thead tr:only-child th {\n",
       "        text-align: right;\n",
       "    }\n",
       "\n",
       "    .dataframe thead th {\n",
       "        text-align: left;\n",
       "    }\n",
       "\n",
       "    .dataframe tbody tr th {\n",
       "        vertical-align: top;\n",
       "    }\n",
       "</style>\n",
       "<table border=\"1\" class=\"dataframe\">\n",
       "  <thead>\n",
       "    <tr style=\"text-align: right;\">\n",
       "      <th></th>\n",
       "      <th>UserID</th>\n",
       "      <th>BinaryValue</th>\n",
       "    </tr>\n",
       "  </thead>\n",
       "  <tbody>\n",
       "    <tr>\n",
       "      <th>0</th>\n",
       "      <td>23716167</td>\n",
       "      <td>1</td>\n",
       "    </tr>\n",
       "    <tr>\n",
       "      <th>1</th>\n",
       "      <td>1330659342</td>\n",
       "      <td>0</td>\n",
       "    </tr>\n",
       "    <tr>\n",
       "      <th>2</th>\n",
       "      <td>2409166483</td>\n",
       "      <td>1</td>\n",
       "    </tr>\n",
       "    <tr>\n",
       "      <th>3</th>\n",
       "      <td>245307075</td>\n",
       "      <td>1</td>\n",
       "    </tr>\n",
       "    <tr>\n",
       "      <th>4</th>\n",
       "      <td>139657834</td>\n",
       "      <td>0</td>\n",
       "    </tr>\n",
       "  </tbody>\n",
       "</table>\n",
       "</div>"
      ],
      "text/plain": [
       "       UserID BinaryValue\n",
       "0  23716167    1         \n",
       "1  1330659342  0         \n",
       "2  2409166483  1         \n",
       "3  245307075   1         \n",
       "4  139657834   0         "
      ]
     },
     "execution_count": 665,
     "metadata": {},
     "output_type": "execute_result"
    }
   ],
   "source": [
    "column_Names_new = [\"UserID\", \"BinaryValue\"]\n",
    "userClasses = pd.read_table(\"data/clinton_trump_user_classes.txt\", header=None, names=column_Names_new, encoding='ISO-8859-1', dtype='str')\n",
    "userClasses.head()"
   ]
  },
  {
   "cell_type": "code",
   "execution_count": 667,
   "metadata": {
    "collapsed": true
   },
   "outputs": [],
   "source": [
    "def filterClinton_trump_user_classes(list1):\n",
    "    if list1 in IndexedUserId:\n",
    "        return \"True\"\n",
    "    else: \n",
    "        return \"False\""
   ]
  },
  {
   "cell_type": "code",
   "execution_count": 668,
   "metadata": {
    "collapsed": true
   },
   "outputs": [
    {
     "name": "stdout",
     "output_type": "stream",
     "text": [
      "(327, 3)\n"
     ]
    },
    {
     "data": {
      "text/html": [
       "<div>\n",
       "<style>\n",
       "    .dataframe thead tr:only-child th {\n",
       "        text-align: right;\n",
       "    }\n",
       "\n",
       "    .dataframe thead th {\n",
       "        text-align: left;\n",
       "    }\n",
       "\n",
       "    .dataframe tbody tr th {\n",
       "        vertical-align: top;\n",
       "    }\n",
       "</style>\n",
       "<table border=\"1\" class=\"dataframe\">\n",
       "  <thead>\n",
       "    <tr style=\"text-align: right;\">\n",
       "      <th></th>\n",
       "      <th>UserID</th>\n",
       "      <th>BinaryValue</th>\n",
       "      <th>FiltredUser</th>\n",
       "    </tr>\n",
       "  </thead>\n",
       "  <tbody>\n",
       "    <tr>\n",
       "      <th>64994</th>\n",
       "      <td>1004887885</td>\n",
       "      <td>0</td>\n",
       "      <td>True</td>\n",
       "    </tr>\n",
       "    <tr>\n",
       "      <th>68160</th>\n",
       "      <td>100888538</td>\n",
       "      <td>0</td>\n",
       "      <td>True</td>\n",
       "    </tr>\n",
       "    <tr>\n",
       "      <th>75905</th>\n",
       "      <td>102337130</td>\n",
       "      <td>0</td>\n",
       "      <td>True</td>\n",
       "    </tr>\n",
       "    <tr>\n",
       "      <th>71439</th>\n",
       "      <td>1027974188</td>\n",
       "      <td>0</td>\n",
       "      <td>True</td>\n",
       "    </tr>\n",
       "    <tr>\n",
       "      <th>9571</th>\n",
       "      <td>1057984062</td>\n",
       "      <td>0</td>\n",
       "      <td>True</td>\n",
       "    </tr>\n",
       "  </tbody>\n",
       "</table>\n",
       "</div>"
      ],
      "text/plain": [
       "           UserID BinaryValue FiltredUser\n",
       "64994  1004887885  0           True      \n",
       "68160  100888538   0           True      \n",
       "75905  102337130   0           True      \n",
       "71439  1027974188  0           True      \n",
       "9571   1057984062  0           True      "
      ]
     },
     "execution_count": 668,
     "metadata": {},
     "output_type": "execute_result"
    }
   ],
   "source": [
    "userClasses[\"FiltredUser\"] = userClasses[\"UserID\"].apply(filterClinton_trump_user_classes)\n",
    "filterdClinton_trump_user_classes = userClasses[userClasses.FiltredUser != \"False\"]\n",
    "\n",
    "sortedUserIDdf = filterdClinton_trump_user_classes.sort_values(by=['UserID'])\n",
    "\n",
    "print(sortedUserIDdf.shape)\n",
    "sortedUserIDdf.head()"
   ]
  },
  {
   "cell_type": "code",
   "execution_count": 669,
   "metadata": {
    "collapsed": true
   },
   "outputs": [
    {
     "name": "stdout",
     "output_type": "stream",
     "text": [
      "327\n",
      "<class 'numpy.ndarray'>\n",
      "[0 0 0 0 0 0 0 0 0 0 0 0 0 0 0 0 0 0 0 0 0 0 0 0 0 0 0 0 0 0 0 0 0 0 0 0 0\n",
      " 0 0 0 0 0 0 0 0 0 0 0 0 1 1 0 0 1 1 1 1 1 0 0 1 0 1 1 1 1 0 1 1 1 1 1 0 1\n",
      " 1 1 0 1 1 1 1 0 1 0 1 1 1 1 0 1 1 1 1 0 1 1 1 1 0 1 1 0 0 1 1 1 1 0 1 1 0\n",
      " 1 1 0 0 0 0 1 1 1 1 1 1 1 1 1 1 1 1 1 1 1 1 1 1 1 1 1 1 1 1 1 1 1 1 1 1 1\n",
      " 1 1 1 1 1 1 1 1 1 1 1 1 1 1 1 1 1 1 1 1 1 1 1 1 1 1 1 1 1 1 1 1 1 1 1 1 1\n",
      " 1 1 1 1 1 1 1 1 1 0 0 0 0 0 0 0 0 0 0 0 0 0 0 0 0 0 0 0 0 0 0 0 0 0 0 0 0\n",
      " 1 1 0 1 0 1 1 1 1 1 1 1 1 1 0 1 1 1 0 1 1 1 1 1 0 1 1 1 0 1 1 0 0 1 0 0 1\n",
      " 1 1 1 1 1 1 0 1 1 1 0 1 1 1 1 0 1 1 1 1 1 1 1 1 1 0 0 0 1 1 0 0 1 0 1 1 1\n",
      " 1 1 0 1 1 1 0 0 0 1 1 0 1 1 1 1 1 1 1 1 1 1 1 1 1 1 1 1 1 1 1]\n"
     ]
    }
   ],
   "source": [
    "binaryValueColumn = sortedUserIDdf[[\"BinaryValue\"]]\n",
    "y = binaryValueColumn['BinaryValue'].astype('int').tolist()\n",
    "y = np.array(y)\n",
    "\n",
    "print(len(y))\n",
    "print(type(y))\n",
    "print(y)"
   ]
  },
  {
   "cell_type": "markdown",
   "metadata": {},
   "source": [
    "- split the data into training and test "
   ]
  },
  {
   "cell_type": "code",
   "execution_count": 670,
   "metadata": {
    "collapsed": true
   },
   "outputs": [],
   "source": [
    "from sklearn.model_selection import train_test_split\n",
    "\n",
    "X_train, X_test, y_train, y_test = train_test_split(X, y, test_size=0.2, random_state=6)"
   ]
  },
  {
   "cell_type": "code",
   "execution_count": 671,
   "metadata": {
    "collapsed": true
   },
   "outputs": [
    {
     "name": "stdout",
     "output_type": "stream",
     "text": [
      "(261, 5987) (261,)\n",
      "(66, 5987) (66,)\n"
     ]
    },
    {
     "data": {
      "text/plain": [
       "[array([0, 0, 0, 0, 0, 0, 0, 0, 0, 0, 0, 0, 0, 0, 0, 0, 0, 0, 0, 0, 0, 0, 0,\n",
       "        0, 0, 0, 0, 0, 0, 0, 0, 0, 0, 0, 0, 0, 0, 0, 0, 0, 0, 0, 0, 0, 0, 0,\n",
       "        0, 0, 0, 1, 1, 0, 0, 1, 1, 1, 1, 1, 0, 0, 1, 0, 1, 1, 1, 1, 0, 1, 1,\n",
       "        1, 1, 1, 0, 1, 1, 1, 0, 1, 1, 1, 1, 0, 1, 0, 1, 1, 1, 1, 0, 1, 1, 1,\n",
       "        1, 0, 1, 1, 1, 1, 0, 1, 1, 0, 0, 1, 1, 1, 1, 0, 1, 1, 0, 1, 1, 0, 0,\n",
       "        0, 0, 1, 1, 1, 1, 1, 1, 1, 1, 1, 1, 1, 1, 1, 1, 1, 1, 1, 1, 1, 1, 1,\n",
       "        1, 1, 1, 1, 1, 1, 1, 1, 1, 1, 1, 1, 1, 1, 1, 1, 1, 1, 1, 1, 1, 1, 1,\n",
       "        1, 1, 1, 1, 1, 1, 1, 1, 1, 1, 1, 1, 1, 1, 1, 1, 1, 1, 1, 1, 1, 1, 1,\n",
       "        1, 1, 1, 1, 1, 1, 1, 1, 1, 1, 0, 0, 0, 0, 0, 0, 0, 0, 0, 0, 0, 0, 0,\n",
       "        0, 0, 0, 0, 0, 0, 0, 0, 0, 0, 0, 0, 0, 0, 0, 1, 1, 0, 1, 0, 1, 1, 1,\n",
       "        1, 1, 1, 1, 1, 1, 0, 1, 1, 1, 0, 1, 1, 1, 1]),\n",
       " array([1, 0, 1, 1, 1, 0, 1, 1, 0, 0, 1, 0, 0, 1, 1, 1, 1, 1, 1, 1, 0, 1, 1,\n",
       "        1, 0, 1, 1, 1, 1, 0, 1, 1, 1, 1, 1, 1, 1, 1, 1, 0, 0, 0, 1, 1, 0, 0,\n",
       "        1, 0, 1, 1, 1, 1, 1, 0, 1, 1, 1, 0, 0, 0, 1, 1, 0, 1, 1, 1, 1, 1, 1,\n",
       "        1, 1, 1, 1, 1, 1, 1, 1, 1, 1, 1, 1, 1])]"
      ]
     },
     "execution_count": 671,
     "metadata": {},
     "output_type": "execute_result"
    }
   ],
   "source": [
    "print(X_train.shape, y_train.shape)\n",
    "print(X_test.shape, y_test.shape)\n",
    "train_test_split(y, shuffle=False)"
   ]
  },
  {
   "cell_type": "markdown",
   "metadata": {},
   "source": [
    "- Decision Tree"
   ]
  },
  {
   "cell_type": "code",
   "execution_count": 672,
   "metadata": {
    "collapsed": true
   },
   "outputs": [
    {
     "name": "stdout",
     "output_type": "stream",
     "text": [
      "(327, 52)\n",
      "test [1 1 1 0 1 1 1 1 1 0 1 0 1 1 0 1 1 1 0 1]\n",
      "pred [1 0 0 1 1 1 1 1 0 0 1 1 1 1 1 1 0 1 0 1]\n",
      "\n",
      "dtree confusion matrix:  [[ 6 16]\n",
      " [12 32]]\n",
      "dtree precision score:  0.555555555556\n",
      "dtree recall score:  0.575757575758\n",
      "dtreef1 score: 0.563768115942\n"
     ]
    }
   ],
   "source": [
    "#http://scikit-learn.org/stable/modules/feature_selection.html\n",
    "from sklearn import tree\n",
    "import sklearn.metrics as metrics\n",
    "from sklearn.feature_selection import SelectFromModel\n",
    "\n",
    "dtree = tree.DecisionTreeClassifier()\n",
    "dtree = dtree.fit(X_train, y_train)\n",
    "\n",
    "#---------------- Comment out this section to run without feature selection\n",
    "dtree.feature_importances_  \n",
    "model = SelectFromModel(dtree, prefit=True)\n",
    "X_new = model.transform(X)\n",
    "print(X_new.shape)\n",
    "#----------------\n",
    "\n",
    "y_pred_dtree = dtree.predict(X_test)\n",
    "y_prob_dtree = dtree.predict_proba(X_test)\n",
    "\n",
    "print(\"test\", y_test[:20])\n",
    "print(\"pred\", y_pred_dtree[:20])\n",
    "print()\n",
    "\n",
    "# Parameter \"average\" is required if not a binary model\n",
    "dtree_confusion_matrix = metrics.confusion_matrix(y_test,y_pred_dtree)\n",
    "dtree_precision_score = metrics.precision_score(y_test,y_pred_dtree, average='weighted')\n",
    "dtree_recall_score = metrics.recall_score(y_test,y_pred_dtree, average='weighted')\n",
    "dtreef1_score = metrics.f1_score(y_test,y_pred_dtree, average='weighted')\n",
    "\n",
    "\n",
    "print(\"dtree confusion matrix: \",dtree_confusion_matrix)\n",
    "print(\"dtree precision score: \",dtree_precision_score)   \n",
    "print(\"dtree recall score: \",dtree_recall_score)      \n",
    "print(\"dtreef1 score:\", dtreef1_score)          "
   ]
  },
  {
   "cell_type": "markdown",
   "metadata": {},
   "source": [
    "- Support Vector Machine (SVM)"
   ]
  },
  {
   "cell_type": "code",
   "execution_count": 673,
   "metadata": {
    "collapsed": true
   },
   "outputs": [
    {
     "name": "stdout",
     "output_type": "stream",
     "text": [
      "(327, 25)\n",
      "test [1 1 1 0 1 1 1 1 1 0]\n",
      "pred [1 1 1 1 1 1 1 1 1 1]\n",
      "svm confusion matrix:\n",
      " [[ 0 22]\n",
      " [ 0 44]]\n",
      "svm precision score:  0.444444444444\n",
      "svm recall score:  0.666666666667\n",
      "svm f1 score:  0.533333333333\n"
     ]
    },
    {
     "name": "stderr",
     "output_type": "stream",
     "text": [
      "/Users/Ehsan/anaconda3/lib/python3.6/site-packages/sklearn/metrics/classification.py:1135: UndefinedMetricWarning: Precision is ill-defined and being set to 0.0 in labels with no predicted samples.\n",
      "  'precision', 'predicted', average, warn_for)\n",
      "/Users/Ehsan/anaconda3/lib/python3.6/site-packages/sklearn/metrics/classification.py:1135: UndefinedMetricWarning: F-score is ill-defined and being set to 0.0 in labels with no predicted samples.\n",
      "  'precision', 'predicted', average, warn_for)\n"
     ]
    }
   ],
   "source": [
    "from sklearn import svm\n",
    "from sklearn.svm import LinearSVC\n",
    "\n",
    "#svm_clf = svm.SVC().fit(X_train,y_train).fit(X_train,y_train) #without feature selection\n",
    "\n",
    "#---------------- Comment out this section to run without feature selection \n",
    "lsvc = LinearSVC(C=0.09, penalty=\"l1\", dual=False).fit(X_train,y_train)\n",
    "model1 = SelectFromModel(lsvc, prefit=True)\n",
    "X_new1 = model1.transform(X)\n",
    "print(X_new1.shape)\n",
    "#----------------\n",
    "\n",
    "y_pred_svm = svm_clf.predict(X_test)\n",
    "\n",
    "print(\"test\", y_test[:10])\n",
    "print(\"pred\", y_pred_svm[:10])\n",
    "\n",
    "# Parameter \"average\" is required if not a binary model\n",
    "svm_confusion_matrix = metrics.confusion_matrix(y_test,y_pred_svm)\n",
    "svm_precision_score = metrics.precision_score(y_test,y_pred_svm, average='weighted')\n",
    "svm_recall_score = metrics.recall_score(y_test,y_pred_svm, average='weighted')\n",
    "svm_f1_score = metrics.f1_score(y_test,y_pred_svm, average='weighted')\n",
    "\n",
    "print(\"svm confusion matrix:\\n\", svm_confusion_matrix)\n",
    "print(\"svm precision score: \", svm_precision_score)   \n",
    "print(\"svm recall score: \", svm_recall_score)      \n",
    "print(\"svm f1 score: \", svm_f1_score)     "
   ]
  },
  {
   "cell_type": "markdown",
   "metadata": {},
   "source": [
    "- Logistic Regression"
   ]
  },
  {
   "cell_type": "code",
   "execution_count": 674,
   "metadata": {
    "collapsed": true
   },
   "outputs": [
    {
     "name": "stdout",
     "output_type": "stream",
     "text": [
      "test [1 1 1 0 1 1 1 1 1 0]\n",
      "pred [1 0 1 1 1 1 1 1 0 1]\n",
      "Logistic Regression confusion matrix:\n",
      " [[ 0 22]\n",
      " [ 0 44]]\n",
      "Logistic Regression precision score:  0.444444444444\n",
      "Logistic Regression recall score:  0.666666666667\n",
      "Logistic Regression f1 score:  0.533333333333\n"
     ]
    }
   ],
   "source": [
    "import sklearn.linear_model as linear_model\n",
    "\n",
    "linearModel = linear_model.LogisticRegression(penalty= 'l2', dual=False, tol=0.0001, C=1.0)\n",
    "linearModel.fit(X_train, y_train)\n",
    "\n",
    "y_pred_lr = linearModel.predict(X_test)\n",
    "\n",
    "probs_lr = linearModel.predict_proba(X_test)\n",
    "\n",
    "print(\"test\", y_test[:10])\n",
    "print(\"pred\", y_pred_lr[:10])\n",
    "\n",
    "lr_confusion_matrix = metrics.confusion_matrix(y_test,y_pred_lr)\n",
    "lr_precision_score = metrics.precision_score(y_test,y_pred_lr, average='weighted')  \n",
    "lr_recall_score = metrics.recall_score(y_test,y_pred_lr, average='weighted')      \n",
    "lr_f1_score = metrics.f1_score(y_test,y_pred_lr, average='weighted')\n",
    "\n",
    "print(\"Logistic Regression confusion matrix:\\n\", svm_confusion_matrix)\n",
    "print(\"Logistic Regression precision score: \", svm_precision_score)   \n",
    "print(\"Logistic Regression recall score: \", svm_recall_score)      \n",
    "print(\"Logistic Regression f1 score: \", svm_f1_score)"
   ]
  },
  {
   "cell_type": "markdown",
   "metadata": {},
   "source": [
    "#### Perform parameter tuning on k-NN model. Apply 5-fold cross validation on training set and use grid search to find the best K value for k-NN model. Set scoring metric to F1 score (F-measure). Use the best K value identified to train your k-NN model."
   ]
  },
  {
   "cell_type": "code",
   "execution_count": 675,
   "metadata": {
    "collapsed": true
   },
   "outputs": [],
   "source": [
    "from sklearn.neighbors import KNeighborsClassifier\n",
    "from sklearn.model_selection import cross_val_score\n",
    "from sklearn import metrics"
   ]
  },
  {
   "cell_type": "markdown",
   "metadata": {},
   "source": [
    "- 5-fold cross-validation with K=5 for KNN (the n_neighbors parameter)"
   ]
  },
  {
   "cell_type": "code",
   "execution_count": 676,
   "metadata": {
    "collapsed": true
   },
   "outputs": [
    {
     "name": "stdout",
     "output_type": "stream",
     "text": [
      "[ 0.56933101  0.57575758  0.59279869  0.48034188  0.63574939]\n"
     ]
    }
   ],
   "source": [
    "knn = KNeighborsClassifier(n_neighbors=5)\n",
    "scores = cross_val_score(knn, X, y, cv=5, scoring='f1_weighted')  #  returns an array of scores of the estimator for each run of the cross validation.\n",
    "print(scores)"
   ]
  },
  {
   "cell_type": "markdown",
   "metadata": {},
   "source": [
    "- use average accuracy as an estimate of out-of-sample accuracy"
   ]
  },
  {
   "cell_type": "code",
   "execution_count": 677,
   "metadata": {
    "collapsed": true
   },
   "outputs": [
    {
     "name": "stdout",
     "output_type": "stream",
     "text": [
      "0.570795709535\n"
     ]
    }
   ],
   "source": [
    "print(scores.mean())"
   ]
  },
  {
   "cell_type": "markdown",
   "metadata": {},
   "source": [
    "- search for an optimal value of K for KNN"
   ]
  },
  {
   "cell_type": "code",
   "execution_count": 678,
   "metadata": {
    "collapsed": true
   },
   "outputs": [
    {
     "name": "stdout",
     "output_type": "stream",
     "text": [
      "[0.55819082871565051, 0.50075099504343989, 0.56293220959754076, 0.51769601446636115, 0.5707957095351841, 0.55219483563486238, 0.5624111632685016, 0.56763177513519592, 0.55427901689378545, 0.55392883431044382, 0.53762762870331471, 0.59005943593857801, 0.54247000190164119, 0.53162213822073368]\n"
     ]
    }
   ],
   "source": [
    "k_range = list(range(1, 15))\n",
    "k_scores = []\n",
    "for k in k_range:\n",
    "    knn = KNeighborsClassifier(n_neighbors=k)\n",
    "    scores = cross_val_score(knn, X, y, cv=5, scoring='f1_weighted')\n",
    "    k_scores.append(scores.mean())\n",
    "print(k_scores)"
   ]
  },
  {
   "cell_type": "markdown",
   "metadata": {},
   "source": [
    "- plot the value of K for KNN (x-axis) versus the cross-validated accuracy (y-axis)- "
   ]
  },
  {
   "cell_type": "code",
   "execution_count": 679,
   "metadata": {
    "collapsed": true
   },
   "outputs": [
    {
     "data": {
      "image/png": "[encoded data removed]",
      "text/plain": [
       "<matplotlib.figure.Figure at 0x1d806945c0>"
      ]
     },
     "metadata": {},
     "output_type": "display_data"
    }
   ],
   "source": [
    "import matplotlib.pyplot as plt\n",
    "%matplotlib inline\n",
    "\n",
    "plt.plot(k_range, k_scores)\n",
    "plt.xlabel('Value of K for KNN')\n",
    "plt.ylabel('F1 Score based on Cross-Validation')\n",
    "plt.show()"
   ]
  },
  {
   "cell_type": "markdown",
   "metadata": {},
   "source": [
    "- Grid Search"
   ]
  },
  {
   "cell_type": "code",
   "execution_count": 599,
   "metadata": {
    "collapsed": true
   },
   "outputs": [],
   "source": [
    "from sklearn.model_selection import GridSearchCV"
   ]
  },
  {
   "cell_type": "markdown",
   "metadata": {},
   "source": [
    "- define the parameter values that should be searched"
   ]
  },
  {
   "cell_type": "code",
   "execution_count": 680,
   "metadata": {
    "collapsed": true
   },
   "outputs": [
    {
     "name": "stdout",
     "output_type": "stream",
     "text": [
      "[1, 2, 3, 4, 5, 6, 7, 8, 9, 10, 11, 12, 13, 14, 15]\n"
     ]
    }
   ],
   "source": [
    "new_k_range = list(range(1, 16))\n",
    "print(new_k_range)"
   ]
  },
  {
   "cell_type": "markdown",
   "metadata": {},
   "source": [
    "- create a parameter grid: map the parameter names to the values that should be searched"
   ]
  },
  {
   "cell_type": "code",
   "execution_count": 681,
   "metadata": {
    "collapsed": true
   },
   "outputs": [
    {
     "name": "stdout",
     "output_type": "stream",
     "text": [
      "{'n_neighbors': [1, 2, 3, 4, 5, 6, 7, 8, 9, 10, 11, 12, 13, 14, 15]}\n"
     ]
    }
   ],
   "source": [
    "new_param_grid = dict(n_neighbors=new_k_range)\n",
    "print(new_param_grid)\n",
    "\n",
    "new_knn = KNeighborsClassifier(n_neighbors=1)"
   ]
  },
  {
   "cell_type": "markdown",
   "metadata": {},
   "source": [
    "- instantiate the grid"
   ]
  },
  {
   "cell_type": "code",
   "execution_count": 682,
   "metadata": {
    "collapsed": true
   },
   "outputs": [],
   "source": [
    "grid = GridSearchCV(new_knn, new_param_grid, cv=5, scoring='f1_weighted')"
   ]
  },
  {
   "cell_type": "markdown",
   "metadata": {},
   "source": [
    "- fit the grid with data"
   ]
  },
  {
   "cell_type": "code",
   "execution_count": 683,
   "metadata": {
    "collapsed": true
   },
   "outputs": [
    {
     "data": {
      "text/plain": [
       "GridSearchCV(cv=5, error_score='raise',\n",
       "       estimator=KNeighborsClassifier(algorithm='auto', leaf_size=30, metric='minkowski',\n",
       "           metric_params=None, n_jobs=1, n_neighbors=1, p=2,\n",
       "           weights='uniform'),\n",
       "       fit_params=None, iid=True, n_jobs=1,\n",
       "       param_grid={'n_neighbors': [1, 2, 3, 4, 5, 6, 7, 8, 9, 10, 11, 12, 13, 14, 15]},\n",
       "       pre_dispatch='2*n_jobs', refit=True, return_train_score='warn',\n",
       "       scoring='f1_weighted', verbose=0)"
      ]
     },
     "execution_count": 683,
     "metadata": {},
     "output_type": "execute_result"
    }
   ],
   "source": [
    "grid.fit(X, y)"
   ]
  },
  {
   "cell_type": "markdown",
   "metadata": {},
   "source": [
    "- view the complete results (list of named tuples)"
   ]
  },
  {
   "cell_type": "code",
   "execution_count": 684,
   "metadata": {
    "collapsed": true
   },
   "outputs": [
    {
     "data": {
      "text/plain": [
       "array([ 0.55807136,  0.50034437,  0.56256466,  0.51743814,  0.5708064 ,\n",
       "        0.55217673,  0.56221756,  0.56734496,  0.55388788,  0.55366992,\n",
       "        0.53725693,  0.58953515,  0.54215617,  0.5313517 ,  0.52304191])"
      ]
     },
     "execution_count": 684,
     "metadata": {},
     "output_type": "execute_result"
    }
   ],
   "source": [
    "means = grid.cv_results_['mean_test_score']\n",
    "means"
   ]
  },
  {
   "cell_type": "code",
   "execution_count": 685,
   "metadata": {
    "collapsed": true
   },
   "outputs": [
    {
     "data": {
      "text/plain": [
       "[{'n_neighbors': 1},\n",
       " {'n_neighbors': 2},\n",
       " {'n_neighbors': 3},\n",
       " {'n_neighbors': 4},\n",
       " {'n_neighbors': 5},\n",
       " {'n_neighbors': 6},\n",
       " {'n_neighbors': 7},\n",
       " {'n_neighbors': 8},\n",
       " {'n_neighbors': 9},\n",
       " {'n_neighbors': 10},\n",
       " {'n_neighbors': 11},\n",
       " {'n_neighbors': 12},\n",
       " {'n_neighbors': 13},\n",
       " {'n_neighbors': 14},\n",
       " {'n_neighbors': 15}]"
      ]
     },
     "execution_count": 685,
     "metadata": {},
     "output_type": "execute_result"
    }
   ],
   "source": [
    "grid.cv_results_['params']"
   ]
  },
  {
   "cell_type": "markdown",
   "metadata": {},
   "source": [
    "- print out the mean scores with corresponding paramsters. "
   ]
  },
  {
   "cell_type": "code",
   "execution_count": 686,
   "metadata": {
    "collapsed": true
   },
   "outputs": [
    {
     "name": "stdout",
     "output_type": "stream",
     "text": [
      "0.558071363064 {'n_neighbors': 1}\n",
      "0.500344372578 {'n_neighbors': 2}\n",
      "0.562564660321 {'n_neighbors': 3}\n",
      "0.517438142409 {'n_neighbors': 4}\n",
      "0.570806404243 {'n_neighbors': 5}\n",
      "0.552176727217 {'n_neighbors': 6}\n",
      "0.56221756114 {'n_neighbors': 7}\n",
      "0.567344964857 {'n_neighbors': 8}\n",
      "0.553887877602 {'n_neighbors': 9}\n",
      "0.553669922004 {'n_neighbors': 10}\n",
      "0.537256932741 {'n_neighbors': 11}\n",
      "0.589535152893 {'n_neighbors': 12}\n",
      "0.542156174263 {'n_neighbors': 13}\n",
      "0.531351702459 {'n_neighbors': 14}\n",
      "0.523041911738 {'n_neighbors': 15}\n"
     ]
    }
   ],
   "source": [
    "for mean, params in zip(means, grid.cv_results_['params']):\n",
    "    print(mean, params)"
   ]
  },
  {
   "cell_type": "markdown",
   "metadata": {},
   "source": [
    "- plot the results"
   ]
  },
  {
   "cell_type": "code",
   "execution_count": 687,
   "metadata": {
    "collapsed": true
   },
   "outputs": [
    {
     "data": {
      "image/png": "[encoded data removed]",
      "text/plain": [
       "<matplotlib.figure.Figure at 0x1be8cb1cf8>"
      ]
     },
     "metadata": {},
     "output_type": "display_data"
    }
   ],
   "source": [
    "plt.plot(new_k_range, means)\n",
    "plt.xlabel('Value of K for KNN')\n",
    "plt.ylabel('F1 score based on Grid-Search')\n",
    "plt.show()"
   ]
  },
  {
   "cell_type": "code",
   "execution_count": 688,
   "metadata": {
    "collapsed": true
   },
   "outputs": [
    {
     "name": "stdout",
     "output_type": "stream",
     "text": [
      "0.589535152893\n",
      "{'n_neighbors': 12}\n",
      "KNeighborsClassifier(algorithm='auto', leaf_size=30, metric='minkowski',\n",
      "           metric_params=None, n_jobs=1, n_neighbors=12, p=2,\n",
      "           weights='uniform')\n"
     ]
    }
   ],
   "source": [
    "print(grid.best_score_)\n",
    "print(grid.best_params_)\n",
    "print(grid.best_estimator_)"
   ]
  },
  {
   "cell_type": "markdown",
   "metadata": {},
   "source": [
    "- Training the model with the best value of K (K=12)."
   ]
  },
  {
   "cell_type": "code",
   "execution_count": 689,
   "metadata": {
    "collapsed": true
   },
   "outputs": [
    {
     "data": {
      "text/plain": [
       "KNeighborsClassifier(algorithm='auto', leaf_size=30, metric='minkowski',\n",
       "           metric_params=None, n_jobs=1, n_neighbors=12, p=2,\n",
       "           weights='uniform')"
      ]
     },
     "execution_count": 689,
     "metadata": {},
     "output_type": "execute_result"
    }
   ],
   "source": [
    "#https://stackoverflow.com/questions/5064928/difference-between-classification-and-clustering-in-data-mining\n",
    "knn_final = KNeighborsClassifier(n_neighbors=12, weights='uniform')\n",
    "knn_final.fit(X, y)"
   ]
  },
  {
   "cell_type": "code",
   "execution_count": 690,
   "metadata": {
    "collapsed": true
   },
   "outputs": [
    {
     "name": "stdout",
     "output_type": "stream",
     "text": [
      "test [1 1 1 0 1 1 1 1 1 0]\n",
      "pred [1 0 1 0 1 1 1 1 0 1]\n",
      "KNN confusion matrix:\n",
      " [[ 7 15]\n",
      " [ 5 39]]\n",
      "KNN precision score:  0.675925925926\n",
      "KNN recall score:  0.69696969697\n",
      "KNN f1 score:  0.667867146859\n"
     ]
    }
   ],
   "source": [
    "y_pred_knn = grid.predict(X_test)\n",
    "\n",
    "probs_knn = linearModel.predict_proba(X_test)\n",
    "\n",
    "print(\"test\", y_test[:10])\n",
    "print(\"pred\", y_pred_knn[:10])\n",
    "\n",
    "knn_confusion_matrix = metrics.confusion_matrix(y_test,y_pred_knn)\n",
    "knn_precision_score = metrics.precision_score(y_test,y_pred_knn, average='weighted')  \n",
    "knn_recall_score = metrics.recall_score(y_test,y_pred_knn, average='weighted')      \n",
    "knn_f1_score = metrics.f1_score(y_test,y_pred_knn, average='weighted')\n",
    "\n",
    "print(\"KNN confusion matrix:\\n\", knn_confusion_matrix)\n",
    "print(\"KNN precision score: \", knn_precision_score)   \n",
    "print(\"KNN recall score: \", knn_recall_score)      \n",
    "print(\"KNN f1 score: \", knn_f1_score)"
   ]
  },
  {
   "cell_type": "markdown",
   "metadata": {},
   "source": [
    "#### Plot the F1 score against K value based on the results you achieved from grid search for parameter turning on k-NN."
   ]
  },
  {
   "cell_type": "code",
   "execution_count": 691,
   "metadata": {
    "collapsed": true
   },
   "outputs": [
    {
     "data": {
      "image/png": "[encoded data removed]",
      "text/plain": [
       "<matplotlib.figure.Figure at 0x1d8336cb38>"
      ]
     },
     "metadata": {},
     "output_type": "display_data"
    }
   ],
   "source": [
    "plt.plot(new_k_range, means)\n",
    "plt.xlabel('Value of K for KNN')\n",
    "plt.ylabel('F1 score based on Grid-Search')\n",
    "plt.show()"
   ]
  },
  {
   "cell_type": "markdown",
   "metadata": {},
   "source": [
    "We found the best value is 12 for K."
   ]
  },
  {
   "cell_type": "markdown",
   "metadata": {},
   "source": [
    "#### Using the test set, compute the confusion matrix, the precision, recall and F-measure for (1) Decision Tree, (2) k-NN, (3) SVM, and (4) Logistic Regression. For k-NN, use the best K value identified from grid search."
   ]
  },
  {
   "cell_type": "code",
   "execution_count": 692,
   "metadata": {
    "collapsed": true
   },
   "outputs": [
    {
     "name": "stdout",
     "output_type": "stream",
     "text": [
      "1.Decision Tree:\n",
      "dtree confusion matrix: \n",
      " [[ 6 16]\n",
      " [12 32]]\n",
      "dtree precision score:  0.555555555556\n",
      "dtree recall score:  0.575757575758\n",
      "dtreef1 score: 0.563768115942\n"
     ]
    }
   ],
   "source": [
    "print(\"1.Decision Tree:\")\n",
    "print(\"dtree confusion matrix: \\n\",dtree_confusion_matrix)\n",
    "print(\"dtree precision score: \",dtree_precision_score)   \n",
    "print(\"dtree recall score: \",dtree_recall_score)      \n",
    "print(\"dtreef1 score:\", dtreef1_score)      "
   ]
  },
  {
   "cell_type": "code",
   "execution_count": 693,
   "metadata": {
    "collapsed": true
   },
   "outputs": [
    {
     "name": "stdout",
     "output_type": "stream",
     "text": [
      "3.SVM:\n",
      "svm confusion matrix:\n",
      " [[ 0 22]\n",
      " [ 0 44]]\n",
      "svm precision score:  0.444444444444\n",
      "svm recall score:  0.666666666667\n",
      "svm f1 score:  0.533333333333\n"
     ]
    }
   ],
   "source": [
    "print(\"3.SVM:\")\n",
    "print(\"svm confusion matrix:\\n\", svm_confusion_matrix)\n",
    "print(\"svm precision score: \", svm_precision_score)   \n",
    "print(\"svm recall score: \", svm_recall_score)      \n",
    "print(\"svm f1 score: \", svm_f1_score)"
   ]
  },
  {
   "cell_type": "code",
   "execution_count": 694,
   "metadata": {
    "collapsed": true
   },
   "outputs": [
    {
     "name": "stdout",
     "output_type": "stream",
     "text": [
      "4.Logistic Regression:\n",
      "Logistic Regression confusion matrix:\n",
      " [[ 0 22]\n",
      " [ 0 44]]\n",
      "Logistic Regression precision score:  0.444444444444\n",
      "Logistic Regression recall score:  0.666666666667\n",
      "Logistic Regression f1 score:  0.533333333333\n"
     ]
    }
   ],
   "source": [
    "print(\"4.Logistic Regression:\")\n",
    "print(\"Logistic Regression confusion matrix:\\n\", svm_confusion_matrix)\n",
    "print(\"Logistic Regression precision score: \", svm_precision_score)   \n",
    "print(\"Logistic Regression recall score: \", svm_recall_score)      \n",
    "print(\"Logistic Regression f1 score: \", svm_f1_score)"
   ]
  }
 ],
 "metadata": {
  "kernelspec": {
   "display_name": "Python 3",
   "language": "python",
   "name": "python3"
  },
  "language_info": {
   "codemirror_mode": {
    "name": "ipython",
    "version": 3
   },
   "file_extension": ".py",
   "mimetype": "text/x-python",
   "name": "python",
   "nbconvert_exporter": "python",
   "pygments_lexer": "ipython3",
   "version": "3.6.3"
  }
 },
 "nbformat": 4,
 "nbformat_minor": 2
}
